{
 "cells": [
  {
   "cell_type": "markdown",
   "metadata": {},
   "source": [
    "# 프로젝트: Spectrogram classification 모델 구현"
   ]
  },
  {
   "cell_type": "markdown",
   "metadata": {},
   "source": [
    "목표 : 2차원 Spectrogram 데이터를 입력받아 모델을 기본 버전과 Skip-connection 버전으로 나누어 훈련 시킨후, 테스트 데이터로 예측 결과를 확인한다. "
   ]
  },
  {
   "cell_type": "markdown",
   "metadata": {},
   "source": [
    "## 1. 데이터 처리와 분류\n",
    "\n",
    "라벨 데이터 처리하기  \n",
    "sklearn의 train_test_split함수를 이용하여 train, test 분리  "
   ]
  },
  {
   "cell_type": "code",
   "execution_count": 1,
   "metadata": {},
   "outputs": [
    {
     "name": "stdout",
     "output_type": "stream",
     "text": [
      "Wave data shape :  (50620, 8000)\n",
      "Label data shape :  (50620, 1)\n"
     ]
    }
   ],
   "source": [
    "import numpy as np\n",
    "import os\n",
    "\n",
    "data_path = os.getenv(\"HOME\")+'/aiffel/speech_recognition/data/speech_wav_8000.npz'\n",
    "speech_data = np.load(data_path)\n",
    "print(\"Wave data shape : \", speech_data[\"wav_vals\"].shape)\n",
    "print(\"Label data shape : \", speech_data[\"label_vals\"].shape)"
   ]
  },
  {
   "cell_type": "markdown",
   "metadata": {},
   "source": [
    "### 데이터 크기 조절"
   ]
  },
  {
   "cell_type": "code",
   "execution_count": 2,
   "metadata": {},
   "outputs": [],
   "source": [
    "speech_data_vals = speech_data[\"wav_vals\"][:30000]"
   ]
  },
  {
   "cell_type": "code",
   "execution_count": 3,
   "metadata": {},
   "outputs": [],
   "source": [
    "speech_data_label = speech_data[\"label_vals\"][:30000]"
   ]
  },
  {
   "cell_type": "markdown",
   "metadata": {},
   "source": [
    "### label에 index 부여 후 label_data 생성"
   ]
  },
  {
   "cell_type": "code",
   "execution_count": 4,
   "metadata": {},
   "outputs": [
    {
     "name": "stdout",
     "output_type": "stream",
     "text": [
      "LABEL :  ['yes', 'no', 'up', 'down', 'left', 'right', 'on', 'off', 'stop', 'go', 'unknown', 'silence']\n",
      "Indexed LABEL :  {'yes': 0, 'no': 1, 'up': 2, 'down': 3, 'left': 4, 'right': 5, 'on': 6, 'off': 7, 'stop': 8, 'go': 9, 'unknown': 10, 'silence': 11}\n"
     ]
    }
   ],
   "source": [
    "target_list = ['yes', 'no', 'up', 'down', 'left', 'right', 'on', 'off', 'stop', 'go']\n",
    "\n",
    "label_value = target_list\n",
    "label_value.append('unknown')\n",
    "label_value.append('silence')\n",
    "\n",
    "print('LABEL : ', label_value)\n",
    "\n",
    "new_label_value = dict()\n",
    "for i, l in enumerate(label_value):\n",
    "    new_label_value[l] = i\n",
    "label_value = new_label_value\n",
    "\n",
    "print('Indexed LABEL : ', new_label_value)"
   ]
  },
  {
   "cell_type": "code",
   "execution_count": 5,
   "metadata": {},
   "outputs": [
    {
     "data": {
      "text/plain": [
       "array([3, 3, 3, ..., 7, 7, 7])"
      ]
     },
     "execution_count": 5,
     "metadata": {},
     "output_type": "execute_result"
    }
   ],
   "source": [
    "temp = []\n",
    "for v in speech_data_label:\n",
    "    temp.append(label_value[v[0]])\n",
    "label_data = np.array(temp)\n",
    "\n",
    "label_data"
   ]
  },
  {
   "cell_type": "markdown",
   "metadata": {},
   "source": [
    "###  음성데이터를 2차원 Spectrogram 으로 변환"
   ]
  },
  {
   "cell_type": "code",
   "execution_count": 6,
   "metadata": {},
   "outputs": [
    {
     "name": "stdout",
     "output_type": "stream",
     "text": [
      "✅\n"
     ]
    }
   ],
   "source": [
    "import librosa\n",
    "\n",
    "def wav2spec(wav, fft_size=258): # spectrogram shape을 맞추기위해서 size 변형\n",
    "    D = np.abs(librosa.stft(wav, n_fft=fft_size))\n",
    "    return D\n",
    "print(\"✅\")"
   ]
  },
  {
   "cell_type": "code",
   "execution_count": 7,
   "metadata": {},
   "outputs": [
    {
     "data": {
      "text/plain": [
       "(30000, 130, 126)"
      ]
     },
     "execution_count": 7,
     "metadata": {},
     "output_type": "execute_result"
    }
   ],
   "source": [
    "temp2 = []\n",
    "for v in speech_data_vals:\n",
    "    temp2.append(wav2spec(v))\n",
    "    \n",
    "speech_data_spec = np.array(temp2)\n",
    "speech_data_spec.shape   "
   ]
  },
  {
   "cell_type": "markdown",
   "metadata": {},
   "source": [
    "### train 과 test 데이터 분리 "
   ]
  },
  {
   "cell_type": "code",
   "execution_count": 8,
   "metadata": {},
   "outputs": [
    {
     "name": "stdout",
     "output_type": "stream",
     "text": [
      "✅\n"
     ]
    }
   ],
   "source": [
    "from sklearn.model_selection import train_test_split\n",
    "\n",
    "train_wav, test_wav, train_label, test_label = train_test_split(speech_data_spec, \n",
    "                                                                label_data, \n",
    "                                                                test_size=0.1,\n",
    "                                                                shuffle=True)\n",
    "train_wav = train_wav.reshape([-1,  130, 126, 1]) # add channel for CNN\n",
    "test_wav = test_wav.reshape([-1,  130, 126, 1])\n",
    "print(\"✅\")"
   ]
  },
  {
   "cell_type": "code",
   "execution_count": 9,
   "metadata": {},
   "outputs": [
    {
     "data": {
      "text/plain": [
       "(27000, 130, 126, 1)"
      ]
     },
     "execution_count": 9,
     "metadata": {},
     "output_type": "execute_result"
    }
   ],
   "source": [
    "train_wav.shape"
   ]
  },
  {
   "cell_type": "code",
   "execution_count": 9,
   "metadata": {},
   "outputs": [
    {
     "name": "stdout",
     "output_type": "stream",
     "text": [
      "train data :  (27000, 130, 126, 1)\n",
      "train labels :  (27000,)\n",
      "test data :  (3000, 130, 126, 1)\n",
      "test labels :  (3000,)\n",
      "✅\n"
     ]
    }
   ],
   "source": [
    "print(\"train data : \", train_wav.shape)\n",
    "print(\"train labels : \", train_label.shape)\n",
    "print(\"test data : \", test_wav.shape)\n",
    "print(\"test labels : \", test_label.shape)\n",
    "print(\"✅\")"
   ]
  },
  {
   "cell_type": "markdown",
   "metadata": {},
   "source": [
    "## 2. 학습을 위한 하이퍼파라미터 설정"
   ]
  },
  {
   "cell_type": "code",
   "execution_count": 9,
   "metadata": {},
   "outputs": [
    {
     "data": {
      "text/plain": [
       "'/home/ssac6/aiffel/speech_recognition/models/wav'"
      ]
     },
     "execution_count": 9,
     "metadata": {},
     "output_type": "execute_result"
    }
   ],
   "source": [
    "batch_size = 64\n",
    "max_epochs = 10\n",
    "\n",
    "# the save point\n",
    "checkpoint_dir = os.getenv('HOME')+'/aiffel/speech_recognition/models/wav'\n",
    "\n",
    "checkpoint_dir"
   ]
  },
  {
   "cell_type": "markdown",
   "metadata": {},
   "source": [
    "**Callback**  \n",
    "model.fit 함수를 이용할 때, callback 함수를 이용해서 학습 중간 중간 원하는 동작을 하도록 설정할 수 있습니다.  \n",
    "모델을 재사용하기위해서 모델 가중치를 저장하는 callback 함수를 추가  "
   ]
  },
  {
   "cell_type": "code",
   "execution_count": 10,
   "metadata": {},
   "outputs": [
    {
     "name": "stdout",
     "output_type": "stream",
     "text": [
      "✅\n"
     ]
    }
   ],
   "source": [
    "import tensorflow as tf\n",
    "cp_callback = tf.keras.callbacks.ModelCheckpoint(checkpoint_dir,\n",
    "                                                 save_weights_only=True,\n",
    "                                                 monitor='val_loss',\n",
    "                                                 mode='auto',\n",
    "                                                 save_best_only=True,\n",
    "                                                 verbose=1)\n",
    "print(\"✅\")"
   ]
  },
  {
   "cell_type": "markdown",
   "metadata": {},
   "source": [
    "## 3. 데이터셋 구성\n",
    "tf.data.Dataset을 이용  \n",
    "from_tensor_slices 함수에 return 받길 원하는 데이터를 튜플 (data, label) 형태로 넣어서 사용  \n",
    "map과 batch를 이용한 데이터 전처리  "
   ]
  },
  {
   "cell_type": "code",
   "execution_count": 11,
   "metadata": {},
   "outputs": [
    {
     "name": "stdout",
     "output_type": "stream",
     "text": [
      "✅\n"
     ]
    }
   ],
   "source": [
    "def one_hot_label(wav, label):\n",
    "    label = tf.one_hot(label, depth=12)\n",
    "    return wav, label\n",
    "print(\"✅\")"
   ]
  },
  {
   "cell_type": "code",
   "execution_count": 12,
   "metadata": {},
   "outputs": [
    {
     "name": "stdout",
     "output_type": "stream",
     "text": [
      "<BatchDataset shapes: ((None, 130, 126, 1), (None, 12)), types: (tf.float32, tf.float32)>\n",
      "<BatchDataset shapes: ((None, 130, 126, 1), (None, 12)), types: (tf.float32, tf.float32)>\n",
      "✅\n"
     ]
    }
   ],
   "source": [
    "import tensorflow as tf\n",
    "\n",
    "# for train\n",
    "train_dataset = tf.data.Dataset.from_tensor_slices((train_wav, train_label))\n",
    "train_dataset = train_dataset.map(one_hot_label)\n",
    "train_dataset = train_dataset.repeat().batch(batch_size=batch_size)\n",
    "print(train_dataset)\n",
    "\n",
    "# for test\n",
    "test_dataset = tf.data.Dataset.from_tensor_slices((test_wav, test_label))\n",
    "test_dataset = test_dataset.map(one_hot_label)\n",
    "test_dataset = test_dataset.batch(batch_size=batch_size)\n",
    "print(test_dataset)\n",
    "print(\"✅\")"
   ]
  },
  {
   "cell_type": "code",
   "execution_count": 13,
   "metadata": {},
   "outputs": [],
   "source": [
    "del speech_data\n",
    "del speech_data_spec"
   ]
  },
  {
   "cell_type": "markdown",
   "metadata": {},
   "source": [
    "## 4. 2차원 Spectrogram 데이터를 처리하는 모델 구성"
   ]
  },
  {
   "cell_type": "markdown",
   "metadata": {},
   "source": [
    "### 4-1. 기본 버전으로 모델 생성 \n",
    "2차원 Spectrogram 데이터를 입력 Conv2D layer를 적용"
   ]
  },
  {
   "cell_type": "code",
   "execution_count": 14,
   "metadata": {},
   "outputs": [
    {
     "name": "stdout",
     "output_type": "stream",
     "text": [
      "Model: \"model\"\n",
      "_________________________________________________________________\n",
      "Layer (type)                 Output Shape              Param #   \n",
      "=================================================================\n",
      "input_1 (InputLayer)         [(None, 130, 126, 1)]     0         \n",
      "_________________________________________________________________\n",
      "conv2d (Conv2D)              (None, 130, 126, 32)      2624      \n",
      "_________________________________________________________________\n",
      "conv2d_1 (Conv2D)            (None, 130, 126, 32)      82976     \n",
      "_________________________________________________________________\n",
      "max_pooling2d (MaxPooling2D) (None, 65, 63, 32)        0         \n",
      "_________________________________________________________________\n",
      "conv2d_2 (Conv2D)            (None, 65, 63, 64)        165952    \n",
      "_________________________________________________________________\n",
      "conv2d_3 (Conv2D)            (None, 65, 63, 64)        331840    \n",
      "_________________________________________________________________\n",
      "max_pooling2d_1 (MaxPooling2 (None, 32, 31, 64)        0         \n",
      "_________________________________________________________________\n",
      "conv2d_4 (Conv2D)            (None, 32, 31, 128)       663680    \n",
      "_________________________________________________________________\n",
      "conv2d_5 (Conv2D)            (None, 32, 31, 128)       1327232   \n",
      "_________________________________________________________________\n",
      "conv2d_6 (Conv2D)            (None, 32, 31, 128)       1327232   \n",
      "_________________________________________________________________\n",
      "max_pooling2d_2 (MaxPooling2 (None, 16, 15, 128)       0         \n",
      "_________________________________________________________________\n",
      "conv2d_7 (Conv2D)            (None, 16, 15, 256)       2654464   \n",
      "_________________________________________________________________\n",
      "conv2d_8 (Conv2D)            (None, 16, 15, 256)       5308672   \n",
      "_________________________________________________________________\n",
      "conv2d_9 (Conv2D)            (None, 16, 15, 256)       5308672   \n",
      "_________________________________________________________________\n",
      "max_pooling2d_3 (MaxPooling2 (None, 8, 7, 256)         0         \n",
      "_________________________________________________________________\n",
      "dropout (Dropout)            (None, 8, 7, 256)         0         \n",
      "_________________________________________________________________\n",
      "flatten (Flatten)            (None, 14336)             0         \n",
      "_________________________________________________________________\n",
      "dense (Dense)                (None, 256)               3670272   \n",
      "_________________________________________________________________\n",
      "batch_normalization (BatchNo (None, 256)               1024      \n",
      "_________________________________________________________________\n",
      "activation (Activation)      (None, 256)               0         \n",
      "_________________________________________________________________\n",
      "dense_1 (Dense)              (None, 12)                3084      \n",
      "=================================================================\n",
      "Total params: 20,847,724\n",
      "Trainable params: 20,847,212\n",
      "Non-trainable params: 512\n",
      "_________________________________________________________________\n"
     ]
    }
   ],
   "source": [
    "from tensorflow.keras import layers\n",
    "\n",
    "input_tensor = layers.Input(shape=(130, 126, 1))\n",
    "\n",
    "x = layers.Conv2D(32, 9, padding='same', activation='relu')(input_tensor)\n",
    "x = layers.Conv2D(32, 9, padding='same', activation='relu')(x)\n",
    "x = layers.MaxPool2D()(x)\n",
    "\n",
    "x = layers.Conv2D(64, 9, padding='same', activation='relu')(x)\n",
    "x = layers.Conv2D(64, 9, padding='same', activation='relu')(x)\n",
    "x = layers.MaxPool2D()(x)\n",
    "\n",
    "x = layers.Conv2D(128, 9, padding='same', activation='relu')(x)\n",
    "x = layers.Conv2D(128, 9, padding='same', activation='relu')(x)\n",
    "x = layers.Conv2D(128, 9, padding='same', activation='relu')(x)\n",
    "x = layers.MaxPool2D()(x)\n",
    "\n",
    "x = layers.Conv2D(256, 9, padding='same', activation='relu')(x)\n",
    "x = layers.Conv2D(256, 9, padding='same', activation='relu')(x)\n",
    "x = layers.Conv2D(256, 9, padding='same', activation='relu')(x)\n",
    "x = layers.MaxPool2D()(x)\n",
    "x = layers.Dropout(0.3)(x)\n",
    "\n",
    "x = layers.Flatten()(x)\n",
    "x = layers.Dense(256)(x)\n",
    "x = layers.BatchNormalization()(x)\n",
    "x = layers.Activation('relu')(x)\n",
    "\n",
    "output_tensor = layers.Dense(12)(x)\n",
    "\n",
    "model2 = tf.keras.Model(input_tensor, output_tensor)\n",
    "\n",
    "model2.summary()"
   ]
  },
  {
   "cell_type": "code",
   "execution_count": 15,
   "metadata": {},
   "outputs": [
    {
     "name": "stdout",
     "output_type": "stream",
     "text": [
      "✅\n"
     ]
    }
   ],
   "source": [
    "optimizer=tf.keras.optimizers.Adam(1e-4)\n",
    "model2.compile(loss=tf.keras.losses.CategoricalCrossentropy(from_logits=True),\n",
    "             optimizer=optimizer,\n",
    "             metrics=['accuracy'])\n",
    "print(\"✅\")"
   ]
  },
  {
   "cell_type": "markdown",
   "metadata": {},
   "source": [
    "### 4-2. Skip-Connection 모델 생성\n",
    "2차원 Spectrogram 데이터를 입력 Conv2D layer를 적용"
   ]
  },
  {
   "cell_type": "code",
   "execution_count": 15,
   "metadata": {},
   "outputs": [
    {
     "name": "stdout",
     "output_type": "stream",
     "text": [
      "Model: \"model\"\n",
      "__________________________________________________________________________________________________\n",
      "Layer (type)                    Output Shape         Param #     Connected to                     \n",
      "==================================================================================================\n",
      "input_1 (InputLayer)            [(None, 130, 126, 1) 0                                            \n",
      "__________________________________________________________________________________________________\n",
      "conv2d (Conv2D)                 (None, 130, 126, 32) 2624        input_1[0][0]                    \n",
      "__________________________________________________________________________________________________\n",
      "conv2d_1 (Conv2D)               (None, 130, 126, 32) 82976       conv2d[0][0]                     \n",
      "__________________________________________________________________________________________________\n",
      "max_pooling2d (MaxPooling2D)    (None, 65, 63, 32)   0           conv2d_1[0][0]                   \n",
      "__________________________________________________________________________________________________\n",
      "conv2d_2 (Conv2D)               (None, 65, 63, 64)   165952      max_pooling2d[0][0]              \n",
      "__________________________________________________________________________________________________\n",
      "conv2d_3 (Conv2D)               (None, 65, 63, 64)   331840      conv2d_2[0][0]                   \n",
      "__________________________________________________________________________________________________\n",
      "tf_op_layer_concat (TensorFlowO [(None, 65, 63, 96)] 0           conv2d_3[0][0]                   \n",
      "                                                                 max_pooling2d[0][0]              \n",
      "__________________________________________________________________________________________________\n",
      "max_pooling2d_1 (MaxPooling2D)  (None, 32, 31, 96)   0           tf_op_layer_concat[0][0]         \n",
      "__________________________________________________________________________________________________\n",
      "conv2d_4 (Conv2D)               (None, 32, 31, 128)  995456      max_pooling2d_1[0][0]            \n",
      "__________________________________________________________________________________________________\n",
      "conv2d_5 (Conv2D)               (None, 32, 31, 128)  1327232     conv2d_4[0][0]                   \n",
      "__________________________________________________________________________________________________\n",
      "conv2d_6 (Conv2D)               (None, 32, 31, 128)  1327232     conv2d_5[0][0]                   \n",
      "__________________________________________________________________________________________________\n",
      "tf_op_layer_concat_1 (TensorFlo [(None, 32, 31, 224) 0           conv2d_6[0][0]                   \n",
      "                                                                 max_pooling2d_1[0][0]            \n",
      "__________________________________________________________________________________________________\n",
      "max_pooling2d_2 (MaxPooling2D)  (None, 16, 15, 224)  0           tf_op_layer_concat_1[0][0]       \n",
      "__________________________________________________________________________________________________\n",
      "conv2d_7 (Conv2D)               (None, 16, 15, 256)  4645120     max_pooling2d_2[0][0]            \n",
      "__________________________________________________________________________________________________\n",
      "conv2d_8 (Conv2D)               (None, 16, 15, 256)  5308672     conv2d_7[0][0]                   \n",
      "__________________________________________________________________________________________________\n",
      "conv2d_9 (Conv2D)               (None, 16, 15, 256)  5308672     conv2d_8[0][0]                   \n",
      "__________________________________________________________________________________________________\n",
      "tf_op_layer_concat_2 (TensorFlo [(None, 16, 15, 480) 0           conv2d_9[0][0]                   \n",
      "                                                                 max_pooling2d_2[0][0]            \n",
      "__________________________________________________________________________________________________\n",
      "max_pooling2d_3 (MaxPooling2D)  (None, 8, 7, 480)    0           tf_op_layer_concat_2[0][0]       \n",
      "__________________________________________________________________________________________________\n",
      "dropout (Dropout)               (None, 8, 7, 480)    0           max_pooling2d_3[0][0]            \n",
      "__________________________________________________________________________________________________\n",
      "flatten (Flatten)               (None, 26880)        0           dropout[0][0]                    \n",
      "__________________________________________________________________________________________________\n",
      "dense (Dense)                   (None, 256)          6881536     flatten[0][0]                    \n",
      "__________________________________________________________________________________________________\n",
      "batch_normalization (BatchNorma (None, 256)          1024        dense[0][0]                      \n",
      "__________________________________________________________________________________________________\n",
      "activation (Activation)         (None, 256)          0           batch_normalization[0][0]        \n",
      "__________________________________________________________________________________________________\n",
      "dense_1 (Dense)                 (None, 12)           3084        activation[0][0]                 \n",
      "==================================================================================================\n",
      "Total params: 26,381,420\n",
      "Trainable params: 26,380,908\n",
      "Non-trainable params: 512\n",
      "__________________________________________________________________________________________________\n"
     ]
    }
   ],
   "source": [
    "from tensorflow.keras import layers\n",
    "input_tensor = layers.Input(shape=(130, 126, 1))\n",
    "\n",
    "x = layers.Conv2D(32, 9, padding='same', activation='relu')(input_tensor)\n",
    "x = layers.Conv2D(32, 9, padding='same', activation='relu')(x)\n",
    "skip_1 = layers.MaxPool2D()(x)\n",
    "\n",
    "x = layers.Conv2D(64, 9, padding='same', activation='relu')(skip_1)\n",
    "x = layers.Conv2D(64, 9, padding='same', activation='relu')(x)\n",
    "x = tf.concat([x, skip_1], -1)\n",
    "skip_2 = layers.MaxPool2D()(x)\n",
    "\n",
    "x = layers.Conv2D(128, 9, padding='same', activation='relu')(skip_2)\n",
    "x = layers.Conv2D(128, 9, padding='same', activation='relu')(x)\n",
    "x = layers.Conv2D(128, 9, padding='same', activation='relu')(x)\n",
    "x = tf.concat([x, skip_2], -1)\n",
    "skip_3 = layers.MaxPool2D()(x)\n",
    "\n",
    "x = layers.Conv2D(256, 9, padding='same', activation='relu')(skip_3)\n",
    "x = layers.Conv2D(256, 9, padding='same', activation='relu')(x)\n",
    "x = layers.Conv2D(256, 9, padding='same', activation='relu')(x)\n",
    "x = tf.concat([x, skip_3], -1)\n",
    "x = layers.MaxPool2D()(x)\n",
    "x = layers.Dropout(0.3)(x)\n",
    "\n",
    "x = layers.Flatten()(x)\n",
    "x = layers.Dense(256)(x)\n",
    "x = layers.BatchNormalization()(x)\n",
    "x = layers.Activation('relu')(x)\n",
    "\n",
    "output_tensor = layers.Dense(12)(x)\n",
    "\n",
    "model_wav_skip = tf.keras.Model(input_tensor, output_tensor)\n",
    "\n",
    "model_wav_skip.summary()"
   ]
  },
  {
   "cell_type": "code",
   "execution_count": 16,
   "metadata": {},
   "outputs": [
    {
     "name": "stdout",
     "output_type": "stream",
     "text": [
      "✅\n"
     ]
    }
   ],
   "source": [
    "optimizer=tf.keras.optimizers.Adam(1e-4)\n",
    "model_wav_skip.compile(loss=tf.keras.losses.CategoricalCrossentropy(from_logits=True),\n",
    "             optimizer=optimizer,\n",
    "             metrics=['accuracy'])\n",
    "print(\"✅\")"
   ]
  },
  {
   "cell_type": "markdown",
   "metadata": {},
   "source": [
    "## 5. 학습 후, 학습이 어떻게 진행됐는지 그래프로 출력\n",
    "\n",
    "모델 학습 후, loss, accuracy를 그래프로 표현  "
   ]
  },
  {
   "cell_type": "markdown",
   "metadata": {},
   "source": [
    "### 5-1. 기본 버전 모델 학습과 결과 그래프"
   ]
  },
  {
   "cell_type": "markdown",
   "metadata": {},
   "source": [
    "### (기본 버전) 모델 학습"
   ]
  },
  {
   "cell_type": "code",
   "execution_count": 16,
   "metadata": {},
   "outputs": [
    {
     "name": "stdout",
     "output_type": "stream",
     "text": [
      "Epoch 1/10\n",
      "421/421 [==============================] - ETA: 0s - loss: 0.8409 - accuracy: 0.7101\n",
      "Epoch 00001: val_loss improved from inf to 0.42386, saving model to /home/ssac6/aiffel/speech_recognition/models/wav\n",
      "421/421 [==============================] - 105s 248ms/step - loss: 0.8409 - accuracy: 0.7101 - val_loss: 0.4239 - val_accuracy: 0.8906\n",
      "Epoch 2/10\n",
      "421/421 [==============================] - ETA: 0s - loss: 0.2403 - accuracy: 0.9216\n",
      "Epoch 00002: val_loss improved from 0.42386 to 0.18375, saving model to /home/ssac6/aiffel/speech_recognition/models/wav\n",
      "421/421 [==============================] - 99s 235ms/step - loss: 0.2403 - accuracy: 0.9216 - val_loss: 0.1838 - val_accuracy: 0.9412\n",
      "Epoch 3/10\n",
      "421/421 [==============================] - ETA: 0s - loss: 0.1555 - accuracy: 0.9489\n",
      "Epoch 00003: val_loss improved from 0.18375 to 0.16652, saving model to /home/ssac6/aiffel/speech_recognition/models/wav\n",
      "421/421 [==============================] - 107s 253ms/step - loss: 0.1555 - accuracy: 0.9489 - val_loss: 0.1665 - val_accuracy: 0.9463\n",
      "Epoch 4/10\n",
      "421/421 [==============================] - ETA: 0s - loss: 0.1218 - accuracy: 0.9584\n",
      "Epoch 00004: val_loss improved from 0.16652 to 0.14987, saving model to /home/ssac6/aiffel/speech_recognition/models/wav\n",
      "421/421 [==============================] - 103s 244ms/step - loss: 0.1218 - accuracy: 0.9584 - val_loss: 0.1499 - val_accuracy: 0.9518\n",
      "Epoch 5/10\n",
      "421/421 [==============================] - ETA: 0s - loss: 0.1000 - accuracy: 0.9659\n",
      "Epoch 00005: val_loss did not improve from 0.14987\n",
      "421/421 [==============================] - 100s 237ms/step - loss: 0.1000 - accuracy: 0.9659 - val_loss: 0.1608 - val_accuracy: 0.9490\n",
      "Epoch 6/10\n",
      "421/421 [==============================] - ETA: 0s - loss: 0.0828 - accuracy: 0.9720\n",
      "Epoch 00006: val_loss improved from 0.14987 to 0.11492, saving model to /home/ssac6/aiffel/speech_recognition/models/wav\n",
      "421/421 [==============================] - 101s 239ms/step - loss: 0.0828 - accuracy: 0.9720 - val_loss: 0.1149 - val_accuracy: 0.9626\n",
      "Epoch 7/10\n",
      "421/421 [==============================] - ETA: 0s - loss: 0.0756 - accuracy: 0.9737\n",
      "Epoch 00007: val_loss improved from 0.11492 to 0.10885, saving model to /home/ssac6/aiffel/speech_recognition/models/wav\n",
      "421/421 [==============================] - 101s 239ms/step - loss: 0.0756 - accuracy: 0.9737 - val_loss: 0.1088 - val_accuracy: 0.9677\n",
      "Epoch 8/10\n",
      "421/421 [==============================] - ETA: 0s - loss: 0.0688 - accuracy: 0.9764\n",
      "Epoch 00008: val_loss did not improve from 0.10885\n",
      "421/421 [==============================] - 100s 237ms/step - loss: 0.0688 - accuracy: 0.9764 - val_loss: 0.1280 - val_accuracy: 0.9623\n",
      "Epoch 9/10\n",
      "421/421 [==============================] - ETA: 0s - loss: 0.0676 - accuracy: 0.9762\n",
      "Epoch 00009: val_loss improved from 0.10885 to 0.09599, saving model to /home/ssac6/aiffel/speech_recognition/models/wav\n",
      "421/421 [==============================] - 100s 238ms/step - loss: 0.0676 - accuracy: 0.9762 - val_loss: 0.0960 - val_accuracy: 0.9711\n",
      "Epoch 10/10\n",
      "421/421 [==============================] - ETA: 0s - loss: 0.0580 - accuracy: 0.9794\n",
      "Epoch 00010: val_loss did not improve from 0.09599\n",
      "421/421 [==============================] - 100s 237ms/step - loss: 0.0580 - accuracy: 0.9794 - val_loss: 0.1216 - val_accuracy: 0.9657\n",
      "✅\n"
     ]
    }
   ],
   "source": [
    "#30분 내외 소요 (메모리 사용량에 주의해 주세요.)\n",
    "history_wav2 = model2.fit(train_dataset, epochs=max_epochs,\n",
    "                    steps_per_epoch=len(train_wav) // batch_size,\n",
    "                    validation_data=test_dataset,\n",
    "                    validation_steps=len(test_wav) // batch_size,\n",
    "                    callbacks=[cp_callback]\n",
    "                    )\n",
    "print(\"✅\")"
   ]
  },
  {
   "cell_type": "markdown",
   "metadata": {},
   "source": [
    "### (기본 버전) loss, accuracy를 그래프로 표현"
   ]
  },
  {
   "cell_type": "code",
   "execution_count": 17,
   "metadata": {},
   "outputs": [
    {
     "data": {
      "image/png": "[encoded data removed]",
      "text/plain": [
       "<Figure size 576x576 with 2 Axes>"
      ]
     },
     "metadata": {
      "needs_background": "light"
     },
     "output_type": "display_data"
    },
    {
     "name": "stdout",
     "output_type": "stream",
     "text": [
      "✅\n"
     ]
    }
   ],
   "source": [
    "import matplotlib.pyplot as plt\n",
    "\n",
    "acc2 = history_wav2.history['accuracy']\n",
    "val_acc2 = history_wav2.history['val_accuracy']\n",
    "\n",
    "loss2=history_wav2.history['loss']\n",
    "val_loss2=history_wav2.history['val_loss']\n",
    "\n",
    "epochs_range2 = range(len(acc2))\n",
    "\n",
    "plt.figure(figsize=(8, 8))\n",
    "plt.subplot(1, 2, 1)\n",
    "plt.plot(epochs_range2, acc2, label='Training Accuracy')\n",
    "plt.plot(epochs_range2, val_acc2, label='Validation Accuracy')\n",
    "plt.legend(loc='lower right')\n",
    "plt.title('Training and Validation Accuracy')\n",
    "\n",
    "plt.subplot(1, 2, 2)\n",
    "plt.plot(epochs_range2, loss2, label='Training Loss')\n",
    "plt.plot(epochs_range2, val_loss2, label='Validation Loss')\n",
    "plt.legend(loc='upper right')\n",
    "plt.title('Training and Validation Loss')\n",
    "\n",
    "plt.show()\n",
    "print(\"✅\")"
   ]
  },
  {
   "cell_type": "markdown",
   "metadata": {},
   "source": [
    "### 5-2. Skip-Connection 모델 학습과 결과 그래프"
   ]
  },
  {
   "cell_type": "markdown",
   "metadata": {},
   "source": [
    "### ( Skip-Connection ) 모델 학습"
   ]
  },
  {
   "cell_type": "code",
   "execution_count": 17,
   "metadata": {},
   "outputs": [
    {
     "name": "stdout",
     "output_type": "stream",
     "text": [
      "Epoch 1/10\n",
      "421/421 [==============================] - ETA: 0s - loss: 0.8752 - accuracy: 0.7085\n",
      "Epoch 00001: val_loss improved from inf to 0.31052, saving model to /home/ssac6/aiffel/speech_recognition/models/wav\n",
      "421/421 [==============================] - 101s 241ms/step - loss: 0.8752 - accuracy: 0.7085 - val_loss: 0.3105 - val_accuracy: 0.8971\n",
      "Epoch 2/10\n",
      "421/421 [==============================] - ETA: 0s - loss: 0.2206 - accuracy: 0.9277\n",
      "Epoch 00002: val_loss improved from 0.31052 to 0.19906, saving model to /home/ssac6/aiffel/speech_recognition/models/wav\n",
      "421/421 [==============================] - 102s 242ms/step - loss: 0.2206 - accuracy: 0.9277 - val_loss: 0.1991 - val_accuracy: 0.9310\n",
      "Epoch 3/10\n",
      "421/421 [==============================] - ETA: 0s - loss: 0.1366 - accuracy: 0.9558\n",
      "Epoch 00003: val_loss improved from 0.19906 to 0.19850, saving model to /home/ssac6/aiffel/speech_recognition/models/wav\n",
      "421/421 [==============================] - 103s 244ms/step - loss: 0.1366 - accuracy: 0.9558 - val_loss: 0.1985 - val_accuracy: 0.9361\n",
      "Epoch 4/10\n",
      "421/421 [==============================] - ETA: 0s - loss: 0.1045 - accuracy: 0.9646\n",
      "Epoch 00004: val_loss improved from 0.19850 to 0.15236, saving model to /home/ssac6/aiffel/speech_recognition/models/wav\n",
      "421/421 [==============================] - 102s 243ms/step - loss: 0.1045 - accuracy: 0.9646 - val_loss: 0.1524 - val_accuracy: 0.9490\n",
      "Epoch 5/10\n",
      "421/421 [==============================] - ETA: 0s - loss: 0.0830 - accuracy: 0.9718\n",
      "Epoch 00005: val_loss did not improve from 0.15236\n",
      "421/421 [==============================] - 101s 241ms/step - loss: 0.0830 - accuracy: 0.9718 - val_loss: 0.1862 - val_accuracy: 0.9402\n",
      "Epoch 6/10\n",
      "421/421 [==============================] - ETA: 0s - loss: 0.0729 - accuracy: 0.9762\n",
      "Epoch 00006: val_loss improved from 0.15236 to 0.13711, saving model to /home/ssac6/aiffel/speech_recognition/models/wav\n",
      "421/421 [==============================] - 103s 244ms/step - loss: 0.0729 - accuracy: 0.9762 - val_loss: 0.1371 - val_accuracy: 0.9558\n",
      "Epoch 7/10\n",
      "421/421 [==============================] - ETA: 0s - loss: 0.0603 - accuracy: 0.9800\n",
      "Epoch 00007: val_loss improved from 0.13711 to 0.09304, saving model to /home/ssac6/aiffel/speech_recognition/models/wav\n",
      "421/421 [==============================] - 102s 243ms/step - loss: 0.0603 - accuracy: 0.9800 - val_loss: 0.0930 - val_accuracy: 0.9684\n",
      "Epoch 8/10\n",
      "421/421 [==============================] - ETA: 0s - loss: 0.0569 - accuracy: 0.9803\n",
      "Epoch 00008: val_loss did not improve from 0.09304\n",
      "421/421 [==============================] - 102s 242ms/step - loss: 0.0569 - accuracy: 0.9803 - val_loss: 0.1163 - val_accuracy: 0.9664\n",
      "Epoch 9/10\n",
      "421/421 [==============================] - ETA: 0s - loss: 0.0525 - accuracy: 0.9815\n",
      "Epoch 00009: val_loss did not improve from 0.09304\n",
      "421/421 [==============================] - 102s 242ms/step - loss: 0.0525 - accuracy: 0.9815 - val_loss: 0.1131 - val_accuracy: 0.9630\n",
      "Epoch 10/10\n",
      "421/421 [==============================] - ETA: 0s - loss: 0.0490 - accuracy: 0.9829\n",
      "Epoch 00010: val_loss did not improve from 0.09304\n",
      "421/421 [==============================] - 102s 241ms/step - loss: 0.0490 - accuracy: 0.9829 - val_loss: 0.1225 - val_accuracy: 0.9654\n",
      "✅\n"
     ]
    }
   ],
   "source": [
    "#30분 내외 소요 (메모리 사용량에 주의해 주세요.)\n",
    "history_wav1 = model_wav_skip.fit(train_dataset, epochs=max_epochs,\n",
    "                    steps_per_epoch=len(train_wav) // batch_size,\n",
    "                    validation_data=test_dataset,\n",
    "                    validation_steps=len(test_wav) // batch_size,\n",
    "                    callbacks=[cp_callback]\n",
    "                    )\n",
    "print(\"✅\")"
   ]
  },
  {
   "cell_type": "markdown",
   "metadata": {},
   "source": [
    "### ( Skip-Connection ) loss, accuracy를 그래프로 표현"
   ]
  },
  {
   "cell_type": "code",
   "execution_count": 18,
   "metadata": {},
   "outputs": [
    {
     "data": {
      "image/png": "[encoded data removed]",
      "text/plain": [
       "<Figure size 576x576 with 2 Axes>"
      ]
     },
     "metadata": {
      "needs_background": "light"
     },
     "output_type": "display_data"
    },
    {
     "name": "stdout",
     "output_type": "stream",
     "text": [
      "✅\n"
     ]
    }
   ],
   "source": [
    "import matplotlib.pyplot as plt\n",
    "\n",
    "acc1 = history_wav1.history['accuracy']\n",
    "val_acc1 = history_wav1.history['val_accuracy']\n",
    "\n",
    "loss1=history_wav1.history['loss']\n",
    "val_loss1=history_wav1.history['val_loss']\n",
    "\n",
    "epochs_range1 = range(len(acc1))\n",
    "\n",
    "plt.figure(figsize=(8, 8))\n",
    "plt.subplot(1, 2, 1)\n",
    "plt.plot(epochs_range1, acc1, label='Training Accuracy')\n",
    "plt.plot(epochs_range1, val_acc1, label='Validation Accuracy')\n",
    "plt.legend(loc='lower right')\n",
    "plt.title('Training and Validation Accuracy')\n",
    "\n",
    "plt.subplot(1, 2, 2)\n",
    "plt.plot(epochs_range1, loss1, label='Training Loss')\n",
    "plt.plot(epochs_range1, val_loss1, label='Validation Loss')\n",
    "plt.legend(loc='upper right')\n",
    "plt.title('Training and Validation Loss')\n",
    "\n",
    "plt.show()\n",
    "print(\"✅\")"
   ]
  },
  {
   "cell_type": "markdown",
   "metadata": {},
   "source": [
    "## 6. Test dataset을 이용해서 모델의 성능을 평가  \n",
    "저장한 weight 불러오기  \n",
    "모델의 예측값과 정답값이 얼마나 일치하는지 확인  "
   ]
  },
  {
   "cell_type": "markdown",
   "metadata": {},
   "source": [
    "### 6-1. 기본 모델 테스트 결과 : loss 0.09, accuracy 97%"
   ]
  },
  {
   "cell_type": "code",
   "execution_count": 18,
   "metadata": {},
   "outputs": [
    {
     "name": "stdout",
     "output_type": "stream",
     "text": [
      "✅\n"
     ]
    }
   ],
   "source": [
    "model2.load_weights(checkpoint_dir)\n",
    "print(\"✅\")"
   ]
  },
  {
   "cell_type": "code",
   "execution_count": 19,
   "metadata": {},
   "outputs": [
    {
     "name": "stdout",
     "output_type": "stream",
     "text": [
      "47/47 [==============================] - 20s 425ms/step - loss: 0.0949 - accuracy: 0.9713\n",
      "✅\n"
     ]
    }
   ],
   "source": [
    "results2 = model2.evaluate(test_dataset)\n",
    "print(\"✅\")"
   ]
  },
  {
   "cell_type": "code",
   "execution_count": 20,
   "metadata": {},
   "outputs": [
    {
     "name": "stdout",
     "output_type": "stream",
     "text": [
      "loss value: 0.095\n",
      "accuracy value: 97.1333%\n",
      "✅\n"
     ]
    }
   ],
   "source": [
    "# loss\n",
    "print(\"loss value: {:.3f}\".format(results2[0]))\n",
    "# accuracy\n",
    "print(\"accuracy value: {:.4f}%\".format(results2[1]*100))\n",
    "print(\"✅\")"
   ]
  },
  {
   "cell_type": "code",
   "execution_count": 21,
   "metadata": {},
   "outputs": [
    {
     "name": "stdout",
     "output_type": "stream",
     "text": [
      "label :  left\n"
     ]
    },
    {
     "data": {
      "text/html": [
       "\n",
       "                <audio  controls=\"controls\" >\n",
       "                    <source src=\"data:audio/wav;base64,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\" type=\"audio/wav\" />\n",
       "                    Your browser does not support the audio element.\n",
       "                </audio>\n",
       "              "
      ],
      "text/plain": [
       "<IPython.lib.display.Audio object>"
      ]
     },
     "execution_count": 21,
     "metadata": {},
     "output_type": "execute_result"
    }
   ],
   "source": [
    "import IPython.display as ipd\n",
    "import random\n",
    "inv_label_value = {v: k for k, v in label_value.items()}\n",
    "batch_index = np.random.choice(len(test_wav), size=1, replace=False)\n",
    "\n",
    "batch_xs = test_wav[batch_index]\n",
    "batch_ys = test_label[batch_index]\n",
    "y_pred_ = model2(batch_xs, training=False)\n",
    "\n",
    "print(\"label : \", str(inv_label_value[batch_ys[0]]))\n",
    "\n",
    "ipd.Audio(batch_xs.reshape(130, 126,), rate=8000)"
   ]
  },
  {
   "cell_type": "code",
   "execution_count": 22,
   "metadata": {},
   "outputs": [
    {
     "name": "stdout",
     "output_type": "stream",
     "text": [
      "y_pred: left(Correct!)\n",
      "✅\n"
     ]
    }
   ],
   "source": [
    "if np.argmax(y_pred_) == batch_ys[0]:\n",
    "    print(\"y_pred: \" + str(inv_label_value[np.argmax(y_pred_)]) + '(Correct!)')\n",
    "else:\n",
    "    print(\"y_pred: \" + str(inv_label_value[np.argmax(y_pred_)]) + '(Incorrect!)')\n",
    "print(\"✅\")"
   ]
  },
  {
   "cell_type": "markdown",
   "metadata": {},
   "source": [
    "### 6-2. Skip-Connection 모델 테스트 결과 : loss 0.09, accuracy 96%"
   ]
  },
  {
   "cell_type": "code",
   "execution_count": 20,
   "metadata": {},
   "outputs": [
    {
     "name": "stdout",
     "output_type": "stream",
     "text": [
      "✅\n"
     ]
    }
   ],
   "source": [
    "model_wav_skip.load_weights(checkpoint_dir)\n",
    "print(\"✅\")"
   ]
  },
  {
   "cell_type": "code",
   "execution_count": 21,
   "metadata": {},
   "outputs": [
    {
     "name": "stdout",
     "output_type": "stream",
     "text": [
      "47/47 [==============================] - 16s 349ms/step - loss: 0.0942 - accuracy: 0.9687\n",
      "✅\n"
     ]
    }
   ],
   "source": [
    "results1 = model_wav_skip.evaluate(test_dataset)\n",
    "print(\"✅\")"
   ]
  },
  {
   "cell_type": "code",
   "execution_count": 22,
   "metadata": {},
   "outputs": [
    {
     "name": "stdout",
     "output_type": "stream",
     "text": [
      "loss value: 0.094\n",
      "accuracy value: 96.8667%\n",
      "✅\n"
     ]
    }
   ],
   "source": [
    "# loss\n",
    "print(\"loss value: {:.3f}\".format(results1[0]))\n",
    "# accuracy\n",
    "print(\"accuracy value: {:.4f}%\".format(results1[1]*100))\n",
    "print(\"✅\")"
   ]
  },
  {
   "cell_type": "code",
   "execution_count": 25,
   "metadata": {},
   "outputs": [
    {
     "name": "stdout",
     "output_type": "stream",
     "text": [
      "label :  yes\n"
     ]
    },
    {
     "data": {
      "text/html": [
       "\n",
       "                <audio  controls=\"controls\" >\n",
       "                    <source src=\"data:audio/wav;base64,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\" type=\"audio/wav\" />\n",
       "                    Your browser does not support the audio element.\n",
       "                </audio>\n",
       "              "
      ],
      "text/plain": [
       "<IPython.lib.display.Audio object>"
      ]
     },
     "execution_count": 25,
     "metadata": {},
     "output_type": "execute_result"
    }
   ],
   "source": [
    "import IPython.display as ipd\n",
    "import random\n",
    "inv_label_value = {v: k for k, v in label_value.items()}\n",
    "batch_index = np.random.choice(len(test_wav), size=1, replace=False)\n",
    "\n",
    "batch_xs = test_wav[batch_index]\n",
    "batch_ys = test_label[batch_index]\n",
    "y_pred_ = model_wav_skip(batch_xs, training=False)\n",
    "\n",
    "print(\"label : \", str(inv_label_value[batch_ys[0]]))\n",
    "\n",
    "ipd.Audio(batch_xs.reshape(130, 126,), rate=8000)"
   ]
  },
  {
   "cell_type": "code",
   "execution_count": 26,
   "metadata": {},
   "outputs": [
    {
     "name": "stdout",
     "output_type": "stream",
     "text": [
      "y_pred: yes(Correct!)\n",
      "✅\n"
     ]
    }
   ],
   "source": [
    "if np.argmax(y_pred_) == batch_ys[0]:\n",
    "    print(\"y_pred: \" + str(inv_label_value[np.argmax(y_pred_)]) + '(Correct!)')\n",
    "else:\n",
    "    print(\"y_pred: \" + str(inv_label_value[np.argmax(y_pred_)]) + '(Incorrect!)')\n",
    "print(\"✅\")"
   ]
  },
  {
   "cell_type": "markdown",
   "metadata": {},
   "source": [
    "# 느낀점\n",
    "\n",
    "음성으로 데이터를 분석하는 것이 생소하지만 흥미로운 작업이였다.  \n",
    "\n",
    "1차원 waveform 데이터를 2차원 Spectrogram 데이터로 변경하여 모델을 형성하는 과정에서 차원에 대한 이해와\n",
    "\n",
    "신경망 layer에 대한 이해가 부족해 어렵게 느껴지기도 했다.   \n",
    "\n",
    "음성데이터에 대한 정보를 얻을 수 있어서 좋은 시간이였다.   \n",
    "\n"
   ]
  }
 ],
 "metadata": {
  "kernelspec": {
   "display_name": "aiffel",
   "language": "python",
   "name": "aiffel"
  },
  "language_info": {
   "codemirror_mode": {
    "name": "ipython",
    "version": 3
   },
   "file_extension": ".py",
   "mimetype": "text/x-python",
   "name": "python",
   "nbconvert_exporter": "python",
   "pygments_lexer": "ipython3",
   "version": "3.7.9"
  }
 },
 "nbformat": 4,
 "nbformat_minor": 4
}
