{
 "cells": [
  {
   "cell_type": "markdown",
   "metadata": {},
   "source": [
    "# 프로젝트: 뉴스기사 요약해보기  \n",
    "\n",
    "목표 : 새로운 데이터셋에 대해서 추상적 요약과 추출적 요약을 모두 해보는 시간을 가져보자."
   ]
  },
  {
   "cell_type": "markdown",
   "metadata": {},
   "source": [
    "## Step 1. 데이터 수집하기  \n",
    "데이터는 아래 링크에 있는 뉴스 기사 데이터(newssummarymore.csv)를 사용\n",
    "sunnysai12345/News_Summary  https://github.com/sunnysai12345/News_Summary\n",
    "\n",
    "데이터 세트는 4515 개의 예제로 구성되며 Author_name, Headlines, Url of Article, Short text, Complete Article을 포함한다. Inshorts에서 요약 된 뉴스를 수집하고 힌두교, 인도 시대 및 Guardian의 뉴스 기사 만 긁어 낸 것입니다. 기간은 2 월부터 2017 년 8 월까지이다."
   ]
  },
  {
   "cell_type": "code",
   "execution_count": 1,
   "metadata": {},
   "outputs": [
    {
     "name": "stderr",
     "output_type": "stream",
     "text": [
      "[nltk_data] Downloading package stopwords to /home/ssac6/nltk_data...\n",
      "[nltk_data]   Package stopwords is already up-to-date!\n"
     ]
    }
   ],
   "source": [
    "import nltk\n",
    "nltk.download('stopwords')\n",
    "\n",
    "import numpy as np\n",
    "import pandas as pd\n",
    "import os\n",
    "import re\n",
    "import matplotlib.pyplot as plt\n",
    "from nltk.corpus import stopwords\n",
    "from bs4 import BeautifulSoup \n",
    "from tensorflow.keras.preprocessing.text import Tokenizer \n",
    "from tensorflow.keras.preprocessing.sequence import pad_sequences\n",
    "import urllib.request"
   ]
  },
  {
   "cell_type": "code",
   "execution_count": 2,
   "metadata": {},
   "outputs": [],
   "source": [
    "urllib.request.urlretrieve(\"https://raw.githubusercontent.com/sunnysai12345/News_Summary/master/news_summary_more.csv\", filename=\"news_summary_more.csv\")\n",
    "data = pd.read_csv('news_summary_more.csv', encoding='iso-8859-1')"
   ]
  },
  {
   "cell_type": "code",
   "execution_count": 3,
   "metadata": {},
   "outputs": [
    {
     "data": {
      "text/html": [
       "<div>\n",
       "<style scoped>\n",
       "    .dataframe tbody tr th:only-of-type {\n",
       "        vertical-align: middle;\n",
       "    }\n",
       "\n",
       "    .dataframe tbody tr th {\n",
       "        vertical-align: top;\n",
       "    }\n",
       "\n",
       "    .dataframe thead th {\n",
       "        text-align: right;\n",
       "    }\n",
       "</style>\n",
       "<table border=\"1\" class=\"dataframe\">\n",
       "  <thead>\n",
       "    <tr style=\"text-align: right;\">\n",
       "      <th></th>\n",
       "      <th>headlines</th>\n",
       "      <th>text</th>\n",
       "    </tr>\n",
       "  </thead>\n",
       "  <tbody>\n",
       "    <tr>\n",
       "      <th>94616</th>\n",
       "      <td>BCCI members to question Ã¢ÂÂ¹1 cr reward for...</td>\n",
       "      <td>The BCCI is set to review the unauthorised pay...</td>\n",
       "    </tr>\n",
       "    <tr>\n",
       "      <th>41418</th>\n",
       "      <td>Over 14L Class 10 students won't give retest: ...</td>\n",
       "      <td>Responding to the uproar over CBSE's decision ...</td>\n",
       "    </tr>\n",
       "    <tr>\n",
       "      <th>46461</th>\n",
       "      <td>Russian hooligan arrested for homicide attempt...</td>\n",
       "      <td>German police have stated that they have arres...</td>\n",
       "    </tr>\n",
       "    <tr>\n",
       "      <th>618</th>\n",
       "      <td>Over 200 hotels end agreement with OYO over di...</td>\n",
       "      <td>The Federation of Hotel and Restaurant Associa...</td>\n",
       "    </tr>\n",
       "    <tr>\n",
       "      <th>62536</th>\n",
       "      <td>Gujarat CM Vijay Rupani calls Rahul Gandhi 'ga...</td>\n",
       "      <td>Gujarat Chief Minister Vijay Rupani on Sunday ...</td>\n",
       "    </tr>\n",
       "    <tr>\n",
       "      <th>93914</th>\n",
       "      <td>Harbhajan among ICC's 8 ambassadors for Champi...</td>\n",
       "      <td>Indian spinner Harbhajan Singh is among the ei...</td>\n",
       "    </tr>\n",
       "    <tr>\n",
       "      <th>40477</th>\n",
       "      <td>DGCA gave us clean chit in February '17: AirAs...</td>\n",
       "      <td>AirAsia India has said that allegations regard...</td>\n",
       "    </tr>\n",
       "    <tr>\n",
       "      <th>20456</th>\n",
       "      <td>Idris Elba denies he's playing James Bond afte...</td>\n",
       "      <td>Idris Elba has denied that he will be playing ...</td>\n",
       "    </tr>\n",
       "    <tr>\n",
       "      <th>67466</th>\n",
       "      <td>Varun, Anushka pay tribute to Mahatma on Gandh...</td>\n",
       "      <td>Varun Dhawan and Anushka Sharma, who will star...</td>\n",
       "    </tr>\n",
       "    <tr>\n",
       "      <th>22989</th>\n",
       "      <td>N Korea still pursuing nuclear, missile progra...</td>\n",
       "      <td>North Korea is still pursuing its nuclear and ...</td>\n",
       "    </tr>\n",
       "  </tbody>\n",
       "</table>\n",
       "</div>"
      ],
      "text/plain": [
       "                                               headlines  \\\n",
       "94616  BCCI members to question Ã¢ÂÂ¹1 cr reward for...   \n",
       "41418  Over 14L Class 10 students won't give retest: ...   \n",
       "46461  Russian hooligan arrested for homicide attempt...   \n",
       "618    Over 200 hotels end agreement with OYO over di...   \n",
       "62536  Gujarat CM Vijay Rupani calls Rahul Gandhi 'ga...   \n",
       "93914  Harbhajan among ICC's 8 ambassadors for Champi...   \n",
       "40477  DGCA gave us clean chit in February '17: AirAs...   \n",
       "20456  Idris Elba denies he's playing James Bond afte...   \n",
       "67466  Varun, Anushka pay tribute to Mahatma on Gandh...   \n",
       "22989  N Korea still pursuing nuclear, missile progra...   \n",
       "\n",
       "                                                    text  \n",
       "94616  The BCCI is set to review the unauthorised pay...  \n",
       "41418  Responding to the uproar over CBSE's decision ...  \n",
       "46461  German police have stated that they have arres...  \n",
       "618    The Federation of Hotel and Restaurant Associa...  \n",
       "62536  Gujarat Chief Minister Vijay Rupani on Sunday ...  \n",
       "93914  Indian spinner Harbhajan Singh is among the ei...  \n",
       "40477  AirAsia India has said that allegations regard...  \n",
       "20456  Idris Elba has denied that he will be playing ...  \n",
       "67466  Varun Dhawan and Anushka Sharma, who will star...  \n",
       "22989  North Korea is still pursuing its nuclear and ...  "
      ]
     },
     "execution_count": 3,
     "metadata": {},
     "output_type": "execute_result"
    }
   ],
   "source": [
    "data.sample(10)"
   ]
  },
  {
   "cell_type": "code",
   "execution_count": 4,
   "metadata": {},
   "outputs": [
    {
     "name": "stdout",
     "output_type": "stream",
     "text": [
      "<class 'pandas.core.frame.DataFrame'>\n",
      "RangeIndex: 98401 entries, 0 to 98400\n",
      "Data columns (total 2 columns):\n",
      " #   Column     Non-Null Count  Dtype \n",
      "---  ------     --------------  ----- \n",
      " 0   headlines  98401 non-null  object\n",
      " 1   text       98401 non-null  object\n",
      "dtypes: object(2)\n",
      "memory usage: 1.5+ MB\n"
     ]
    }
   ],
   "source": [
    "data.info()"
   ]
  },
  {
   "cell_type": "markdown",
   "metadata": {},
   "source": [
    "이 데이터는 기사의 본문에 해당되는 text와 headlines 두 가지 열로 구성되어져 있다.\n",
    "\n",
    "추상적 요약을 하는 경우에는 text를 본문, headlines를 이미 요약된 데이터로 삼아서 모델을 학습할 수 있다. 추출적 요약을 하는 경우에는 오직 text열만을 사용하면 된다."
   ]
  },
  {
   "cell_type": "markdown",
   "metadata": {},
   "source": [
    "## Step 2. 데이터 전처리하기 (추상적 요약)  \n",
    "실습에서 사용된 전처리를 참고하고, 필요하다고 생각하는 전처리를 추가 사용하여 텍스트를 정규화 또는 정제한다.  \n",
    "불용어 제거는 상대적으로 길이가 짧은 요약 데이터에 사용하는 것이 좋을까 고민하기."
   ]
  },
  {
   "cell_type": "markdown",
   "metadata": {},
   "source": [
    "### 2.1 데이터 정리하기"
   ]
  },
  {
   "cell_type": "markdown",
   "metadata": {},
   "source": [
    "#### 중복 샘플과 NULL 값이 존재하는 샘플 제거"
   ]
  },
  {
   "cell_type": "code",
   "execution_count": 5,
   "metadata": {},
   "outputs": [
    {
     "name": "stdout",
     "output_type": "stream",
     "text": [
      "text 열에서 중복을 배제한 유일한 샘플의 수 : 98360\n",
      "headlines 열에서 중복을 배제한 유일한 샘플의 수 : 98280\n"
     ]
    }
   ],
   "source": [
    "#유일한 샘플 수 조회\n",
    "print('text 열에서 중복을 배제한 유일한 샘플의 수 :', data['text'].nunique())\n",
    "print('headlines 열에서 중복을 배제한 유일한 샘플의 수 :', data['headlines'].nunique())"
   ]
  },
  {
   "cell_type": "code",
   "execution_count": 6,
   "metadata": {},
   "outputs": [
    {
     "name": "stdout",
     "output_type": "stream",
     "text": [
      "전체 샘플수 : 98360\n"
     ]
    }
   ],
   "source": [
    "#중복 샘플을 제거\n",
    "data.drop_duplicates(subset = ['text'], inplace = True)\n",
    "print('전체 샘플수 :',(len(data)))"
   ]
  },
  {
   "cell_type": "code",
   "execution_count": 7,
   "metadata": {},
   "outputs": [
    {
     "name": "stdout",
     "output_type": "stream",
     "text": [
      "headlines    0\n",
      "text         0\n",
      "dtype: int64\n"
     ]
    }
   ],
   "source": [
    "#Null 값 갯수 조회\n",
    "print(data.isnull().sum())"
   ]
  },
  {
   "cell_type": "code",
   "execution_count": 8,
   "metadata": {},
   "outputs": [
    {
     "name": "stdout",
     "output_type": "stream",
     "text": [
      "전체 샘플수 : 98360\n"
     ]
    }
   ],
   "source": [
    "#데이터프레임에서 Null을 제거\n",
    "data.dropna(axis = 0, inplace = True)\n",
    "print('전체 샘플수 :',(len(data)))"
   ]
  },
  {
   "cell_type": "markdown",
   "metadata": {},
   "source": [
    "#### 텍스트 정규화와 불용어 제거\n"
   ]
  },
  {
   "cell_type": "code",
   "execution_count": 10,
   "metadata": {},
   "outputs": [
    {
     "name": "stdout",
     "output_type": "stream",
     "text": [
      "정규화 사전의 수:  120\n"
     ]
    }
   ],
   "source": [
    "#텍스트 정규화를 위한 사전(dictionary)\n",
    "contractions = {\"ain't\": \"is not\", \"aren't\": \"are not\",\"can't\": \"cannot\", \"'cause\": \"because\", \"could've\": \"could have\", \"couldn't\": \"could not\",\n",
    "                           \"didn't\": \"did not\",  \"doesn't\": \"does not\", \"don't\": \"do not\", \"hadn't\": \"had not\", \"hasn't\": \"has not\", \"haven't\": \"have not\",\n",
    "                           \"he'd\": \"he would\",\"he'll\": \"he will\", \"he's\": \"he is\", \"how'd\": \"how did\", \"how'd'y\": \"how do you\", \"how'll\": \"how will\", \"how's\": \"how is\",\n",
    "                           \"I'd\": \"I would\", \"I'd've\": \"I would have\", \"I'll\": \"I will\", \"I'll've\": \"I will have\",\"I'm\": \"I am\", \"I've\": \"I have\", \"i'd\": \"i would\",\n",
    "                           \"i'd've\": \"i would have\", \"i'll\": \"i will\",  \"i'll've\": \"i will have\",\"i'm\": \"i am\", \"i've\": \"i have\", \"isn't\": \"is not\", \"it'd\": \"it would\",\n",
    "                           \"it'd've\": \"it would have\", \"it'll\": \"it will\", \"it'll've\": \"it will have\",\"it's\": \"it is\", \"let's\": \"let us\", \"ma'am\": \"madam\",\n",
    "                           \"mayn't\": \"may not\", \"might've\": \"might have\",\"mightn't\": \"might not\",\"mightn't've\": \"might not have\", \"must've\": \"must have\",\n",
    "                           \"mustn't\": \"must not\", \"mustn't've\": \"must not have\", \"needn't\": \"need not\", \"needn't've\": \"need not have\",\"o'clock\": \"of the clock\",\n",
    "                           \"oughtn't\": \"ought not\", \"oughtn't've\": \"ought not have\", \"shan't\": \"shall not\", \"sha'n't\": \"shall not\", \"shan't've\": \"shall not have\",\n",
    "                           \"she'd\": \"she would\", \"she'd've\": \"she would have\", \"she'll\": \"she will\", \"she'll've\": \"she will have\", \"she's\": \"she is\",\n",
    "                           \"should've\": \"should have\", \"shouldn't\": \"should not\", \"shouldn't've\": \"should not have\", \"so've\": \"so have\",\"so's\": \"so as\",\n",
    "                           \"this's\": \"this is\",\"that'd\": \"that would\", \"that'd've\": \"that would have\", \"that's\": \"that is\", \"there'd\": \"there would\",\n",
    "                           \"there'd've\": \"there would have\", \"there's\": \"there is\", \"here's\": \"here is\",\"they'd\": \"they would\", \"they'd've\": \"they would have\",\n",
    "                           \"they'll\": \"they will\", \"they'll've\": \"they will have\", \"they're\": \"they are\", \"they've\": \"they have\", \"to've\": \"to have\",\n",
    "                           \"wasn't\": \"was not\", \"we'd\": \"we would\", \"we'd've\": \"we would have\", \"we'll\": \"we will\", \"we'll've\": \"we will have\", \"we're\": \"we are\",\n",
    "                           \"we've\": \"we have\", \"weren't\": \"were not\", \"what'll\": \"what will\", \"what'll've\": \"what will have\", \"what're\": \"what are\",\n",
    "                           \"what's\": \"what is\", \"what've\": \"what have\", \"when's\": \"when is\", \"when've\": \"when have\", \"where'd\": \"where did\", \"where's\": \"where is\",\n",
    "                           \"where've\": \"where have\", \"who'll\": \"who will\", \"who'll've\": \"who will have\", \"who's\": \"who is\", \"who've\": \"who have\",\n",
    "                           \"why's\": \"why is\", \"why've\": \"why have\", \"will've\": \"will have\", \"won't\": \"will not\", \"won't've\": \"will not have\",\n",
    "                           \"would've\": \"would have\", \"wouldn't\": \"would not\", \"wouldn't've\": \"would not have\", \"y'all\": \"you all\",\n",
    "                           \"y'all'd\": \"you all would\",\"y'all'd've\": \"you all would have\",\"y'all're\": \"you all are\",\"y'all've\": \"you all have\",\n",
    "                           \"you'd\": \"you would\", \"you'd've\": \"you would have\", \"you'll\": \"you will\", \"you'll've\": \"you will have\",\n",
    "                           \"you're\": \"you are\", \"you've\": \"you have\"}\n",
    "\n",
    "print(\"정규화 사전의 수: \",len(contractions))"
   ]
  },
  {
   "cell_type": "code",
   "execution_count": 11,
   "metadata": {},
   "outputs": [],
   "source": [
    "#데이터 전처리 함수\n",
    "def preprocess_sentence(sentence, remove_stopwords=True):\n",
    "    sentence = sentence.lower() # 텍스트 소문자화\n",
    "    sentence = BeautifulSoup(sentence, \"lxml\").text # <br />, <a href = ...> 등의 html 태그 제거\n",
    "    sentence = re.sub(r'\\([^)]*\\)', '', sentence) # 괄호로 닫힌 문자열 (...) 제거 Ex) my husband (and myself!) for => my husband for\n",
    "    sentence = re.sub('\"','', sentence) # 쌍따옴표 \" 제거\n",
    "    sentence = ' '.join([contractions[t] if t in contractions else t for t in sentence.split(\" \")]) # 약어 정규화\n",
    "    sentence = re.sub(r\"'s\\b\",\"\",sentence) # 소유격 제거. Ex) roland's -> roland\n",
    "    sentence = re.sub(\"[^a-zA-Z]\", \" \", sentence) # 영어 외 문자(숫자, 특수문자 등) 공백으로 변환\n",
    "    sentence = re.sub('[m]{2,}', 'mm', sentence) # m이 3개 이상이면 2개로 변경. Ex) ummmmmmm yeah -> umm yeah\n",
    "    \n",
    "    # 불용어 제거 (Text)\n",
    "    if remove_stopwords:\n",
    "        tokens = ' '.join(word for word in sentence.split() if not word in stopwords.words('english') if len(word) > 1)\n",
    "    # 불용어 미제거 (Summary)\n",
    "    else:\n",
    "        tokens = ' '.join(word for word in sentence.split() if len(word) > 1)\n",
    "    return tokens"
   ]
  },
  {
   "cell_type": "code",
   "execution_count": 12,
   "metadata": {},
   "outputs": [
    {
     "data": {
      "text/plain": [
       "['saurav kant alumnus upgrad iiit pg program machine learning artificial intelligence sr systems engineer infosys almost years work experience program upgrad degree career support helped transition data scientist tech mahindra salary hike upgrad online power learning powered lakh careers',\n",
       " 'kunal shah credit card bill payment platform cred gave users chance win free food swiggy one year pranav kaushik delhi techie bagged reward spending cred coins users get one cred coin per rupee bill paid used avail rewards brands like ixigo bookmyshow ubereats cult fit',\n",
       " 'new zealand defeated india wickets fourth odi hamilton thursday win first match five match odi series india lost international match rohit sharma captaincy consecutive victories dating back march match witnessed india getting seventh lowest total odi cricket history',\n",
       " 'aegon life iterm insurance plan customers enjoy tax benefits premiums paid save taxes plan provides life cover age years also customers options insure critical illnesses disability accidental death benefit rider life cover age years',\n",
       " 'speaking sexual harassment allegations rajkumar hirani sonam kapoor said known hirani many years true metoo movement get derailed metoo movement always believe woman case need reserve judgment added hirani accused assistant worked sanju']"
      ]
     },
     "execution_count": 12,
     "metadata": {},
     "output_type": "execute_result"
    }
   ],
   "source": [
    "clean_text = []\n",
    "\n",
    "# 전체 Text 데이터에 대한 전처리 : 10분 이상 시간이 걸릴 수 있습니다. \n",
    "for s in data['text']:\n",
    "    clean_text.append(preprocess_sentence(s))\n",
    "\n",
    "# 전처리 후 출력\n",
    "clean_text[:5]"
   ]
  },
  {
   "cell_type": "code",
   "execution_count": 13,
   "metadata": {},
   "outputs": [
    {
     "data": {
      "text/plain": [
       "['upgrad learner switches to career in ml al with salary hike',\n",
       " 'delhi techie wins free food from swiggy for one year on cred',\n",
       " 'new zealand end rohit sharma led india match winning streak',\n",
       " 'aegon life iterm insurance plan helps customers save tax',\n",
       " 'have known hirani for yrs what if metoo claims are not true sonam']"
      ]
     },
     "execution_count": 13,
     "metadata": {},
     "output_type": "execute_result"
    }
   ],
   "source": [
    "clean_headlines = []\n",
    "\n",
    "# 전체 Summary 데이터에 대한 전처리 : 5분 이상 시간이 걸릴 수 있습니다. \n",
    "for s in data['headlines']:\n",
    "    clean_headlines.append(preprocess_sentence(s, False))\n",
    "\n",
    "clean_headlines[:5]"
   ]
  },
  {
   "cell_type": "code",
   "execution_count": 55,
   "metadata": {},
   "outputs": [],
   "source": [
    "data['text'] = clean_text\n",
    "data['headlines'] = clean_headlines\n",
    "\n",
    "# 빈 값을 Null 값으로 변환\n",
    "data.replace('', np.nan, inplace=True)"
   ]
  },
  {
   "cell_type": "code",
   "execution_count": 56,
   "metadata": {},
   "outputs": [
    {
     "data": {
      "text/plain": [
       "headlines         0\n",
       "text              0\n",
       "decoder_input     0\n",
       "decoder_target    0\n",
       "dtype: int64"
      ]
     },
     "execution_count": 56,
     "metadata": {},
     "output_type": "execute_result"
    }
   ],
   "source": [
    "data.isnull().sum()"
   ]
  },
  {
   "cell_type": "code",
   "execution_count": 57,
   "metadata": {},
   "outputs": [
    {
     "name": "stdout",
     "output_type": "stream",
     "text": [
      "전체 샘플수 : 98360\n"
     ]
    }
   ],
   "source": [
    "data.dropna(axis=0, inplace=True)\n",
    "print('전체 샘플수 :',(len(data)))#데이터 전처리 함수"
   ]
  },
  {
   "cell_type": "markdown",
   "metadata": {},
   "source": [
    "### 2-2. 훈련데이터와 테스트데이터 나누기\n",
    "#### 샘플의 최대 길이 정하기"
   ]
  },
  {
   "cell_type": "code",
   "execution_count": 59,
   "metadata": {},
   "outputs": [
    {
     "name": "stdout",
     "output_type": "stream",
     "text": [
      "텍스트의 최소 길이 : 1\n",
      "텍스트의 최대 길이 : 60\n",
      "텍스트의 평균 길이 : 35.09968483123221\n",
      "헤드라인의 최소 길이 : 1\n",
      "헤드라인의 최대 길이 : 16\n",
      "헤드라인의 평균 길이 : 9.299532330215534\n"
     ]
    },
    {
     "data": {
      "image/png": "[encoded data removed]",
      "text/plain": [
       "<Figure size 432x288 with 2 Axes>"
      ]
     },
     "metadata": {
      "needs_background": "light"
     },
     "output_type": "display_data"
    },
    {
     "data": {
      "image/png": "[encoded data removed]",
      "text/plain": [
       "<Figure size 432x288 with 1 Axes>"
      ]
     },
     "metadata": {
      "needs_background": "light"
     },
     "output_type": "display_data"
    },
    {
     "data": {
      "image/png": "[encoded data removed]",
      "text/plain": [
       "<Figure size 432x288 with 1 Axes>"
      ]
     },
     "metadata": {
      "needs_background": "light"
     },
     "output_type": "display_data"
    }
   ],
   "source": [
    "# 길이 분포 출력\n",
    "import matplotlib.pyplot as plt\n",
    "\n",
    "text_len = [len(s.split()) for s in data['text']]\n",
    "headlines_len = [len(s.split()) for s in data['headlines']]\n",
    "\n",
    "print('텍스트의 최소 길이 : {}'.format(np.min(text_len)))\n",
    "print('텍스트의 최대 길이 : {}'.format(np.max(text_len)))\n",
    "print('텍스트의 평균 길이 : {}'.format(np.mean(text_len)))\n",
    "print('헤드라인의 최소 길이 : {}'.format(np.min(headlines_len)))\n",
    "print('헤드라인의 최대 길이 : {}'.format(np.max(headlines_len)))\n",
    "print('헤드라인의 평균 길이 : {}'.format(np.mean(headlines_len)))\n",
    "\n",
    "plt.subplot(1,2,1)\n",
    "plt.boxplot(headlines_len)\n",
    "plt.title('headlines')\n",
    "plt.subplot(1,2,2)\n",
    "plt.boxplot(text_len)\n",
    "plt.title('Text')\n",
    "plt.tight_layout()\n",
    "plt.show()\n",
    "\n",
    "plt.title('headlines')\n",
    "plt.hist(headlines_len, bins = 40)\n",
    "plt.xlabel('length of samples')\n",
    "plt.ylabel('number of samples')\n",
    "plt.show()\n",
    "\n",
    "plt.title('text')\n",
    "plt.hist(text_len, bins = 40)\n",
    "plt.xlabel('length of samples')\n",
    "plt.ylabel('number of samples')\n",
    "plt.show()"
   ]
  },
  {
   "cell_type": "markdown",
   "metadata": {},
   "source": [
    "위에서 부터 차례대로 그래프는 각각 요약과 실제 텍스트의 길이 분포, 요약본 샘플 길이별 갯수, 실제 텍스트 샘플 길이별 갯수를 나타내고 있어요.\n",
    "Text의 경우 최소 길이가 1, 최대 길이가 60으로 그 차이가 커요. 하지만 평균 길이는 35로 시각화 된 그래프로 봤을 때는 대체적으로는 40 내외의 길이를 가진다는 것을 확인할 수 있어요.\n",
    "\n",
    "headlines 경우 최소 길이가 1, 최대 길이가 16, 그리고 평균 길이가 9로 Text에 비해 상대적으로 길이가 매우 짧아요. 그래프로 봤을 때에도 대체적으로 10이하의 길이를 가지고 있네요.\n",
    "\n",
    "이로부터 Text의 최대 길이와 headlines의 적절한 최대 길이를 임의로 정해볼게요."
   ]
  },
  {
   "cell_type": "code",
   "execution_count": 26,
   "metadata": {},
   "outputs": [],
   "source": [
    "text_max_len = 45\n",
    "headlines_max_len = 13"
   ]
  },
  {
   "cell_type": "code",
   "execution_count": 27,
   "metadata": {},
   "outputs": [],
   "source": [
    "def below_threshold_len(max_len, nested_list):\n",
    "  cnt = 0\n",
    "  for s in nested_list:\n",
    "    if(len(s.split()) <= max_len):\n",
    "        cnt = cnt + 1\n",
    "  print('전체 샘플 중 길이가 %s 이하인 샘플의 비율: %s'%(max_len, (cnt / len(nested_list))))"
   ]
  },
  {
   "cell_type": "code",
   "execution_count": 28,
   "metadata": {
    "scrolled": true
   },
   "outputs": [
    {
     "name": "stdout",
     "output_type": "stream",
     "text": [
      "전체 샘플 중 길이가 45 이하인 샘플의 비율: 0.9967771451809678\n",
      "전체 샘플 중 길이가 13 이하인 샘플의 비율: 0.9981699877999186\n"
     ]
    }
   ],
   "source": [
    "below_threshold_len(text_max_len, data['text'])\n",
    "below_threshold_len(headlines_max_len,  data['headlines'])"
   ]
  },
  {
   "cell_type": "markdown",
   "metadata": {},
   "source": [
    "#### 시작 토큰과 종료 토큰 추가하기"
   ]
  },
  {
   "cell_type": "code",
   "execution_count": 29,
   "metadata": {},
   "outputs": [
    {
     "data": {
      "text/html": [
       "<div>\n",
       "<style scoped>\n",
       "    .dataframe tbody tr th:only-of-type {\n",
       "        vertical-align: middle;\n",
       "    }\n",
       "\n",
       "    .dataframe tbody tr th {\n",
       "        vertical-align: top;\n",
       "    }\n",
       "\n",
       "    .dataframe thead th {\n",
       "        text-align: right;\n",
       "    }\n",
       "</style>\n",
       "<table border=\"1\" class=\"dataframe\">\n",
       "  <thead>\n",
       "    <tr style=\"text-align: right;\">\n",
       "      <th></th>\n",
       "      <th>headlines</th>\n",
       "      <th>text</th>\n",
       "      <th>decoder_input</th>\n",
       "      <th>decoder_target</th>\n",
       "    </tr>\n",
       "  </thead>\n",
       "  <tbody>\n",
       "    <tr>\n",
       "      <th>0</th>\n",
       "      <td>upgrad learner switches to career in ml al wit...</td>\n",
       "      <td>saurav kant alumnus upgrad iiit pg program mac...</td>\n",
       "      <td>sostoken upgrad learner switches to career in ...</td>\n",
       "      <td>upgrad learner switches to career in ml al wit...</td>\n",
       "    </tr>\n",
       "    <tr>\n",
       "      <th>1</th>\n",
       "      <td>delhi techie wins free food from swiggy for on...</td>\n",
       "      <td>kunal shah credit card bill payment platform c...</td>\n",
       "      <td>sostoken delhi techie wins free food from swig...</td>\n",
       "      <td>delhi techie wins free food from swiggy for on...</td>\n",
       "    </tr>\n",
       "    <tr>\n",
       "      <th>2</th>\n",
       "      <td>new zealand end rohit sharma led india match w...</td>\n",
       "      <td>new zealand defeated india wickets fourth odi ...</td>\n",
       "      <td>sostoken new zealand end rohit sharma led indi...</td>\n",
       "      <td>new zealand end rohit sharma led india match w...</td>\n",
       "    </tr>\n",
       "    <tr>\n",
       "      <th>3</th>\n",
       "      <td>aegon life iterm insurance plan helps customer...</td>\n",
       "      <td>aegon life iterm insurance plan customers enjo...</td>\n",
       "      <td>sostoken aegon life iterm insurance plan helps...</td>\n",
       "      <td>aegon life iterm insurance plan helps customer...</td>\n",
       "    </tr>\n",
       "    <tr>\n",
       "      <th>4</th>\n",
       "      <td>have known hirani for yrs what if metoo claims...</td>\n",
       "      <td>speaking sexual harassment allegations rajkuma...</td>\n",
       "      <td>sostoken have known hirani for yrs what if met...</td>\n",
       "      <td>have known hirani for yrs what if metoo claims...</td>\n",
       "    </tr>\n",
       "  </tbody>\n",
       "</table>\n",
       "</div>"
      ],
      "text/plain": [
       "                                           headlines  \\\n",
       "0  upgrad learner switches to career in ml al wit...   \n",
       "1  delhi techie wins free food from swiggy for on...   \n",
       "2  new zealand end rohit sharma led india match w...   \n",
       "3  aegon life iterm insurance plan helps customer...   \n",
       "4  have known hirani for yrs what if metoo claims...   \n",
       "\n",
       "                                                text  \\\n",
       "0  saurav kant alumnus upgrad iiit pg program mac...   \n",
       "1  kunal shah credit card bill payment platform c...   \n",
       "2  new zealand defeated india wickets fourth odi ...   \n",
       "3  aegon life iterm insurance plan customers enjo...   \n",
       "4  speaking sexual harassment allegations rajkuma...   \n",
       "\n",
       "                                       decoder_input  \\\n",
       "0  sostoken upgrad learner switches to career in ...   \n",
       "1  sostoken delhi techie wins free food from swig...   \n",
       "2  sostoken new zealand end rohit sharma led indi...   \n",
       "3  sostoken aegon life iterm insurance plan helps...   \n",
       "4  sostoken have known hirani for yrs what if met...   \n",
       "\n",
       "                                      decoder_target  \n",
       "0  upgrad learner switches to career in ml al wit...  \n",
       "1  delhi techie wins free food from swiggy for on...  \n",
       "2  new zealand end rohit sharma led india match w...  \n",
       "3  aegon life iterm insurance plan helps customer...  \n",
       "4  have known hirani for yrs what if metoo claims...  "
      ]
     },
     "execution_count": 29,
     "metadata": {},
     "output_type": "execute_result"
    }
   ],
   "source": [
    "#요약 데이터에는 시작 토큰과 종료 토큰을 추가한다.\n",
    "data['decoder_input'] = data['headlines'].apply(lambda x : 'sostoken '+ x)\n",
    "data['decoder_target'] = data['headlines'].apply(lambda x : x + ' eostoken')\n",
    "data.head()"
   ]
  },
  {
   "cell_type": "code",
   "execution_count": 30,
   "metadata": {},
   "outputs": [],
   "source": [
    "#Numpy 타입으로 저장\n",
    "encoder_input = np.array(data['text']) # 인코더의 입력\n",
    "decoder_input = np.array(data['decoder_input']) # 디코더의 입력\n",
    "decoder_target = np.array(data['decoder_target']) # 디코더의 레이블"
   ]
  },
  {
   "cell_type": "code",
   "execution_count": 32,
   "metadata": {},
   "outputs": [
    {
     "name": "stdout",
     "output_type": "stream",
     "text": [
      "[ 1740 16411 31537 ... 92596  5241 97718]\n"
     ]
    }
   ],
   "source": [
    "#encoder_input과 크기와 형태가 같은 순서가 섞인 정수 시퀀스 만들고, 섞기\n",
    "indices = np.arange(encoder_input.shape[0])\n",
    "np.random.shuffle(indices)\n",
    "print(indices)"
   ]
  },
  {
   "cell_type": "code",
   "execution_count": 33,
   "metadata": {},
   "outputs": [],
   "source": [
    "#데이터 섞기\n",
    "encoder_input = encoder_input[indices]\n",
    "decoder_input = decoder_input[indices]\n",
    "decoder_target = decoder_target[indices]"
   ]
  },
  {
   "cell_type": "code",
   "execution_count": 34,
   "metadata": {},
   "outputs": [
    {
     "name": "stdout",
     "output_type": "stream",
     "text": [
      "테스트 데이터의 수 : 19672\n"
     ]
    }
   ],
   "source": [
    "n_of_val = int(len(encoder_input)*0.2)\n",
    "print('테스트 데이터의 수 :',n_of_val)"
   ]
  },
  {
   "cell_type": "code",
   "execution_count": 35,
   "metadata": {},
   "outputs": [
    {
     "name": "stdout",
     "output_type": "stream",
     "text": [
      "훈련 데이터의 개수 : 78688\n",
      "훈련 레이블의 개수 : 78688\n",
      "테스트 데이터의 개수 : 19672\n",
      "테스트 레이블의 개수 : 19672\n"
     ]
    }
   ],
   "source": [
    "encoder_input_train = encoder_input[:-n_of_val]\n",
    "decoder_input_train = decoder_input[:-n_of_val]\n",
    "decoder_target_train = decoder_target[:-n_of_val]\n",
    "\n",
    "encoder_input_test = encoder_input[-n_of_val:]\n",
    "decoder_input_test = decoder_input[-n_of_val:]\n",
    "decoder_target_test = decoder_target[-n_of_val:]\n",
    "\n",
    "print('훈련 데이터의 개수 :', len(encoder_input_train))\n",
    "print('훈련 레이블의 개수 :',len(decoder_input_train))\n",
    "print('테스트 데이터의 개수 :',len(encoder_input_test))\n",
    "print('테스트 레이블의 개수 :',len(decoder_input_test))"
   ]
  },
  {
   "cell_type": "markdown",
   "metadata": {},
   "source": [
    "### 2-3. 정수 인코딩  \n",
    "#### 단어 집합(vocaburary) 만들기 및 정수 인코딩"
   ]
  },
  {
   "cell_type": "code",
   "execution_count": 42,
   "metadata": {},
   "outputs": [],
   "source": [
    "def tokenizer_threshold(v_threshold, v_tokenizer):\n",
    "    threshold = v_threshold # 8\n",
    "    total_cnt = len(v_tokenizer.word_index) # 단어의 수 (v_tokenizer.word_index : {단어 : 단어빈도수가 많은거 순})\n",
    "    rare_cnt = 0 # 등장 빈도수가 threshold보다 작은 단어의 개수를 카운트\n",
    "    total_freq = 0 # 훈련 데이터의 전체 단어 빈도수 총 합\n",
    "    rare_freq = 0 # 등장 빈도수가 threshold보다 작은 단어의 등장 빈도수의 총 합\n",
    "\n",
    "    # 단어와 빈도수의 쌍(pair)을 key와 value로 받는다.\n",
    "    for key, value in v_tokenizer.word_counts.items():\n",
    "        total_freq = total_freq + value\n",
    "\n",
    "        # 단어의 등장 빈도수가 threshold보다 작으면\n",
    "        if(value < threshold):\n",
    "            rare_cnt = rare_cnt + 1\n",
    "            rare_freq = rare_freq + value\n",
    "\n",
    "    print('단어 집합(vocabulary)의 크기 :',total_cnt)\n",
    "    print('등장 빈도가 %s번 이하인 희귀 단어의 수: %s'%(threshold - 1, rare_cnt))\n",
    "    print('단어 집합에서 희귀 단어를 제외시킬 경우의 단어 집합의 크기 %s'%(total_cnt - rare_cnt))\n",
    "    print(\"단어 집합에서 희귀 단어의 비율:\", (rare_cnt / total_cnt)*100)\n",
    "    print(\"전체 등장 빈도에서 희귀 단어 등장 빈도 비율:\", (rare_freq / total_freq)*100)"
   ]
  },
  {
   "cell_type": "markdown",
   "metadata": {},
   "source": [
    "**1) encoder_input_train**"
   ]
  },
  {
   "cell_type": "code",
   "execution_count": 43,
   "metadata": {},
   "outputs": [],
   "source": [
    "src_tokenizer = Tokenizer() # 토크나이저 정의\n",
    "src_tokenizer.fit_on_texts(encoder_input_train) # 입력된 데이터로부터 단어 집합 생성"
   ]
  },
  {
   "cell_type": "code",
   "execution_count": 44,
   "metadata": {},
   "outputs": [
    {
     "name": "stdout",
     "output_type": "stream",
     "text": [
      "단어 집합(vocabulary)의 크기 : 69424\n",
      "등장 빈도가 7번 이하인 희귀 단어의 수: 48778\n",
      "단어 집합에서 희귀 단어를 제외시킬 경우의 단어 집합의 크기 20646\n",
      "단어 집합에서 희귀 단어의 비율: 70.26100483982485\n",
      "전체 등장 빈도에서 희귀 단어 등장 빈도 비율: 3.8611618613393115\n"
     ]
    }
   ],
   "source": [
    "tokenizer_threshold(8, src_tokenizer)"
   ]
  },
  {
   "cell_type": "code",
   "execution_count": 45,
   "metadata": {},
   "outputs": [],
   "source": [
    "src_vocab = 20000\n",
    "src_tokenizer = Tokenizer(num_words = src_vocab) # 단어 집합의 크기를 20,000으로 제한\n",
    "src_tokenizer.fit_on_texts(encoder_input_train) # 단어 집합 재생성."
   ]
  },
  {
   "cell_type": "code",
   "execution_count": 46,
   "metadata": {},
   "outputs": [
    {
     "name": "stdout",
     "output_type": "stream",
     "text": [
      "[[15343, 100, 1211, 2099, 3738, 297, 1132, 530, 10271, 304, 1132, 31, 1303, 2285, 1281, 1828, 2804, 19407, 60, 3, 13, 390, 12, 1935, 297, 1132, 7, 31, 4099, 2804, 174, 10271, 304, 1132, 2211, 274, 77, 132, 12, 3878, 2103, 4099], [201, 49, 3396, 116, 57, 66, 1030, 184, 1399, 39, 934, 2584, 4255, 1648, 4158, 116, 4, 4255, 40, 2761, 444, 860, 731, 116, 66, 2761, 4100, 1019, 955, 6473], [18384, 5, 34, 13372, 290, 249, 7, 1166, 1953, 4285, 521, 1736, 3964, 2655, 368, 7070, 1185, 4122, 242, 26, 17, 3, 531, 2348, 84, 145, 3685, 436, 25, 1422, 3042, 9839, 2519, 224, 912]]\n"
     ]
    }
   ],
   "source": [
    "# 텍스트 시퀀스를 정수 시퀀스로 변환\n",
    "encoder_input_train = src_tokenizer.texts_to_sequences(encoder_input_train) \n",
    "encoder_input_test = src_tokenizer.texts_to_sequences(encoder_input_test)\n",
    "\n",
    "#잘 진행되었는지 샘플 출력\n",
    "print(encoder_input_train[:3])"
   ]
  },
  {
   "cell_type": "markdown",
   "metadata": {},
   "source": [
    "**2) decoder_input_train**"
   ]
  },
  {
   "cell_type": "code",
   "execution_count": 47,
   "metadata": {},
   "outputs": [],
   "source": [
    "tar_tokenizer = Tokenizer() # 토크나이저 정의\n",
    "tar_tokenizer.fit_on_texts(decoder_input_train)"
   ]
  },
  {
   "cell_type": "code",
   "execution_count": 48,
   "metadata": {},
   "outputs": [
    {
     "name": "stdout",
     "output_type": "stream",
     "text": [
      "단어 집합(vocabulary)의 크기 : 30088\n",
      "등장 빈도가 5번 이하인 희귀 단어의 수: 19659\n",
      "단어 집합에서 희귀 단어를 제외시킬 경우의 단어 집합의 크기 10429\n",
      "단어 집합에서 희귀 단어의 비율: 65.33834086679074\n",
      "전체 등장 빈도에서 희귀 단어 등장 빈도 비율: 4.640924878313602\n"
     ]
    }
   ],
   "source": [
    "tokenizer_threshold(6, tar_tokenizer)"
   ]
  },
  {
   "cell_type": "code",
   "execution_count": 49,
   "metadata": {},
   "outputs": [
    {
     "name": "stdout",
     "output_type": "stream",
     "text": [
      "input\n",
      "input  [[1, 1220, 5203, 551, 1870, 5, 1479, 2245, 282, 43, 1871], [1, 86, 22, 89, 786, 2201, 14, 864, 4, 1271, 6828], [1, 2202, 81, 3784, 2014, 2568, 38, 1978, 99], [1, 50, 2100, 150, 83, 5, 2355, 1872, 410, 6829], [1, 50, 2143, 110, 327, 29, 537, 655, 261, 837]]\n",
      "target\n",
      "decoder  [[1220, 5203, 551, 1870, 5, 1479, 2245, 282, 43, 1871, 2], [86, 22, 89, 786, 2201, 14, 864, 4, 1271, 6828, 2], [2202, 81, 3784, 2014, 2568, 38, 1978, 99, 2], [50, 2100, 150, 83, 5, 2355, 1872, 410, 6829, 2], [50, 2143, 110, 327, 29, 537, 655, 261, 837, 2]]\n"
     ]
    }
   ],
   "source": [
    "tar_vocab = 10000\n",
    "tar_tokenizer = Tokenizer(num_words = tar_vocab) \n",
    "tar_tokenizer.fit_on_texts(decoder_input_train)\n",
    "tar_tokenizer.fit_on_texts(decoder_target_train)\n",
    "\n",
    "# 텍스트 시퀀스를 정수 시퀀스로 변환\n",
    "decoder_input_train = tar_tokenizer.texts_to_sequences(decoder_input_train) \n",
    "decoder_target_train = tar_tokenizer.texts_to_sequences(decoder_target_train)\n",
    "decoder_input_test = tar_tokenizer.texts_to_sequences(decoder_input_test)\n",
    "decoder_target_test = tar_tokenizer.texts_to_sequences(decoder_target_test)\n",
    "\n",
    "#잘 변환되었는지 확인\n",
    "print('input')\n",
    "print('input ',decoder_input_train[:5])\n",
    "print('target')\n",
    "print('decoder ',decoder_target_train[:5])"
   ]
  },
  {
   "cell_type": "code",
   "execution_count": 50,
   "metadata": {},
   "outputs": [
    {
     "name": "stdout",
     "output_type": "stream",
     "text": [
      "삭제할 훈련 데이터의 개수 : 0\n",
      "삭제할 테스트 데이터의 개수 : 0\n"
     ]
    }
   ],
   "source": [
    "drop_train = [index for index, sentence in enumerate(decoder_input_train) if len(sentence) == 1]\n",
    "drop_test = [index for index, sentence in enumerate(decoder_input_test) if len(sentence) == 1]\n",
    "\n",
    "print('삭제할 훈련 데이터의 개수 :',len(drop_train))\n",
    "print('삭제할 테스트 데이터의 개수 :',len(drop_test))\n",
    "\n"
   ]
  },
  {
   "cell_type": "code",
   "execution_count": 51,
   "metadata": {},
   "outputs": [
    {
     "name": "stdout",
     "output_type": "stream",
     "text": [
      "훈련 데이터의 개수 : 78688\n",
      "훈련 레이블의 개수 : 78688\n",
      "테스트 데이터의 개수 : 19672\n",
      "테스트 레이블의 개수 : 19672\n"
     ]
    }
   ],
   "source": [
    "encoder_input_train = np.delete(encoder_input_train, drop_train, axis=0)\n",
    "decoder_input_train = np.delete(decoder_input_train, drop_train, axis=0)\n",
    "decoder_target_train = np.delete(decoder_target_train, drop_train, axis=0)\n",
    "\n",
    "encoder_input_test = np.delete(encoder_input_test, drop_test, axis=0)\n",
    "decoder_input_test = np.delete(decoder_input_test, drop_test, axis=0)\n",
    "decoder_target_test = np.delete(decoder_target_test, drop_test, axis=0)\n",
    "\n",
    "print('훈련 데이터의 개수 :', len(encoder_input_train))\n",
    "print('훈련 레이블의 개수 :',len(decoder_input_train))\n",
    "print('테스트 데이터의 개수 :',len(encoder_input_test))\n",
    "print('테스트 레이블의 개수 :',len(decoder_input_test))"
   ]
  },
  {
   "cell_type": "markdown",
   "metadata": {},
   "source": [
    "**3) 패딩하기**"
   ]
  },
  {
   "cell_type": "code",
   "execution_count": 52,
   "metadata": {},
   "outputs": [],
   "source": [
    "encoder_input_train = pad_sequences(encoder_input_train, maxlen = text_max_len, padding='post')\n",
    "encoder_input_test = pad_sequences(encoder_input_test, maxlen = text_max_len, padding='post')\n",
    "decoder_input_train = pad_sequences(decoder_input_train, maxlen = headlines_max_len, padding='post')\n",
    "decoder_target_train = pad_sequences(decoder_target_train, maxlen = headlines_max_len, padding='post')\n",
    "decoder_input_test = pad_sequences(decoder_input_test, maxlen = headlines_max_len, padding='post')\n",
    "decoder_target_test = pad_sequences(decoder_target_test, maxlen = headlines_max_len, padding='post')"
   ]
  },
  {
   "cell_type": "markdown",
   "metadata": {},
   "source": [
    "## Step 3. 어텐션 메커니즘 사용하기 (추상적 요약)  \n",
    "일반적인 seq2seq보다는 어텐션 메커니즘을 사용한 seq2seq를 사용하는 것이 더 나은 성능을 얻을 수 있다. 실습 내용을 참고하여 어텐션 메커니즘을 사용한 seq2seq를 설계해 보기."
   ]
  },
  {
   "cell_type": "code",
   "execution_count": 53,
   "metadata": {},
   "outputs": [],
   "source": [
    "# 인코더 설계 시작\n",
    "embedding_dim = 128\n",
    "hidden_size = 256\n"
   ]
  },
  {
   "cell_type": "markdown",
   "metadata": {},
   "source": [
    "### 모델 설계하기 "
   ]
  },
  {
   "cell_type": "code",
   "execution_count": 54,
   "metadata": {},
   "outputs": [],
   "source": [
    "urllib.request.urlretrieve(\"https://raw.githubusercontent.com/thushv89/attention_keras/master/src/layers/attention.py\", filename=\"attention.py\")\n",
    "from attention import AttentionLayer"
   ]
  },
  {
   "cell_type": "code",
   "execution_count": 60,
   "metadata": {},
   "outputs": [
    {
     "name": "stdout",
     "output_type": "stream",
     "text": [
      "WARNING:tensorflow:Layer lstm will not use cuDNN kernel since it doesn't meet the cuDNN kernel criteria. It will use generic GPU kernel as fallback when running on GPU\n",
      "WARNING:tensorflow:Layer lstm_1 will not use cuDNN kernel since it doesn't meet the cuDNN kernel criteria. It will use generic GPU kernel as fallback when running on GPU\n",
      "WARNING:tensorflow:Layer lstm_2 will not use cuDNN kernel since it doesn't meet the cuDNN kernel criteria. It will use generic GPU kernel as fallback when running on GPU\n",
      "WARNING:tensorflow:Layer lstm_3 will not use cuDNN kernel since it doesn't meet the cuDNN kernel criteria. It will use generic GPU kernel as fallback when running on GPU\n",
      "Model: \"model\"\n",
      "__________________________________________________________________________________________________\n",
      "Layer (type)                    Output Shape         Param #     Connected to                     \n",
      "==================================================================================================\n",
      "input_1 (InputLayer)            [(None, 45)]         0                                            \n",
      "__________________________________________________________________________________________________\n",
      "embedding (Embedding)           (None, 45, 128)      2560000     input_1[0][0]                    \n",
      "__________________________________________________________________________________________________\n",
      "lstm (LSTM)                     [(None, 45, 256), (N 394240      embedding[0][0]                  \n",
      "__________________________________________________________________________________________________\n",
      "input_2 (InputLayer)            [(None, None)]       0                                            \n",
      "__________________________________________________________________________________________________\n",
      "lstm_1 (LSTM)                   [(None, 45, 256), (N 525312      lstm[0][0]                       \n",
      "__________________________________________________________________________________________________\n",
      "embedding_1 (Embedding)         (None, None, 128)    1280000     input_2[0][0]                    \n",
      "__________________________________________________________________________________________________\n",
      "lstm_2 (LSTM)                   [(None, 45, 256), (N 525312      lstm_1[0][0]                     \n",
      "__________________________________________________________________________________________________\n",
      "lstm_3 (LSTM)                   [(None, None, 256),  394240      embedding_1[0][0]                \n",
      "                                                                 lstm_2[0][1]                     \n",
      "                                                                 lstm_2[0][2]                     \n",
      "__________________________________________________________________________________________________\n",
      "attention_layer (AttentionLayer ((None, None, 256),  131328      lstm_2[0][0]                     \n",
      "                                                                 lstm_3[0][0]                     \n",
      "__________________________________________________________________________________________________\n",
      "concat_layer (Concatenate)      (None, None, 512)    0           lstm_3[0][0]                     \n",
      "                                                                 attention_layer[0][0]            \n",
      "__________________________________________________________________________________________________\n",
      "dense (Dense)                   (None, None, 10000)  5130000     concat_layer[0][0]               \n",
      "==================================================================================================\n",
      "Total params: 10,940,432\n",
      "Trainable params: 10,940,432\n",
      "Non-trainable params: 0\n",
      "__________________________________________________________________________________________________\n"
     ]
    }
   ],
   "source": [
    "from tensorflow.keras.layers import Input, LSTM, Embedding, Dense, Concatenate\n",
    "from tensorflow.keras.models import Model\n",
    "from tensorflow.keras.callbacks import EarlyStopping, ModelCheckpoint\n",
    "\n",
    "\n",
    "# 인코더 설계 시작\n",
    "embedding_dim = 128\n",
    "hidden_size = 256\n",
    "\n",
    "# 인코더\n",
    "encoder_inputs = Input(shape=(text_max_len,)) # text_max_len : 45\n",
    " \n",
    "# 인코더의 임베딩 층\n",
    "enc_emb = Embedding(src_vocab, embedding_dim)(encoder_inputs) # src_vocab : 20000, \n",
    "\n",
    "# 인코더의 LSTM 1\n",
    "encoder_lstm1 = LSTM(hidden_size, return_sequences=True, return_state=True ,dropout = 0.4, recurrent_dropout = 0.4) #recurrent_dropout=0\n",
    "encoder_output1, state_h1, state_c1 = encoder_lstm1(enc_emb)\n",
    "\n",
    "# 인코더의 LSTM 2\n",
    "encoder_lstm2 = LSTM(hidden_size, return_sequences=True, return_state=True, dropout=0.4, recurrent_dropout=0.4) #recurrent_dropout=0\n",
    "encoder_output2, state_h2, state_c2 = encoder_lstm2(encoder_output1)\n",
    "\n",
    "# 인코더의 LSTM 3\n",
    "encoder_lstm3 = LSTM(hidden_size, return_state=True, return_sequences=True, dropout=0.4, recurrent_dropout=0.4) #recurrent_dropout=0\n",
    "encoder_outputs, state_h, state_c= encoder_lstm3(encoder_output2)\n",
    "\n",
    "# 디코더 설계\n",
    "decoder_inputs = Input(shape=(None,))\n",
    "\n",
    "# 디코더의 임베딩 층\n",
    "dec_emb_layer = Embedding(tar_vocab, embedding_dim)\n",
    "dec_emb = dec_emb_layer(decoder_inputs)\n",
    "\n",
    "# 디코더의 LSTM\n",
    "decoder_lstm = LSTM(hidden_size, return_sequences = True, return_state = True, dropout = 0.4, recurrent_dropout=0.2) #recurrent_dropout=0\n",
    "decoder_outputs, _, _ = decoder_lstm(dec_emb, initial_state = [state_h, state_c]) \n",
    "\n",
    "# 어텐션 층(어텐션 함수)\n",
    "attn_layer = AttentionLayer(name='attention_layer')\n",
    "# 인코더와 디코더의 모든 time step의 hidden state를 어텐션 층에 전달하고 결과를 리턴\n",
    "attn_out, attn_states = attn_layer([encoder_outputs, decoder_outputs])\n",
    "\n",
    "# 어텐션의 결과와 디코더의 hidden state들을 연결\n",
    "decoder_concat_input = Concatenate(axis = -1, name='concat_layer')([decoder_outputs, attn_out])\n",
    "\n",
    "# 디코더의 출력층\n",
    "decoder_softmax_layer = Dense(tar_vocab, activation='softmax')\n",
    "decoder_softmax_outputs = decoder_softmax_layer(decoder_concat_input)\n",
    "\n",
    "# 모델 정의\n",
    "model = Model([encoder_inputs, decoder_inputs], decoder_softmax_outputs)\n",
    "model.summary()"
   ]
  },
  {
   "cell_type": "code",
   "execution_count": 61,
   "metadata": {},
   "outputs": [
    {
     "name": "stdout",
     "output_type": "stream",
     "text": [
      "Epoch 1/50\n",
      "308/308 [==============================] - 113s 368ms/step - loss: 5.2320 - val_loss: 4.8324\n",
      "Epoch 2/50\n",
      "308/308 [==============================] - 115s 373ms/step - loss: 4.6811 - val_loss: 4.4672\n",
      "Epoch 3/50\n",
      "308/308 [==============================] - 115s 374ms/step - loss: 4.3568 - val_loss: 4.2171\n",
      "Epoch 4/50\n",
      "308/308 [==============================] - 119s 388ms/step - loss: 4.1059 - val_loss: 4.0376\n",
      "Epoch 5/50\n",
      "308/308 [==============================] - 120s 391ms/step - loss: 3.9069 - val_loss: 3.8861\n",
      "Epoch 6/50\n",
      "308/308 [==============================] - 123s 399ms/step - loss: 3.7430 - val_loss: 3.7965\n",
      "Epoch 7/50\n",
      "308/308 [==============================] - 120s 391ms/step - loss: 3.6089 - val_loss: 3.6942\n",
      "Epoch 8/50\n",
      "308/308 [==============================] - 120s 391ms/step - loss: 3.4909 - val_loss: 3.6335\n",
      "Epoch 9/50\n",
      "308/308 [==============================] - 117s 381ms/step - loss: 3.3914 - val_loss: 3.5763\n",
      "Epoch 10/50\n",
      "308/308 [==============================] - 117s 380ms/step - loss: 3.3000 - val_loss: 3.5301\n",
      "Epoch 11/50\n",
      "308/308 [==============================] - 118s 382ms/step - loss: 3.2189 - val_loss: 3.4889\n",
      "Epoch 12/50\n",
      "308/308 [==============================] - 117s 381ms/step - loss: 3.1469 - val_loss: 3.4583\n",
      "Epoch 13/50\n",
      "308/308 [==============================] - 115s 374ms/step - loss: 3.0832 - val_loss: 3.4262\n",
      "Epoch 14/50\n",
      "308/308 [==============================] - 113s 366ms/step - loss: 3.0239 - val_loss: 3.4009\n",
      "Epoch 15/50\n",
      "308/308 [==============================] - 113s 365ms/step - loss: 2.9693 - val_loss: 3.3820\n",
      "Epoch 16/50\n",
      "308/308 [==============================] - 112s 365ms/step - loss: 2.9162 - val_loss: 3.3686\n",
      "Epoch 17/50\n",
      "308/308 [==============================] - 112s 364ms/step - loss: 2.8669 - val_loss: 3.3485\n",
      "Epoch 18/50\n",
      "308/308 [==============================] - 114s 372ms/step - loss: 2.8224 - val_loss: 3.3396\n",
      "Epoch 19/50\n",
      "308/308 [==============================] - 118s 383ms/step - loss: 2.7812 - val_loss: 3.3253\n",
      "Epoch 20/50\n",
      "308/308 [==============================] - 118s 382ms/step - loss: 2.7403 - val_loss: 3.3108\n",
      "Epoch 21/50\n",
      "308/308 [==============================] - 115s 372ms/step - loss: 2.7031 - val_loss: 3.3038\n",
      "Epoch 22/50\n",
      "308/308 [==============================] - 115s 374ms/step - loss: 2.6679 - val_loss: 3.2911\n",
      "Epoch 23/50\n",
      "308/308 [==============================] - 116s 377ms/step - loss: 2.6361 - val_loss: 3.2843\n",
      "Epoch 24/50\n",
      "308/308 [==============================] - 117s 379ms/step - loss: 2.6062 - val_loss: 3.2804\n",
      "Epoch 25/50\n",
      "308/308 [==============================] - 116s 378ms/step - loss: 2.5759 - val_loss: 3.2813\n",
      "Epoch 26/50\n",
      "308/308 [==============================] - 115s 373ms/step - loss: 2.5473 - val_loss: 3.2732\n",
      "Epoch 27/50\n",
      "308/308 [==============================] - 116s 377ms/step - loss: 2.5180 - val_loss: 3.2661\n",
      "Epoch 28/50\n",
      "308/308 [==============================] - 115s 372ms/step - loss: 2.4898 - val_loss: 3.2681\n",
      "Epoch 29/50\n",
      "308/308 [==============================] - 116s 377ms/step - loss: 2.4636 - val_loss: 3.2610\n",
      "Epoch 30/50\n",
      "308/308 [==============================] - 115s 373ms/step - loss: 2.4383 - val_loss: 3.2595\n",
      "Epoch 31/50\n",
      "308/308 [==============================] - 116s 376ms/step - loss: 2.4161 - val_loss: 3.2610\n",
      "Epoch 32/50\n",
      "308/308 [==============================] - 117s 379ms/step - loss: 2.3944 - val_loss: 3.2567\n",
      "Epoch 33/50\n",
      "308/308 [==============================] - 116s 378ms/step - loss: 2.3748 - val_loss: 3.2567\n",
      "Epoch 34/50\n",
      "308/308 [==============================] - 117s 381ms/step - loss: 2.3529 - val_loss: 3.2563\n",
      "Epoch 35/50\n",
      "308/308 [==============================] - 117s 381ms/step - loss: 2.3357 - val_loss: 3.2602\n",
      "Epoch 36/50\n",
      "308/308 [==============================] - 113s 366ms/step - loss: 2.3166 - val_loss: 3.2540\n",
      "Epoch 37/50\n",
      "308/308 [==============================] - 112s 364ms/step - loss: 2.2997 - val_loss: 3.2564\n",
      "Epoch 38/50\n",
      "308/308 [==============================] - 113s 367ms/step - loss: 2.2828 - val_loss: 3.2582\n",
      "Epoch 00038: early stopping\n"
     ]
    }
   ],
   "source": [
    "model.compile(optimizer='rmsprop', loss='sparse_categorical_crossentropy')\n",
    "es = EarlyStopping(monitor='val_loss', mode='min', verbose=1, patience = 2)\n",
    "history = model.fit(x = [encoder_input_train, decoder_input_train], y = decoder_target_train, \\\n",
    "          validation_data = ([encoder_input_test, decoder_input_test], decoder_target_test),\n",
    "          batch_size = 256, callbacks=[es], epochs = 50)"
   ]
  },
  {
   "cell_type": "code",
   "execution_count": 63,
   "metadata": {},
   "outputs": [
    {
     "data": {
      "image/png": "[encoded data removed]",
      "text/plain": [
       "<Figure size 432x288 with 1 Axes>"
      ]
     },
     "metadata": {
      "needs_background": "light"
     },
     "output_type": "display_data"
    }
   ],
   "source": [
    "plt.plot(history.history['loss'], label='train')\n",
    "plt.plot(history.history['val_loss'], label='test')\n",
    "plt.legend()\n",
    "plt.show()"
   ]
  },
  {
   "cell_type": "markdown",
   "metadata": {},
   "source": [
    "### 인퍼런스 모델 구현하기\n",
    "테스트 단계에서는 정수 인덱스 행렬로 존재하던 텍스트 데이터를 실제 데이터로 복원해야 하므로, 필요한 3개의 사전을 아래와 같이 미리 준비  "
   ]
  },
  {
   "cell_type": "code",
   "execution_count": 64,
   "metadata": {},
   "outputs": [],
   "source": [
    "src_index_to_word = src_tokenizer.index_word # 원문 단어 집합에서 정수 -> 단어를 얻음\n",
    "tar_word_to_index = tar_tokenizer.word_index # 요약 단어 집합에서 단어 -> 정수를 얻음\n",
    "tar_index_to_word = tar_tokenizer.index_word # 요약 단어 집합에서 정수 -> 단어를 얻음"
   ]
  },
  {
   "cell_type": "code",
   "execution_count": 65,
   "metadata": {},
   "outputs": [],
   "source": [
    "# 인코더 설계\n",
    "encoder_model = Model(inputs=encoder_inputs, outputs=[encoder_outputs, state_h, state_c])\n",
    "\n",
    "# 이전 시점의 상태들을 저장하는 텐서\n",
    "decoder_state_input_h = Input(shape=(hidden_size,))\n",
    "decoder_state_input_c = Input(shape=(hidden_size,))\n",
    "\n",
    "dec_emb2 = dec_emb_layer(decoder_inputs)\n",
    "# 문장의 다음 단어를 예측하기 위해서 초기 상태(initial_state)를 이전 시점의 상태로 사용. 이는 뒤의 함수 decode_sequence()에 구현\n",
    "# 훈련 과정에서와 달리 LSTM의 리턴하는 은닉 상태와 셀 상태인 state_h와 state_c를 버리지 않음.\n",
    "decoder_outputs2, state_h2, state_c2 = decoder_lstm(dec_emb2, initial_state=[decoder_state_input_h, decoder_state_input_c])"
   ]
  },
  {
   "cell_type": "markdown",
   "metadata": {},
   "source": [
    "어텐션 메커니즘을 사용하는 출력층을 설계"
   ]
  },
  {
   "cell_type": "code",
   "execution_count": 66,
   "metadata": {},
   "outputs": [],
   "source": [
    "# 어텐션 함수\n",
    "decoder_hidden_state_input = Input(shape=(text_max_len, hidden_size))\n",
    "attn_out_inf, attn_states_inf = attn_layer([decoder_hidden_state_input, decoder_outputs2])\n",
    "decoder_inf_concat = Concatenate(axis=-1, name='concat')([decoder_outputs2, attn_out_inf])\n",
    "\n",
    "# 디코더의 출력층\n",
    "decoder_outputs2 = decoder_softmax_layer(decoder_inf_concat) \n",
    "\n",
    "# 최종 디코더 모델\n",
    "decoder_model = Model(\n",
    "    [decoder_inputs] + [decoder_hidden_state_input,decoder_state_input_h, decoder_state_input_c],\n",
    "    [decoder_outputs2] + [state_h2, state_c2])"
   ]
  },
  {
   "cell_type": "markdown",
   "metadata": {},
   "source": [
    "인퍼런스 단계에서 단어 시퀀스를 완성하는 함수를 만들기"
   ]
  },
  {
   "cell_type": "code",
   "execution_count": 71,
   "metadata": {},
   "outputs": [],
   "source": [
    "def decode_sequence(input_seq):\n",
    "    # 입력으로부터 인코더의 상태를 얻음\n",
    "    e_out, e_h, e_c = encoder_model.predict(input_seq)\n",
    "\n",
    "     # <SOS>에 해당하는 토큰 생성\n",
    "    target_seq = np.zeros((1,1))\n",
    "    target_seq[0, 0] = tar_word_to_index['sostoken']\n",
    "\n",
    "    stop_condition = False\n",
    "    decoded_sentence = ''\n",
    "    while not stop_condition: # stop_condition이 True가 될 때까지 루프 반복\n",
    "\n",
    "        output_tokens, h, c = decoder_model.predict([target_seq] + [e_out, e_h, e_c])\n",
    "        sampled_token_index = np.argmax(output_tokens[0, -1, :])\n",
    "        sampled_token = tar_index_to_word[sampled_token_index]\n",
    "\n",
    "        if(sampled_token!='eostoken'):\n",
    "            decoded_sentence += ' '+sampled_token\n",
    "\n",
    "        #  <eos>에 도달하거나 최대 길이를 넘으면 중단.\n",
    "        if (sampled_token == 'eostoken'  or len(decoded_sentence.split()) >= (headlines_max_len-1)):\n",
    "            stop_condition = True\n",
    "\n",
    "        # 길이가 1인 타겟 시퀀스를 업데이트\n",
    "        target_seq = np.zeros((1,1))\n",
    "        target_seq[0, 0] = sampled_token_index\n",
    "\n",
    "        # 상태를 업데이트 합니다.\n",
    "        e_h, e_c = h, c\n",
    "\n",
    "    return decoded_sentence"
   ]
  },
  {
   "cell_type": "code",
   "execution_count": 68,
   "metadata": {},
   "outputs": [],
   "source": [
    "# 원문의 정수 시퀀스를 텍스트 시퀀스로 변환\n",
    "def seq2text(input_seq):\n",
    "    temp=''\n",
    "    for i in input_seq:\n",
    "        if(i!=0):\n",
    "            temp = temp + src_index_to_word[i]+' '\n",
    "    return temp\n",
    "\n",
    "# 요약문의 정수 시퀀스를 텍스트 시퀀스로 변환\n",
    "def seq2summary(input_seq):\n",
    "    temp=''\n",
    "    for i in input_seq:\n",
    "        if((i!=0 and i!=tar_word_to_index['sostoken']) and i!=tar_word_to_index['eostoken']):\n",
    "            temp = temp + tar_index_to_word[i] + ' '\n",
    "    return temp"
   ]
  },
  {
   "cell_type": "markdown",
   "metadata": {},
   "source": [
    "## Step 4. 실제 결과와 요약문 비교하기 (추상적 요약)  \n",
    "원래의 요약문(headlines 열)과 학습을 통해 얻은 추상적 요약의 결과를 비교해 보기 "
   ]
  },
  {
   "cell_type": "code",
   "execution_count": 114,
   "metadata": {
    "scrolled": true
   },
   "outputs": [
    {
     "name": "stdout",
     "output_type": "stream",
     "text": [
      "원문50 : allegedly smashed wife head hammer slit four year old son neck electric cutter district haryana sunday following tried committing suicide overpowered villagers took police station reportedly often wife suspected later arrested \n",
      "실제 요약 : haryana man murders wife slits year old son neck \n",
      "예측 요약 :  wife of wife smashes his son in noida\n",
      "\n",
      "\n",
      "원문51 : jacqueline fernandez said decided wants performer age six honestly quite afraid bring parents since quite unconventional career added jacqueline said never films pure joy comes entertainer \n",
      "실제 요약 : decided want to be when was jacqueline \n",
      "예측 요약 :  am happy to work with age of age of age jacqueline jacqueline\n",
      "\n",
      "\n",
      "원문52 : facebook working feature called time facebook track much time users spend average app also offer users option set daily time limit reduce app usage company spokesperson confirmed reveal feature would launched \n",
      "실제 요약 : facebook working on tool to track users time spent on app \n",
      "예측 요약 :  facebook to let users share time to share spent on app\n",
      "\n",
      "\n",
      "원문53 : special investigation team probing murder journalist gauri lankesh filed additional chargesheet people sought permission special court karnataka control organised crime act investigate page chargesheet reportedly mentions involvement hindu right wing group lankesh killed outside house \n",
      "실제 요약 : page additional chargesheet filed in gauri lankesh case \n",
      "예측 요약 :  sit in gauri lankesh murder accused jailed for murder\n",
      "\n",
      "\n",
      "원문54 : filmmaker karan johar took social media share pictures nursery twins designed actor shah rukh khan wife gauri khan twins roohi yash born via surrogacy brought home wednesday kept hospital seven weeks due health complications following premature birth nnn \n",
      "실제 요약 : karan shares pic of his twins designed by gauri \n",
      "예측 요약 :  johar shares pic of twins from his twins\n",
      "\n",
      "\n",
      "원문55 : former jammu kashmir cm omar abdullah called anti terrorist front india chief idiot keeping lakh bounty farooq abdullah tongue omar tweeted guy two rub together offering lakhs kept bounty saying farooq abdullah spoke rss insulted india pro pakistan remarks \n",
      "실제 요약 : omar calls chief idiot over bounty on father tongue \n",
      "예측 요약 :  ex cm farooq abdullah slammed for beheading remark\n",
      "\n",
      "\n",
      "원문56 : amid continued criticism venezuelan government causing economic humanitarian crisis country us president donald trump said venezuela mess needs cleaned us earlier said preparing series actions venezuela coming days put pressure government \n",
      "실제 요약 : venezuela mess needs to be up trump \n",
      "예측 요약 :  venezuelan prez vows to leave venezuela prez\n",
      "\n",
      "\n",
      "원문57 : congress mp shashi tharoor said meeting united nations flood affected kerala carried individual capacity tweeting visit written close consultation kerala cm explore help could possible following tweet reports stated kerala cm office denied sending state government representative \n",
      "실제 요약 : un visit over kerala floods in individual capacity tharoor \n",
      "예측 요약 :  tharoor calls for kerala floods for kerala floods\n",
      "\n",
      "\n",
      "원문58 : latest promo upcoming republic tv journalist arnab goswami told viewers really missed return soon working day night team make dream happen dream one says arnab seen writing letter promo \n",
      "실제 요약 : have really missed you arnab goswami to viewers \n",
      "예측 요약 :  tv anchor apologises for times in news\n",
      "\n",
      "\n",
      "원문59 : virat kohli stopped batting session attended tv crew member hit mohammed shami delivery eden gardens kolkata kohli missed shami delivery went nets hit crew member kohli called indian team proper check injury resumed training later \n",
      "실제 요약 : kohli stops practice to help tv crew member hit by ball \n",
      "예측 요약 :  kohli pulls off as fire after being hit by sl coach\n",
      "\n",
      "\n",
      "원문60 : five year old girl jammu kashmir started drive clean srinagar dal lake along father part drive requesting everyone use instead throwing waste lake people including locals tourists always throw different kind affects beauty dal lake said \n",
      "실제 요약 : yr old girl starts drive to clean srinagar dal lake \n",
      "예측 요약 :  yr old girl drowns in landslide in kerala\n",
      "\n",
      "\n",
      "원문61 : centre oppose practice nikah halala supreme court hears petitions practice law ministry officials said practice allows muslim man remarry ex wife marries another man marriage gets divorced government believes practice gender justice officials said \n",
      "실제 요약 : govt to oppose practice of muslim men wedding ex wives in sc \n",
      "예측 요약 :  sc allows centre to review blasphemy marriage case\n",
      "\n",
      "\n",
      "원문62 : slamming actor james franco accused sexual misconduct five women actress scarlett johansson said want pin back speaking women march los angeles scarlett added could person publicly stand organization helps provide support victims sexual assault privately people power \n",
      "실제 요약 : want my time up back scarlett to james \n",
      "예측 요약 :  women should be women without casting couch accused\n",
      "\n",
      "\n",
      "원문63 : banned indian cricketer sreesanth seen arguing bollywood actor reality show bigg boss host salman khan threaten quit bigg boss house sreesanth earlier walked task show threatened quit show afterwards seen explaining actions salman saturday \n",
      "실제 요약 : sreesanth with salman threatens to quit bigg boss again \n",
      "예측 요약 :  sreesanth to be part of bigg boss boss report\n",
      "\n",
      "\n",
      "원문64 : former sprinter pt usha disallowed two trainees competing international event bahamas delay getting travel permits mathew train usha academy selected women relay team coached usha asked trainees prepare asian grand prix instead \n",
      "실제 요약 : pt usha stops from competing at world relay event \n",
      "예측 요약 :  olympic champ bolt to open trial for st time in months\n",
      "\n",
      "\n",
      "원문65 : india silver medal er women event year old harshita tomar bronze medal open laser event asian games friday india year old govind finished fourth open laser event open laser event male female participants \n",
      "실제 요약 : india win silver and bronze in events at asiad \n",
      "예측 요약 :  india wins silver at world para athletics ship\n",
      "\n",
      "\n",
      "원문66 : barcelona forward lionel messi scored second half brace saturday becoming first ever player score goals la liga messi best goal tally season came netted goals appearances messi played league matches goals ahead rival cristiano ronaldo \n",
      "실제 요약 : messi becomes first ever player to score la liga goals \n",
      "예측 요약 :  messi nets goals in bar sets of st time in years\n",
      "\n",
      "\n",
      "원문67 : day editor chief shujaat bukhari shot dead newspaper rising kashmir paid tribute full size photograph front page uphold principle telling truth wrote left sudden always leading light newspaper added \n",
      "실제 요약 : will not be down rising kashmir honours slain journalist \n",
      "예측 요약 :  journalist journalist shot dead in journalist\n",
      "\n",
      "\n",
      "원문68 : video us president donald trump staring king morocco mohammed vi world war memorial france de gone viral king fell asleep french president emmanuel macron day speech leaders across world gathered france th anniversary end \n",
      "실제 요약 : trump at king as he sleeps during memorial \n",
      "예측 요약 :  trump visits celebratory celebratory tricolour on his birthday\n",
      "\n",
      "\n",
      "원문69 : inzamam ul haq got obstructing field odi india february later claimed know exact rule haq given india appealed following blocking suresh raina throw striker end haq became second pakistani batsman get obstructing field odi \n",
      "실제 요약 : haq once got out obstructing field as he did not know rules \n",
      "예측 요약 :  india has no odi squad for australia odis due to rain\n",
      "\n",
      "\n",
      "원문70 : supreme court friday reduced tamil nadu quota cauvery water thousand million cubic feet tmc awarded state cauvery water disputes tribunal dispute year old issue tamil nadu karnataka demanding share water address water shortage states \n",
      "실제 요약 : sc decides on yr old cauvery dispute cuts tn water quota \n",
      "예측 요약 :  sc orders tn dispute to deposit water to tn assembly\n",
      "\n",
      "\n",
      "원문71 : niti aayog soon partner three states turn role models others field education health initiative named states chosen well laid process state governments make objectives \n",
      "실제 요약 : niti aayog to states into role models for others \n",
      "예측 요약 :  niti aayog to allow niti aayog\n",
      "\n",
      "\n",
      "원문72 : global entrepreneurship summit hyderabad women first prosperity year theme first women form majority participants countries represented female delegation including afghanistan saudi arabia israel miss world manushi chhillar also among speakers summit \n",
      "실제 요약 : ges to be first with majority as women \n",
      "예측 요약 :  india named women in international women\n",
      "\n",
      "\n",
      "원문73 : average dalit woman lives years less upper caste woman un report revealed increase exposure mortality due poor sanitation inadequate supply water healthcare added women poor rural households times likely never attend school women rich urban households report claimed \n",
      "실제 요약 : dalit woman live yrs less than upper caste woman report \n"
     ]
    },
    {
     "name": "stdout",
     "output_type": "stream",
     "text": [
      "예측 요약 :  india has woman who lost over lakh in last months\n",
      "\n",
      "\n",
      "원문74 : ayushmann khurrana wife tahira kashyap revealed metoo moment adding found years shared husband parents added started dating ayushmann cried every step physical proximity scared physical touch ayushmann love patience tahira wrote \n",
      "실제 요약 : had my metoo moment years ago ayushmann love me wife \n",
      "예측 요약 :  have been been in ayushmann wife ayushmann wife\n",
      "\n",
      "\n",
      "원문75 : rohit sharma led india victory recently concluded asia cup took twitter share picture indian team celebrating trophy asia cup one player entire unit field special game special win wrote \n",
      "실제 요약 : asia cup was not just about player stand in captain rohit sharma \n",
      "예측 요약 :  rohit sharma posts indian cup final of asia cup final\n",
      "\n",
      "\n",
      "원문76 : grace meng wife former interpol president meng hongwei detained china said sure husband alive calling chinese authorities cruel dirty grace added husband victim political persecution hongwei investigation china suspected bribery \n",
      "실제 요약 : ex interpol chief detained by china may be dead says wife \n",
      "예측 요약 :  wife of ex wife of chinese couple wife\n",
      "\n",
      "\n",
      "원문77 : following terrorist attack army camp thursday mob seen hurling stones bricks army personnel near attack site jammu kashmir kupwara protesters reportedly trying disturb movement army convoy notably three soldiers including captain martyred terrorist attack \n",
      "실제 요약 : stone pelting post terror attack on army camp in \n",
      "예측 요약 :  terrorists attack army jawan along loc in\n",
      "\n",
      "\n",
      "원문78 : pass percentage girls boys cbse class xii board examination results announced sunday boys worse girls overall pass percentage overall pass percentage across regions point less last year \n",
      "실제 요약 : girls boys in cbse class board exams \n",
      "예측 요약 :  boys in cbse class exams boys in days\n",
      "\n",
      "\n",
      "원문79 : brazilian striker dos santos attacked manager substituted th minute first division match pushed tried hit teammates police intervened team president said play \n",
      "실제 요약 : player attacks manager after being in th min \n",
      "예측 요약 :  player sent to hit after being hit by police in brazil\n",
      "\n",
      "\n",
      "원문80 : pakistan pacer wahab riaz ran backward mid take diving catch west indies day one test chase tried hit ball ground ended high air riaz managed stop inside boundary line motion took towards ropes \n",
      "실제 요약 : runs to pull off diving catch near boundary \n",
      "예측 요약 :  pak batsman goes on field to hit ball gets run out\n",
      "\n",
      "\n",
      "원문81 : india year old shuttler sen settled silver medal lost men singles final li china straight games youth olympics saturday sen reigning asian junior champion beaten straight games quarterfinals asian championships july \n",
      "실제 요약 : india yr old shuttler wins silver at youth olympics \n",
      "예측 요약 :  india wins bronze at asian ships for asian games\n",
      "\n",
      "\n",
      "원문82 : harvard researchers estimated least one fast radio burst going somewhere universe every second scientists possible sources radio waves could range rotating neutron stars alien spacecraft studying could help understand dark matter dark energy supposedly govern fast universe expanding said researchers \n",
      "실제 요약 : fast radio bursts may every sec in the universe study \n",
      "예측 요약 :  scientists discover new new theory of milky way\n",
      "\n",
      "\n",
      "원문83 : following india win australia border gavaskar trophy skipper virat kohli said consider australian cricketers friends anymore thought case changed sure heat battle want competitive proven wrong hear say ever kohli said \n",
      "실제 요약 : australian players are no longer friends says virat kohli \n",
      "예측 요약 :  kohli is the right to be aus kohli\n",
      "\n",
      "\n",
      "원문84 : sonu ke titu ki sweety actress nushrat recently posing fans one allegedly molested wrapped arms around waist made freeze could react said happily people approach selfies however added want people friendly nature \n",
      "실제 요약 : could not react on being molested by fan \n",
      "예측 요약 :  sonu nigam trolled for not assaulting fans\n",
      "\n",
      "\n",
      "원문85 : video compiled guardian shows several world leaders including uk pm theresa may us president donald trump russian president vladimir putin dancing events comes several people took twitter mock british pm danced events south africa kenya three leg trip africa \n",
      "실제 요약 : video shows world leaders may trump putin dancing at events \n",
      "예측 요약 :  us wickets trump putin putin stump on windies visit\n",
      "\n",
      "\n",
      "원문86 : demand worker app monday sent email entire database users asking would like install british man email contained man full address along time home startup later apologised twitter attributing incident error \n",
      "실제 요약 : on demand worker app sends man address to entire database \n",
      "예측 요약 :  app user bug hacked to let users sue facebook\n",
      "\n",
      "\n",
      "원문87 : indian spinner harbhajan singh compared indian batsmen virat kohli rohit sharma saying virat numbers grown last couple years say anybody near say rohit speak talent rohit kohli hard work kohli left everyone behind harbhajan added \n",
      "실제 요약 : if anybody is near kohli it is rohit harbhajan singh \n",
      "예측 요약 :  virat kohli anushka not to be married harbhajan\n",
      "\n",
      "\n",
      "원문88 : two bikers mumbai arrested allegedly following convoy canadian prime minister justin trudeau performing stunts road police said incident took place monday convoy moving towards hotel taj mahal palace airport accused sneaked security cordon seeing area empty started performing stunts \n",
      "실제 요약 : bikers held for following canada pm trudeau convoy \n",
      "예측 요약 :  police station held for raping impregnating car in mp\n",
      "\n",
      "\n",
      "원문89 : nagpur city police friday tweeted kaun banega crorepati inspired meme questioned users excuses wearing helmets driving tough question opting audience poll stake life photo captioned several social media users shared memes tenth season featuring amitabh bachchan started september \n",
      "실제 요약 : nagpur police uses kbc meme to ask excuse for not wearing helmets \n",
      "예측 요약 :  police trolled for selling kylie taapsee pannu\n",
      "\n",
      "\n",
      "원문90 : per reports deepika padukone plays titular role sanjay leela bhansali padmavati paid male co stars ranveer singh shahid kapoor source said deepika taken home crore ranveer shahid share equal digits close crore respectively film revolves around alauddin khilji rajput queen padmavati \n",
      "실제 요약 : deepika paid more than ranveer shahid for padmavati report \n",
      "예측 요약 :  deepika ranveer starrer bhansali to release in shahid afridi\n",
      "\n",
      "\n",
      "원문91 : nobel prize winning economist joseph said bitcoin outlawed serve socially useful function said bitcoin successful potential lack oversight added bitcoin going give lot exciting times people rides goes \n",
      "실제 요약 : bitcoin should be banned nobel prize winning economist \n",
      "예측 요약 :  bitcoin is bitcoin prize nobel laureate\n",
      "\n",
      "\n",
      "원문92 : land degradation drought cost india gross domestic product according study commissioned environment ministry pointing globally lose hectares minute drought environment minister harsh vardhan said converts million tonne loss potential production year \n",
      "실제 요약 : land drought cost india of gdp study \n",
      "예측 요약 :  monsoon session in india to be in india\n",
      "\n",
      "\n",
      "원문93 : prime minister narendra modi ranked ninth forbes list world powerful people chinese president xi jinping ranked first followed russian president vladimir putin us president donald trump second third rank respectively indian feature list reliance industries chairman mukesh ambani \n",
      "실제 요약 : pm modi among forbes top most powerful people in the world \n",
      "예측 요약 :  pm modi named world most powerful in world\n",
      "\n",
      "\n",
      "원문94 : researchers university us university portugal developed wearable tattoo like circuits used different areas including healthcare soft robotics gaming circuits made silver nanoparticles printed temporary tattoo film tattoos flexible maintain functions even researcher said \n",
      "실제 요약 : wearable electronic tattoos to be used for healthcare made \n",
      "예측 요약 :  researchers create robotic arm for\n",
      "\n",
      "\n",
      "원문95 : smoking costs india crore ill health early deaths every year according study equivalent country gdp total health spend study observed study also suggested million face poverty spending tobacco associated health costs \n",
      "실제 요약 : smoking costs india over cr every year study \n",
      "예측 요약 :  india has up kids to get lakh in\n",
      "\n",
      "\n",
      "원문96 : bjp singh sirsa filed complaint delhi cm arvind kejriwal making misleading calls voters rajouri garden constituency claiming names deleted electoral rolls bjp added conspiracy defame voters constituency aap trying lower image constituency said \n",
      "실제 요약 : complaint against kejriwal for misleading calls to voters \n"
     ]
    },
    {
     "name": "stdout",
     "output_type": "stream",
     "text": [
      "예측 요약 :  bjp files complaint against kejriwal over kejriwal in delhi\n",
      "\n",
      "\n",
      "원문97 : filing application marry british partner coutinho iron lady sharmila said want return home state manipur fought armed forces special powers act long years people rejected polls want go back said \n",
      "실제 요약 : people rejected me do not want to return to manipur \n",
      "예측 요약 :  couple offers to marry girlfriend in telangana\n",
      "\n",
      "\n",
      "원문98 : bjp candidates rajya sabha elections uttar pradesh cm yogi adityanath announced friday two thirds majority assembly party required number mlas win seats bjp candidate anil agarwal defeated bsp candidate br ambedkar win ninth seat sp candidate jaya bachchan tenth seat \n",
      "실제 요약 : all bjp candidates won rajya sabha polls from up cm yogi \n",
      "예측 요약 :  yogi to contest rajya sabha polls in up in guj\n",
      "\n",
      "\n",
      "원문99 : supreme court wednesday allowed woman terminate pregnancy based medical report said week old foetus without skull would able survive report suggested allowing pregnancy run full course could pose severe mental injury year old woman \n",
      "실제 요약 : sc allows woman to abort week old foetus without skull \n",
      "예측 요약 :  abortion pregnant woman suffering from cancer sc\n",
      "\n",
      "\n"
     ]
    }
   ],
   "source": [
    "for i in range(50, 100):\n",
    "    print(f\"원문{i} :\", seq2text(encoder_input_test[i]))\n",
    "    print(\"실제 요약 :\", seq2summary(decoder_input_test[i]))\n",
    "    print(\"예측 요약 :\", decode_sequence(encoder_input_test[i].reshape(1, text_max_len)))\n",
    "    print(\"\\n\")"
   ]
  },
  {
   "cell_type": "code",
   "execution_count": 115,
   "metadata": {},
   "outputs": [
    {
     "data": {
      "text/plain": [
       "'facebook working feature called time facebook track much time users spend average app also offer users option set daily time limit reduce app usage company spokesperson confirmed reveal feature would launched '"
      ]
     },
     "execution_count": 115,
     "metadata": {},
     "output_type": "execute_result"
    }
   ],
   "source": [
    "seq2text(encoder_input_test[52])"
   ]
  },
  {
   "cell_type": "code",
   "execution_count": 127,
   "metadata": {},
   "outputs": [
    {
     "data": {
      "text/plain": [
       "'facebook working on tool to track users time spent on app'"
      ]
     },
     "execution_count": 127,
     "metadata": {},
     "output_type": "execute_result"
    }
   ],
   "source": [
    "str_test = seq2summary(decoder_input_test[52])[:-1]\n",
    "str_test"
   ]
  },
  {
   "cell_type": "markdown",
   "metadata": {},
   "source": [
    "## Step 5. Summa을 이용해서 추출적 요약해보기  \n",
    "추상적 요약은 추출적 요약과는 달리 문장의 표현력을 다양하게 가져갈 수 있지만, 추출적 요약에 비해서 난이도가 높다. 반대로 말하면 추출적 요약은 추상적 요약에 비해 난이도가 낮고 기존 문장에서 문장을 꺼내오는 것이므로 잘못된 요약이 나올 가능성이 낮다.\n",
    "\n",
    "Summa의 summarize를 사용하여 추출적 요약을 해보기."
   ]
  },
  {
   "cell_type": "code",
   "execution_count": 134,
   "metadata": {},
   "outputs": [
    {
     "data": {
      "text/plain": [
       "Int64Index([36928], dtype='int64')"
      ]
     },
     "execution_count": 134,
     "metadata": {},
     "output_type": "execute_result"
    }
   ],
   "source": [
    "data[data['headlines'] == str_test].index"
   ]
  },
  {
   "cell_type": "code",
   "execution_count": 77,
   "metadata": {},
   "outputs": [],
   "source": [
    "import requests\n",
    "from summa.summarizer import summarize"
   ]
  },
  {
   "cell_type": "code",
   "execution_count": 140,
   "metadata": {},
   "outputs": [],
   "source": [
    "urllib.request.urlretrieve(\"https://raw.githubusercontent.com/sunnysai12345/News_Summary/master/news_summary_more.csv\", filename=\"news_summary_more.csv\")\n",
    "summa_data = pd.read_csv('news_summary_more.csv', encoding='iso-8859-1')"
   ]
  },
  {
   "cell_type": "code",
   "execution_count": 141,
   "metadata": {
    "scrolled": true
   },
   "outputs": [
    {
     "name": "stdout",
     "output_type": "stream",
     "text": [
      "Summary:\n",
      "Facebook is working on a feature called 'Your Time on Facebook' which will track how much time users spend on an average on the app.\n"
     ]
    }
   ],
   "source": [
    "print('Summary:')\n",
    "print(summarize(summa_data.iloc[36928].text, words=13))"
   ]
  },
  {
   "cell_type": "markdown",
   "metadata": {},
   "source": [
    "### 추상적 요약과 추출적 요약 비교"
   ]
  },
  {
   "cell_type": "code",
   "execution_count": 148,
   "metadata": {},
   "outputs": [
    {
     "name": "stdout",
     "output_type": "stream",
     "text": [
      "1)원문(전처리전) : Facebook is working on a feature called 'Your Time on Facebook' which will track how much time users spend on an average on the app. It will also offer users an option to set a daily time limit to reduce app usage. A company spokesperson confirmed the same but did not reveal when or if the feature would be launched.\n",
      "\n",
      "\n",
      "2)원문(전처리후) : facebook working feature called time facebook track much time users spend average app also offer users option set daily time limit reduce app usage company spokesperson confirmed reveal feature would launched \n",
      "\n",
      "\n",
      "3)실제 요약 : facebook working on tool to track users time spent on app \n",
      "\n",
      "\n",
      "4)추상적 요약 :  facebook to let users share time to share spent on app\n",
      "\n",
      "\n",
      "5)추출적 요약 : Facebook is working on a feature called 'Your Time on Facebook' which will track how much time users spend on an average on the app.\n",
      "\n",
      "\n"
     ]
    }
   ],
   "source": [
    "print(\"1)원문(전처리전) :\", summa_data.iloc[36928].text)\n",
    "print(\"\\n\")\n",
    "print(\"2)원문(전처리후) :\", seq2text(encoder_input_test[52]))\n",
    "print(\"\\n\")\n",
    "print(\"3)실제 요약 :\", seq2summary(decoder_input_test[52]))\n",
    "print(\"\\n\")\n",
    "print(\"4)추상적 요약 :\", decode_sequence(encoder_input_test[52].reshape(1, text_max_len)))\n",
    "print(\"\\n\")\n",
    "print(\"5)추출적 요약 :\", summarize(summa_data.iloc[36928].text, ratio=0.5))\n",
    "print(\"\\n\")"
   ]
  },
  {
   "cell_type": "markdown",
   "metadata": {},
   "source": [
    "## 느낀점\n",
    "추상적 요약은 얼추 실제 요약한 의미와 비슷하게 요약을 이루어 냈다.  \n",
    "어텐션에 대한 개념을 아직 정확히 숙지하지 못했지만 의미있는 프로젝트를 한거 같다.   \n",
    "네이버에 뉴스 요약봇이 있다는 것을 이 노드를 통해서 알았다. 네이버에 너무 관심이 없었나보다. AI연구도 많이 한다는데 관심을 가져야겠다.   \n",
    "프로젝트 진행중 추출적 요약이 잘 되지 않았다. 문장이 짧아서인지 ration=0.5 이하나 words=13 이하로 파라미터 설정시 데이터가 요약되지 않았다.  \n",
    "전처리를 하게 되면 더더욱 데이터는 나오지 않았다. 추출적 요약은 전처리 되지 않은 원문으로 처리했다.   \n",
    "확실히 추상적 요약이 내용을 summary한 느낌을 준다.   \n",
    "\n",
    "\n"
   ]
  }
 ],
 "metadata": {
  "kernelspec": {
   "display_name": "aiffel",
   "language": "python",
   "name": "aiffel"
  },
  "language_info": {
   "codemirror_mode": {
    "name": "ipython",
    "version": 3
   },
   "file_extension": ".py",
   "mimetype": "text/x-python",
   "name": "python",
   "nbconvert_exporter": "python",
   "pygments_lexer": "ipython3",
   "version": "3.7.9"
  }
 },
 "nbformat": 4,
 "nbformat_minor": 4
}
