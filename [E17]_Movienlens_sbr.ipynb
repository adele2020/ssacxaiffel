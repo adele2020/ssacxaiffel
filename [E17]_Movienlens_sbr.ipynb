{
 "cells": [
  {
   "cell_type": "markdown",
   "metadata": {},
   "source": [
    "# 프로젝트 - Movielens 영화 SBR\n",
    "\n",
    "목표 : Movielens 1M Dataset을 기반으로, Session based Recommendation 시스템을 제작해 보기.\n",
    "\n",
    "\n",
    "- 여기서 이전 실습내역과 가장 크게 다른 부분은 바로 SessionID 대신 UserID 항목이 들어갔다는 점입니다. 이 데이터셋은 명확한 1회 세션의 SessionID를 포함하지 않고 있습니다. 그래서 이번에는 UserID가 SessionID 역할을 해야 합니다.\n",
    "\n",
    "- Rating 정보가 포함되어 있습니다. 이전 실습내역에서는 이런 항목이 포함되어 있지 않았으므로, 무시하고 제외할 수 있습니다. 하지만, 직전에 봤던 영화가 맘에 들었는지 여부가 비슷한 영화를 더 고르게 하는 것과 상관이 있을 수도 있습니다. 아울러, Rating이 낮은 데이터를 어떻게 처리할지도 고민해야 합니다.\n",
    "\n",
    "- Time 항목에는 UTC time 가 포함되어, 1970년 1월 1일부터 경과된 초단위 시간이 기재되어 있습니다.\n",
    "\n",
    "위와 같은 정보를 바탕으로 오늘의 실습과정과 유사한 프로젝트 과정을 진행해 보겠습니다.\n",
    "\n",
    "---------------------------------------------------------------------------------------------------"
   ]
  },
  {
   "cell_type": "markdown",
   "metadata": {},
   "source": [
    "<img src=\"./images/E17/e17-Rubric.png\"></img>  \n",
    "\n",
    "-----------------------------------------------------------------"
   ]
  },
  {
   "cell_type": "markdown",
   "metadata": {},
   "source": [
    "## Step 0. 데이터 가져오기  \n",
    "\n",
    "1) wget으로 데이터 다운로드\n",
    "$ wget http://files.grouplens.org/datasets/movielens/ml-1m.zip\n",
    "\n",
    "2) 다운받은 데이터를 작업디렉토리로 이동\n",
    "$ mv ml-1m.zip ~/aiffel/yoochoose-data\n",
    "\n",
    "3) 압축 해제\n",
    "$ cd ~/aiffel/yoochoose-data && unzip ml-1m.zip  \n",
    "\n"
   ]
  },
  {
   "cell_type": "code",
   "execution_count": 31,
   "metadata": {},
   "outputs": [],
   "source": [
    "import datetime as dt\n",
    "from pathlib import Path\n",
    "import os\n",
    "\n",
    "import numpy as np\n",
    "import pandas as pd\n",
    "import warnings\n",
    "warnings.filterwarnings('ignore')"
   ]
  },
  {
   "cell_type": "code",
   "execution_count": 32,
   "metadata": {},
   "outputs": [
    {
     "data": {
      "text/html": [
       "<div>\n",
       "<style scoped>\n",
       "    .dataframe tbody tr th:only-of-type {\n",
       "        vertical-align: middle;\n",
       "    }\n",
       "\n",
       "    .dataframe tbody tr th {\n",
       "        vertical-align: top;\n",
       "    }\n",
       "\n",
       "    .dataframe thead th {\n",
       "        text-align: right;\n",
       "    }\n",
       "</style>\n",
       "<table border=\"1\" class=\"dataframe\">\n",
       "  <thead>\n",
       "    <tr style=\"text-align: right;\">\n",
       "      <th></th>\n",
       "      <th>UserId</th>\n",
       "      <th>ItemId</th>\n",
       "      <th>Rating</th>\n",
       "      <th>Time</th>\n",
       "    </tr>\n",
       "  </thead>\n",
       "  <tbody>\n",
       "    <tr>\n",
       "      <th>31</th>\n",
       "      <td>1</td>\n",
       "      <td>3186</td>\n",
       "      <td>4</td>\n",
       "      <td>2000-12-31 22:00:19</td>\n",
       "    </tr>\n",
       "    <tr>\n",
       "      <th>22</th>\n",
       "      <td>1</td>\n",
       "      <td>1270</td>\n",
       "      <td>5</td>\n",
       "      <td>2000-12-31 22:00:55</td>\n",
       "    </tr>\n",
       "    <tr>\n",
       "      <th>27</th>\n",
       "      <td>1</td>\n",
       "      <td>1721</td>\n",
       "      <td>4</td>\n",
       "      <td>2000-12-31 22:00:55</td>\n",
       "    </tr>\n",
       "    <tr>\n",
       "      <th>37</th>\n",
       "      <td>1</td>\n",
       "      <td>1022</td>\n",
       "      <td>5</td>\n",
       "      <td>2000-12-31 22:00:55</td>\n",
       "    </tr>\n",
       "    <tr>\n",
       "      <th>24</th>\n",
       "      <td>1</td>\n",
       "      <td>2340</td>\n",
       "      <td>3</td>\n",
       "      <td>2000-12-31 22:01:43</td>\n",
       "    </tr>\n",
       "    <tr>\n",
       "      <th>...</th>\n",
       "      <td>...</td>\n",
       "      <td>...</td>\n",
       "      <td>...</td>\n",
       "      <td>...</td>\n",
       "    </tr>\n",
       "    <tr>\n",
       "      <th>1000019</th>\n",
       "      <td>6040</td>\n",
       "      <td>2917</td>\n",
       "      <td>4</td>\n",
       "      <td>2001-08-10 14:40:29</td>\n",
       "    </tr>\n",
       "    <tr>\n",
       "      <th>999988</th>\n",
       "      <td>6040</td>\n",
       "      <td>1921</td>\n",
       "      <td>4</td>\n",
       "      <td>2001-08-10 14:41:04</td>\n",
       "    </tr>\n",
       "    <tr>\n",
       "      <th>1000172</th>\n",
       "      <td>6040</td>\n",
       "      <td>1784</td>\n",
       "      <td>3</td>\n",
       "      <td>2001-08-10 14:41:04</td>\n",
       "    </tr>\n",
       "    <tr>\n",
       "      <th>1000167</th>\n",
       "      <td>6040</td>\n",
       "      <td>161</td>\n",
       "      <td>3</td>\n",
       "      <td>2001-08-10 14:41:26</td>\n",
       "    </tr>\n",
       "    <tr>\n",
       "      <th>1000042</th>\n",
       "      <td>6040</td>\n",
       "      <td>1221</td>\n",
       "      <td>4</td>\n",
       "      <td>2001-08-20 13:44:15</td>\n",
       "    </tr>\n",
       "  </tbody>\n",
       "</table>\n",
       "<p>1000209 rows × 4 columns</p>\n",
       "</div>"
      ],
      "text/plain": [
       "         UserId  ItemId  Rating                Time\n",
       "31            1    3186       4 2000-12-31 22:00:19\n",
       "22            1    1270       5 2000-12-31 22:00:55\n",
       "27            1    1721       4 2000-12-31 22:00:55\n",
       "37            1    1022       5 2000-12-31 22:00:55\n",
       "24            1    2340       3 2000-12-31 22:01:43\n",
       "...         ...     ...     ...                 ...\n",
       "1000019    6040    2917       4 2001-08-10 14:40:29\n",
       "999988     6040    1921       4 2001-08-10 14:41:04\n",
       "1000172    6040    1784       3 2001-08-10 14:41:04\n",
       "1000167    6040     161       3 2001-08-10 14:41:26\n",
       "1000042    6040    1221       4 2001-08-20 13:44:15\n",
       "\n",
       "[1000209 rows x 4 columns]"
      ]
     },
     "execution_count": 32,
     "metadata": {},
     "output_type": "execute_result"
    }
   ],
   "source": [
    "data_path = Path(os.getenv('HOME')+'/aiffel/yoochoose-data/ml-1m') \n",
    "train_path = data_path / 'ratings.dat'\n",
    "\n",
    "def load_data(data_path: Path, nrows=None):\n",
    "    data = pd.read_csv(data_path, sep='::', header=None, usecols=[0, 1, 2, 3], dtype={0: np.int32, 1: np.int32, 2: np.int32}, nrows=nrows)\n",
    "    data.columns = ['UserId', 'ItemId', 'Rating', 'Time']\n",
    "    return data\n",
    "\n",
    "data = load_data(train_path, None)\n",
    "data.sort_values(['UserId', 'Time'], inplace=True)  # data를 id와 시간 순서로 정렬해줍니다.\n",
    "data['Time'] = data['Time'].map(lambda x: pd.Timestamp(x, unit='s')) # Timestamp 형식으로 변형해서 데이터를 준비합니다. \n",
    "data"
   ]
  },
  {
   "cell_type": "markdown",
   "metadata": {},
   "source": [
    "### 데이터 EDA "
   ]
  },
  {
   "cell_type": "markdown",
   "metadata": {},
   "source": [
    "UserId 와 ItemId 의 유일한 갯수"
   ]
  },
  {
   "cell_type": "code",
   "execution_count": 33,
   "metadata": {},
   "outputs": [
    {
     "data": {
      "text/plain": [
       "(6040, 3706)"
      ]
     },
     "execution_count": 33,
     "metadata": {},
     "output_type": "execute_result"
    }
   ],
   "source": [
    "data['UserId'].nunique(), data['ItemId'].nunique()"
   ]
  },
  {
   "cell_type": "markdown",
   "metadata": {},
   "source": [
    "UserId 별 데이터는 몇 개인지 확인"
   ]
  },
  {
   "cell_type": "code",
   "execution_count": 34,
   "metadata": {},
   "outputs": [
    {
     "data": {
      "text/plain": [
       "UserId\n",
       "1        53\n",
       "2       129\n",
       "3        51\n",
       "4        21\n",
       "5       198\n",
       "       ... \n",
       "6036    888\n",
       "6037    202\n",
       "6038     20\n",
       "6039    123\n",
       "6040    341\n",
       "Length: 6040, dtype: int64"
      ]
     },
     "execution_count": 34,
     "metadata": {},
     "output_type": "execute_result"
    }
   ],
   "source": [
    "user_length = data.groupby('UserId').size()\n",
    "user_length"
   ]
  },
  {
   "cell_type": "markdown",
   "metadata": {},
   "source": [
    "itemId 별 데이터가 몇 개인지 확인"
   ]
  },
  {
   "cell_type": "code",
   "execution_count": 35,
   "metadata": {},
   "outputs": [
    {
     "data": {
      "text/plain": [
       "ItemId\n",
       "1       2077\n",
       "2        701\n",
       "3        478\n",
       "4        170\n",
       "5        296\n",
       "        ... \n",
       "3948     862\n",
       "3949     304\n",
       "3950      54\n",
       "3951      40\n",
       "3952     388\n",
       "Length: 3706, dtype: int64"
      ]
     },
     "execution_count": 35,
     "metadata": {},
     "output_type": "execute_result"
    }
   ],
   "source": [
    "item_length = data.groupby('ItemId').size()\n",
    "item_length"
   ]
  },
  {
   "cell_type": "markdown",
   "metadata": {},
   "source": [
    "UserId별 시간(초)당 데이터는 몇 개인지 확인"
   ]
  },
  {
   "cell_type": "code",
   "execution_count": 36,
   "metadata": {},
   "outputs": [
    {
     "data": {
      "text/plain": [
       "UserId  Time               \n",
       "1       2000-12-31 22:00:19    1\n",
       "        2000-12-31 22:00:55    3\n",
       "        2000-12-31 22:01:43    1\n",
       "        2000-12-31 22:02:52    1\n",
       "        2000-12-31 22:04:35    1\n",
       "                              ..\n",
       "6040    2001-08-10 14:39:58    1\n",
       "        2001-08-10 14:40:29    1\n",
       "        2001-08-10 14:41:04    2\n",
       "        2001-08-10 14:41:26    1\n",
       "        2001-08-20 13:44:15    1\n",
       "Length: 471163, dtype: int64"
      ]
     },
     "execution_count": 36,
     "metadata": {},
     "output_type": "execute_result"
    }
   ],
   "source": [
    "user_time_length = data.groupby(['UserId', 'Time']).size()\n",
    "user_time_length"
   ]
  },
  {
   "cell_type": "markdown",
   "metadata": {},
   "source": [
    "한 사용자가 시간(초)당 item에 Rating을 부여하는 액션을 몇번을 취했는지 확인할 수 있다. 시간(초)당 액션 수가 비정상적으로 많다면 의심을 해봐야겠습니다."
   ]
  },
  {
   "cell_type": "code",
   "execution_count": 37,
   "metadata": {},
   "outputs": [
    {
     "data": {
      "text/plain": [
       "(96.0, 165.5975165562914)"
      ]
     },
     "execution_count": 37,
     "metadata": {},
     "output_type": "execute_result"
    }
   ],
   "source": [
    "user_length.median(), user_length.mean()"
   ]
  },
  {
   "cell_type": "code",
   "execution_count": 38,
   "metadata": {},
   "outputs": [
    {
     "data": {
      "text/plain": [
       "(20, 2314)"
      ]
     },
     "execution_count": 38,
     "metadata": {},
     "output_type": "execute_result"
    }
   ],
   "source": [
    "user_length.min(), user_length.max()"
   ]
  },
  {
   "cell_type": "code",
   "execution_count": 39,
   "metadata": {},
   "outputs": [
    {
     "data": {
      "text/plain": [
       "(2.0, 2.1228513274599234)"
      ]
     },
     "execution_count": 39,
     "metadata": {},
     "output_type": "execute_result"
    }
   ],
   "source": [
    "user_time_length.median(), user_time_length.mean()"
   ]
  },
  {
   "cell_type": "code",
   "execution_count": 40,
   "metadata": {},
   "outputs": [
    {
     "data": {
      "text/plain": [
       "(1, 30)"
      ]
     },
     "execution_count": 40,
     "metadata": {},
     "output_type": "execute_result"
    }
   ],
   "source": [
    "user_time_length.min(), user_time_length.max()"
   ]
  },
  {
   "cell_type": "markdown",
   "metadata": {},
   "source": [
    "사용자별 시간(초)별 보통의 액션은 2번 정도인데, 같은 시간(초)에 30번 이상 Rating을 부여하는 액션을 취한 것은 이상해 보입니다."
   ]
  },
  {
   "cell_type": "code",
   "execution_count": 41,
   "metadata": {},
   "outputs": [
    {
     "data": {
      "text/plain": [
       "1343.181000000005"
      ]
     },
     "execution_count": 41,
     "metadata": {},
     "output_type": "execute_result"
    }
   ],
   "source": [
    "user_length.quantile(0.999)"
   ]
  },
  {
   "cell_type": "code",
   "execution_count": 42,
   "metadata": {
    "scrolled": true
   },
   "outputs": [
    {
     "data": {
      "text/plain": [
       "10.0"
      ]
     },
     "execution_count": 42,
     "metadata": {},
     "output_type": "execute_result"
    }
   ],
   "source": [
    "user_time_length.quantile(0.999)"
   ]
  },
  {
   "cell_type": "markdown",
   "metadata": {},
   "source": [
    "사용자별 시간(초)별 Rating한 액션을 봤을 때 99.9%가 10이하입니다. 같은 사용자가 동일한 시간(초)에 10이상 Rating을 한다는 것은 가능한 것일까요? 비정상적인 액션같습니다.\n",
    "아래에 동일 사용자가 동일한 시간(초) 최대 30번 Rating을 한 데이터를 조회해 봤습니다. 각기 다른 itemid에 rating 도 다양하게 부여되었습니다. 동일 초단위 시간에 다른 내용의 액션이 되었다는건 부적절한 행위가 유입된 듯 보입니다."
   ]
  },
  {
   "cell_type": "code",
   "execution_count": 43,
   "metadata": {
    "scrolled": false
   },
   "outputs": [
    {
     "data": {
      "text/html": [
       "<div>\n",
       "<style scoped>\n",
       "    .dataframe tbody tr th:only-of-type {\n",
       "        vertical-align: middle;\n",
       "    }\n",
       "\n",
       "    .dataframe tbody tr th {\n",
       "        vertical-align: top;\n",
       "    }\n",
       "\n",
       "    .dataframe thead th {\n",
       "        text-align: right;\n",
       "    }\n",
       "</style>\n",
       "<table border=\"1\" class=\"dataframe\">\n",
       "  <thead>\n",
       "    <tr style=\"text-align: right;\">\n",
       "      <th></th>\n",
       "      <th>UserId</th>\n",
       "      <th>ItemId</th>\n",
       "      <th>Rating</th>\n",
       "      <th>Time</th>\n",
       "    </tr>\n",
       "  </thead>\n",
       "  <tbody>\n",
       "    <tr>\n",
       "      <th>112231</th>\n",
       "      <td>731</td>\n",
       "      <td>3044</td>\n",
       "      <td>4</td>\n",
       "      <td>2000-11-29 20:06:42</td>\n",
       "    </tr>\n",
       "    <tr>\n",
       "      <th>112251</th>\n",
       "      <td>731</td>\n",
       "      <td>1455</td>\n",
       "      <td>3</td>\n",
       "      <td>2000-11-29 20:06:42</td>\n",
       "    </tr>\n",
       "    <tr>\n",
       "      <th>112305</th>\n",
       "      <td>731</td>\n",
       "      <td>1639</td>\n",
       "      <td>5</td>\n",
       "      <td>2000-11-29 20:06:42</td>\n",
       "    </tr>\n",
       "    <tr>\n",
       "      <th>112311</th>\n",
       "      <td>731</td>\n",
       "      <td>3244</td>\n",
       "      <td>4</td>\n",
       "      <td>2000-11-29 20:06:42</td>\n",
       "    </tr>\n",
       "    <tr>\n",
       "      <th>112323</th>\n",
       "      <td>731</td>\n",
       "      <td>1656</td>\n",
       "      <td>2</td>\n",
       "      <td>2000-11-29 20:06:42</td>\n",
       "    </tr>\n",
       "    <tr>\n",
       "      <th>112342</th>\n",
       "      <td>731</td>\n",
       "      <td>3426</td>\n",
       "      <td>4</td>\n",
       "      <td>2000-11-29 20:06:42</td>\n",
       "    </tr>\n",
       "    <tr>\n",
       "      <th>112348</th>\n",
       "      <td>731</td>\n",
       "      <td>1829</td>\n",
       "      <td>2</td>\n",
       "      <td>2000-11-29 20:06:42</td>\n",
       "    </tr>\n",
       "    <tr>\n",
       "      <th>112379</th>\n",
       "      <td>731</td>\n",
       "      <td>2675</td>\n",
       "      <td>4</td>\n",
       "      <td>2000-11-29 20:06:42</td>\n",
       "    </tr>\n",
       "    <tr>\n",
       "      <th>112476</th>\n",
       "      <td>731</td>\n",
       "      <td>802</td>\n",
       "      <td>3</td>\n",
       "      <td>2000-11-29 20:06:42</td>\n",
       "    </tr>\n",
       "    <tr>\n",
       "      <th>112478</th>\n",
       "      <td>731</td>\n",
       "      <td>803</td>\n",
       "      <td>5</td>\n",
       "      <td>2000-11-29 20:06:42</td>\n",
       "    </tr>\n",
       "    <tr>\n",
       "      <th>112492</th>\n",
       "      <td>731</td>\n",
       "      <td>1357</td>\n",
       "      <td>4</td>\n",
       "      <td>2000-11-29 20:06:42</td>\n",
       "    </tr>\n",
       "    <tr>\n",
       "      <th>112508</th>\n",
       "      <td>731</td>\n",
       "      <td>838</td>\n",
       "      <td>5</td>\n",
       "      <td>2000-11-29 20:06:42</td>\n",
       "    </tr>\n",
       "    <tr>\n",
       "      <th>112509</th>\n",
       "      <td>731</td>\n",
       "      <td>2171</td>\n",
       "      <td>4</td>\n",
       "      <td>2000-11-29 20:06:42</td>\n",
       "    </tr>\n",
       "    <tr>\n",
       "      <th>112524</th>\n",
       "      <td>731</td>\n",
       "      <td>852</td>\n",
       "      <td>2</td>\n",
       "      <td>2000-11-29 20:06:42</td>\n",
       "    </tr>\n",
       "    <tr>\n",
       "      <th>112526</th>\n",
       "      <td>731</td>\n",
       "      <td>2331</td>\n",
       "      <td>4</td>\n",
       "      <td>2000-11-29 20:06:42</td>\n",
       "    </tr>\n",
       "    <tr>\n",
       "      <th>112529</th>\n",
       "      <td>731</td>\n",
       "      <td>1535</td>\n",
       "      <td>3</td>\n",
       "      <td>2000-11-29 20:06:42</td>\n",
       "    </tr>\n",
       "    <tr>\n",
       "      <th>112536</th>\n",
       "      <td>731</td>\n",
       "      <td>1393</td>\n",
       "      <td>2</td>\n",
       "      <td>2000-11-29 20:06:42</td>\n",
       "    </tr>\n",
       "    <tr>\n",
       "      <th>112566</th>\n",
       "      <td>731</td>\n",
       "      <td>1564</td>\n",
       "      <td>4</td>\n",
       "      <td>2000-11-29 20:06:42</td>\n",
       "    </tr>\n",
       "    <tr>\n",
       "      <th>112570</th>\n",
       "      <td>731</td>\n",
       "      <td>892</td>\n",
       "      <td>5</td>\n",
       "      <td>2000-11-29 20:06:42</td>\n",
       "    </tr>\n",
       "    <tr>\n",
       "      <th>112610</th>\n",
       "      <td>731</td>\n",
       "      <td>151</td>\n",
       "      <td>3</td>\n",
       "      <td>2000-11-29 20:06:42</td>\n",
       "    </tr>\n",
       "    <tr>\n",
       "      <th>112617</th>\n",
       "      <td>731</td>\n",
       "      <td>2715</td>\n",
       "      <td>2</td>\n",
       "      <td>2000-11-29 20:06:42</td>\n",
       "    </tr>\n",
       "    <tr>\n",
       "      <th>112619</th>\n",
       "      <td>731</td>\n",
       "      <td>2570</td>\n",
       "      <td>2</td>\n",
       "      <td>2000-11-29 20:06:42</td>\n",
       "    </tr>\n",
       "    <tr>\n",
       "      <th>112700</th>\n",
       "      <td>731</td>\n",
       "      <td>39</td>\n",
       "      <td>5</td>\n",
       "      <td>2000-11-29 20:06:42</td>\n",
       "    </tr>\n",
       "    <tr>\n",
       "      <th>112705</th>\n",
       "      <td>731</td>\n",
       "      <td>2919</td>\n",
       "      <td>4</td>\n",
       "      <td>2000-11-29 20:06:42</td>\n",
       "    </tr>\n",
       "    <tr>\n",
       "      <th>112713</th>\n",
       "      <td>731</td>\n",
       "      <td>49</td>\n",
       "      <td>4</td>\n",
       "      <td>2000-11-29 20:06:42</td>\n",
       "    </tr>\n",
       "    <tr>\n",
       "      <th>112726</th>\n",
       "      <td>731</td>\n",
       "      <td>58</td>\n",
       "      <td>4</td>\n",
       "      <td>2000-11-29 20:06:42</td>\n",
       "    </tr>\n",
       "    <tr>\n",
       "      <th>112754</th>\n",
       "      <td>731</td>\n",
       "      <td>1210</td>\n",
       "      <td>3</td>\n",
       "      <td>2000-11-29 20:06:42</td>\n",
       "    </tr>\n",
       "    <tr>\n",
       "      <th>112766</th>\n",
       "      <td>731</td>\n",
       "      <td>85</td>\n",
       "      <td>4</td>\n",
       "      <td>2000-11-29 20:06:42</td>\n",
       "    </tr>\n",
       "    <tr>\n",
       "      <th>112777</th>\n",
       "      <td>731</td>\n",
       "      <td>2969</td>\n",
       "      <td>4</td>\n",
       "      <td>2000-11-29 20:06:42</td>\n",
       "    </tr>\n",
       "    <tr>\n",
       "      <th>112799</th>\n",
       "      <td>731</td>\n",
       "      <td>1244</td>\n",
       "      <td>5</td>\n",
       "      <td>2000-11-29 20:06:42</td>\n",
       "    </tr>\n",
       "  </tbody>\n",
       "</table>\n",
       "</div>"
      ],
      "text/plain": [
       "        UserId  ItemId  Rating                Time\n",
       "112231     731    3044       4 2000-11-29 20:06:42\n",
       "112251     731    1455       3 2000-11-29 20:06:42\n",
       "112305     731    1639       5 2000-11-29 20:06:42\n",
       "112311     731    3244       4 2000-11-29 20:06:42\n",
       "112323     731    1656       2 2000-11-29 20:06:42\n",
       "112342     731    3426       4 2000-11-29 20:06:42\n",
       "112348     731    1829       2 2000-11-29 20:06:42\n",
       "112379     731    2675       4 2000-11-29 20:06:42\n",
       "112476     731     802       3 2000-11-29 20:06:42\n",
       "112478     731     803       5 2000-11-29 20:06:42\n",
       "112492     731    1357       4 2000-11-29 20:06:42\n",
       "112508     731     838       5 2000-11-29 20:06:42\n",
       "112509     731    2171       4 2000-11-29 20:06:42\n",
       "112524     731     852       2 2000-11-29 20:06:42\n",
       "112526     731    2331       4 2000-11-29 20:06:42\n",
       "112529     731    1535       3 2000-11-29 20:06:42\n",
       "112536     731    1393       2 2000-11-29 20:06:42\n",
       "112566     731    1564       4 2000-11-29 20:06:42\n",
       "112570     731     892       5 2000-11-29 20:06:42\n",
       "112610     731     151       3 2000-11-29 20:06:42\n",
       "112617     731    2715       2 2000-11-29 20:06:42\n",
       "112619     731    2570       2 2000-11-29 20:06:42\n",
       "112700     731      39       5 2000-11-29 20:06:42\n",
       "112705     731    2919       4 2000-11-29 20:06:42\n",
       "112713     731      49       4 2000-11-29 20:06:42\n",
       "112726     731      58       4 2000-11-29 20:06:42\n",
       "112754     731    1210       3 2000-11-29 20:06:42\n",
       "112766     731      85       4 2000-11-29 20:06:42\n",
       "112777     731    2969       4 2000-11-29 20:06:42\n",
       "112799     731    1244       5 2000-11-29 20:06:42"
      ]
     },
     "execution_count": 43,
     "metadata": {},
     "output_type": "execute_result"
    }
   ],
   "source": [
    "long_user = user_time_length[user_time_length==30].index[0]\n",
    "data[(data['UserId']==long_user[0]) & (data['Time'] == long_user[1])]"
   ]
  },
  {
   "cell_type": "markdown",
   "metadata": {},
   "source": [
    "한 사용자가 동일 시간(초)에 몇번의 액션을 취했는지(Rating을 했는지) 시각화를 통해 알아봅니다. 하위 99.9%까지의 분포 누적합을 시각화한 것입니다."
   ]
  },
  {
   "cell_type": "code",
   "execution_count": 44,
   "metadata": {},
   "outputs": [
    {
     "data": {
      "text/plain": [
       "1    0.480048\n",
       "2    0.713936\n",
       "3    0.847350\n",
       "4    0.919684\n",
       "5    0.958639\n",
       "6    0.979132\n",
       "7    0.989772\n",
       "8    0.994989\n",
       "9    0.997604\n",
       "dtype: float64"
      ]
     },
     "execution_count": 44,
     "metadata": {},
     "output_type": "execute_result"
    }
   ],
   "source": [
    "length_count = user_time_length.groupby(user_time_length).size()\n",
    "length_percent_cumsum = length_count.cumsum() / length_count.sum()\n",
    "length_percent_cumsum_999 = length_percent_cumsum[length_percent_cumsum < 0.999]\n",
    "\n",
    "length_percent_cumsum_999"
   ]
  },
  {
   "cell_type": "code",
   "execution_count": 45,
   "metadata": {
    "scrolled": false
   },
   "outputs": [
    {
     "data": {
      "image/png": "[encoded data removed]",
      "text/plain": [
       "<Figure size 1440x720 with 1 Axes>"
      ]
     },
     "metadata": {
      "needs_background": "light"
     },
     "output_type": "display_data"
    }
   ],
   "source": [
    "import matplotlib.pyplot as plt\n",
    "\n",
    "plt.figure(figsize=(20, 10))\n",
    "plt.bar(x=length_percent_cumsum_999.index,\n",
    "        height=length_percent_cumsum_999, color='red')\n",
    "plt.xticks(length_percent_cumsum_999.index)\n",
    "plt.yticks(np.arange(0, 1.01, 0.05))\n",
    "plt.title('Cumsum Percentage Until 0.999', size=20)\n",
    "plt.show()"
   ]
  },
  {
   "cell_type": "code",
   "execution_count": 46,
   "metadata": {},
   "outputs": [
    {
     "name": "stdout",
     "output_type": "stream",
     "text": [
      "2000-04-25 23:05:32\n",
      "2003-02-28 17:49:50\n"
     ]
    }
   ],
   "source": [
    "oldest, latest = data['Time'].min(), data['Time'].max()\n",
    "print(oldest) \n",
    "print(latest)"
   ]
  },
  {
   "cell_type": "markdown",
   "metadata": {},
   "source": [
    "## Step 1. 데이터의 전처리\n",
    "위와 같이 간단히 구성해 본 데이터셋을 꼼꼼이 살펴보면서 항목별 기본분석, session length, session time, cleaning 등의 작업을 진행합니다.\n",
    "특히, 이 데이터셋에서는 Session이 아닌 UserID 단위로 데이터가 생성되어 있으므로, 이를 Session 단위로 어떻게 해석할지에 주의합니다."
   ]
  },
  {
   "cell_type": "markdown",
   "metadata": {},
   "source": [
    "### 1-1. 데이터 Cleansing  \n",
    "데이터 전처리는 분석자의 판단에 달려있는데, 이번 분석에서는 UserId별 시간(초)별 중복이 있는 데이터는 삭제하도록 합니다."
   ]
  },
  {
   "cell_type": "code",
   "execution_count": 47,
   "metadata": {},
   "outputs": [
    {
     "data": {
      "text/html": [
       "<div>\n",
       "<style scoped>\n",
       "    .dataframe tbody tr th:only-of-type {\n",
       "        vertical-align: middle;\n",
       "    }\n",
       "\n",
       "    .dataframe tbody tr th {\n",
       "        vertical-align: top;\n",
       "    }\n",
       "\n",
       "    .dataframe thead th {\n",
       "        text-align: right;\n",
       "    }\n",
       "</style>\n",
       "<table border=\"1\" class=\"dataframe\">\n",
       "  <thead>\n",
       "    <tr style=\"text-align: right;\">\n",
       "      <th></th>\n",
       "      <th>UserId</th>\n",
       "      <th>ItemId</th>\n",
       "      <th>Rating</th>\n",
       "      <th>Time</th>\n",
       "    </tr>\n",
       "  </thead>\n",
       "  <tbody>\n",
       "    <tr>\n",
       "      <th>852</th>\n",
       "      <td>10</td>\n",
       "      <td>2067</td>\n",
       "      <td>3</td>\n",
       "      <td>2001-01-10 23:00:00</td>\n",
       "    </tr>\n",
       "    <tr>\n",
       "      <th>1097</th>\n",
       "      <td>10</td>\n",
       "      <td>898</td>\n",
       "      <td>4</td>\n",
       "      <td>2001-01-10 23:00:30</td>\n",
       "    </tr>\n",
       "    <tr>\n",
       "      <th>853</th>\n",
       "      <td>10</td>\n",
       "      <td>1265</td>\n",
       "      <td>5</td>\n",
       "      <td>2001-01-10 23:01:00</td>\n",
       "    </tr>\n",
       "    <tr>\n",
       "      <th>858</th>\n",
       "      <td>10</td>\n",
       "      <td>1197</td>\n",
       "      <td>5</td>\n",
       "      <td>2001-01-10 23:01:00</td>\n",
       "    </tr>\n",
       "    <tr>\n",
       "      <th>1165</th>\n",
       "      <td>10</td>\n",
       "      <td>2396</td>\n",
       "      <td>5</td>\n",
       "      <td>2001-01-10 23:01:00</td>\n",
       "    </tr>\n",
       "    <tr>\n",
       "      <th>...</th>\n",
       "      <td>...</td>\n",
       "      <td>...</td>\n",
       "      <td>...</td>\n",
       "      <td>...</td>\n",
       "    </tr>\n",
       "    <tr>\n",
       "      <th>1000019</th>\n",
       "      <td>6040</td>\n",
       "      <td>2917</td>\n",
       "      <td>4</td>\n",
       "      <td>2001-08-10 14:40:29</td>\n",
       "    </tr>\n",
       "    <tr>\n",
       "      <th>999988</th>\n",
       "      <td>6040</td>\n",
       "      <td>1921</td>\n",
       "      <td>4</td>\n",
       "      <td>2001-08-10 14:41:04</td>\n",
       "    </tr>\n",
       "    <tr>\n",
       "      <th>1000172</th>\n",
       "      <td>6040</td>\n",
       "      <td>1784</td>\n",
       "      <td>3</td>\n",
       "      <td>2001-08-10 14:41:04</td>\n",
       "    </tr>\n",
       "    <tr>\n",
       "      <th>1000167</th>\n",
       "      <td>6040</td>\n",
       "      <td>161</td>\n",
       "      <td>3</td>\n",
       "      <td>2001-08-10 14:41:26</td>\n",
       "    </tr>\n",
       "    <tr>\n",
       "      <th>1000042</th>\n",
       "      <td>6040</td>\n",
       "      <td>1221</td>\n",
       "      <td>4</td>\n",
       "      <td>2001-08-20 13:44:15</td>\n",
       "    </tr>\n",
       "  </tbody>\n",
       "</table>\n",
       "<p>88434 rows × 4 columns</p>\n",
       "</div>"
      ],
      "text/plain": [
       "         UserId  ItemId  Rating                Time\n",
       "852          10    2067       3 2001-01-10 23:00:00\n",
       "1097         10     898       4 2001-01-10 23:00:30\n",
       "853          10    1265       5 2001-01-10 23:01:00\n",
       "858          10    1197       5 2001-01-10 23:01:00\n",
       "1165         10    2396       5 2001-01-10 23:01:00\n",
       "...         ...     ...     ...                 ...\n",
       "1000019    6040    2917       4 2001-08-10 14:40:29\n",
       "999988     6040    1921       4 2001-08-10 14:41:04\n",
       "1000172    6040    1784       3 2001-08-10 14:41:04\n",
       "1000167    6040     161       3 2001-08-10 14:41:26\n",
       "1000042    6040    1221       4 2001-08-20 13:44:15\n",
       "\n",
       "[88434 rows x 4 columns]"
      ]
     },
     "execution_count": 47,
     "metadata": {},
     "output_type": "execute_result"
    }
   ],
   "source": [
    "month_ago = latest - dt.timedelta(780)     # 최종 날짜로부터 30일 이전 날짜를 구한다.  \n",
    "data = data[data['Time'] > month_ago]   # 방금 구한 날짜 이후의 데이터만 모은다. \n",
    "data"
   ]
  },
  {
   "cell_type": "code",
   "execution_count": 48,
   "metadata": {},
   "outputs": [
    {
     "data": {
      "text/html": [
       "<div>\n",
       "<style scoped>\n",
       "    .dataframe tbody tr th:only-of-type {\n",
       "        vertical-align: middle;\n",
       "    }\n",
       "\n",
       "    .dataframe tbody tr th {\n",
       "        vertical-align: top;\n",
       "    }\n",
       "\n",
       "    .dataframe thead th {\n",
       "        text-align: right;\n",
       "    }\n",
       "</style>\n",
       "<table border=\"1\" class=\"dataframe\">\n",
       "  <thead>\n",
       "    <tr style=\"text-align: right;\">\n",
       "      <th></th>\n",
       "      <th>UserId</th>\n",
       "      <th>ItemId</th>\n",
       "      <th>Rating</th>\n",
       "      <th>Time</th>\n",
       "    </tr>\n",
       "  </thead>\n",
       "  <tbody>\n",
       "    <tr>\n",
       "      <th>852</th>\n",
       "      <td>10</td>\n",
       "      <td>2067</td>\n",
       "      <td>3</td>\n",
       "      <td>2001-01-10 23:00:00</td>\n",
       "    </tr>\n",
       "    <tr>\n",
       "      <th>1097</th>\n",
       "      <td>10</td>\n",
       "      <td>898</td>\n",
       "      <td>4</td>\n",
       "      <td>2001-01-10 23:00:30</td>\n",
       "    </tr>\n",
       "    <tr>\n",
       "      <th>853</th>\n",
       "      <td>10</td>\n",
       "      <td>1265</td>\n",
       "      <td>5</td>\n",
       "      <td>2001-01-10 23:01:00</td>\n",
       "    </tr>\n",
       "    <tr>\n",
       "      <th>1100</th>\n",
       "      <td>10</td>\n",
       "      <td>899</td>\n",
       "      <td>4</td>\n",
       "      <td>2001-01-10 23:02:38</td>\n",
       "    </tr>\n",
       "    <tr>\n",
       "      <th>808</th>\n",
       "      <td>10</td>\n",
       "      <td>2125</td>\n",
       "      <td>5</td>\n",
       "      <td>2001-01-10 23:03:15</td>\n",
       "    </tr>\n",
       "    <tr>\n",
       "      <th>...</th>\n",
       "      <td>...</td>\n",
       "      <td>...</td>\n",
       "      <td>...</td>\n",
       "      <td>...</td>\n",
       "    </tr>\n",
       "    <tr>\n",
       "      <th>999923</th>\n",
       "      <td>6040</td>\n",
       "      <td>232</td>\n",
       "      <td>5</td>\n",
       "      <td>2001-08-10 14:39:58</td>\n",
       "    </tr>\n",
       "    <tr>\n",
       "      <th>1000019</th>\n",
       "      <td>6040</td>\n",
       "      <td>2917</td>\n",
       "      <td>4</td>\n",
       "      <td>2001-08-10 14:40:29</td>\n",
       "    </tr>\n",
       "    <tr>\n",
       "      <th>999988</th>\n",
       "      <td>6040</td>\n",
       "      <td>1921</td>\n",
       "      <td>4</td>\n",
       "      <td>2001-08-10 14:41:04</td>\n",
       "    </tr>\n",
       "    <tr>\n",
       "      <th>1000167</th>\n",
       "      <td>6040</td>\n",
       "      <td>161</td>\n",
       "      <td>3</td>\n",
       "      <td>2001-08-10 14:41:26</td>\n",
       "    </tr>\n",
       "    <tr>\n",
       "      <th>1000042</th>\n",
       "      <td>6040</td>\n",
       "      <td>1221</td>\n",
       "      <td>4</td>\n",
       "      <td>2001-08-20 13:44:15</td>\n",
       "    </tr>\n",
       "  </tbody>\n",
       "</table>\n",
       "<p>57356 rows × 4 columns</p>\n",
       "</div>"
      ],
      "text/plain": [
       "         UserId  ItemId  Rating                Time\n",
       "852          10    2067       3 2001-01-10 23:00:00\n",
       "1097         10     898       4 2001-01-10 23:00:30\n",
       "853          10    1265       5 2001-01-10 23:01:00\n",
       "1100         10     899       4 2001-01-10 23:02:38\n",
       "808          10    2125       5 2001-01-10 23:03:15\n",
       "...         ...     ...     ...                 ...\n",
       "999923     6040     232       5 2001-08-10 14:39:58\n",
       "1000019    6040    2917       4 2001-08-10 14:40:29\n",
       "999988     6040    1921       4 2001-08-10 14:41:04\n",
       "1000167    6040     161       3 2001-08-10 14:41:26\n",
       "1000042    6040    1221       4 2001-08-20 13:44:15\n",
       "\n",
       "[57356 rows x 4 columns]"
      ]
     },
     "execution_count": 48,
     "metadata": {},
     "output_type": "execute_result"
    }
   ],
   "source": [
    "data=data.drop_duplicates(subset=['UserId', 'Time'], keep='first')\n",
    "data"
   ]
  },
  {
   "cell_type": "markdown",
   "metadata": {},
   "source": [
    "Rating이 낮은 경우는 추천하지 않고, Rating 이 높은 4, 5만 추천하도록 합니다. "
   ]
  },
  {
   "cell_type": "code",
   "execution_count": 49,
   "metadata": {
    "scrolled": false
   },
   "outputs": [
    {
     "data": {
      "text/html": [
       "<div>\n",
       "<style scoped>\n",
       "    .dataframe tbody tr th:only-of-type {\n",
       "        vertical-align: middle;\n",
       "    }\n",
       "\n",
       "    .dataframe tbody tr th {\n",
       "        vertical-align: top;\n",
       "    }\n",
       "\n",
       "    .dataframe thead th {\n",
       "        text-align: right;\n",
       "    }\n",
       "</style>\n",
       "<table border=\"1\" class=\"dataframe\">\n",
       "  <thead>\n",
       "    <tr style=\"text-align: right;\">\n",
       "      <th></th>\n",
       "      <th>UserId</th>\n",
       "      <th>ItemId</th>\n",
       "      <th>Rating</th>\n",
       "      <th>Time</th>\n",
       "    </tr>\n",
       "  </thead>\n",
       "  <tbody>\n",
       "    <tr>\n",
       "      <th>1097</th>\n",
       "      <td>10</td>\n",
       "      <td>898</td>\n",
       "      <td>4</td>\n",
       "      <td>2001-01-10 23:00:30</td>\n",
       "    </tr>\n",
       "    <tr>\n",
       "      <th>853</th>\n",
       "      <td>10</td>\n",
       "      <td>1265</td>\n",
       "      <td>5</td>\n",
       "      <td>2001-01-10 23:01:00</td>\n",
       "    </tr>\n",
       "    <tr>\n",
       "      <th>1100</th>\n",
       "      <td>10</td>\n",
       "      <td>899</td>\n",
       "      <td>4</td>\n",
       "      <td>2001-01-10 23:02:38</td>\n",
       "    </tr>\n",
       "    <tr>\n",
       "      <th>808</th>\n",
       "      <td>10</td>\n",
       "      <td>2125</td>\n",
       "      <td>5</td>\n",
       "      <td>2001-01-10 23:03:15</td>\n",
       "    </tr>\n",
       "    <tr>\n",
       "      <th>1011</th>\n",
       "      <td>10</td>\n",
       "      <td>357</td>\n",
       "      <td>5</td>\n",
       "      <td>2001-01-10 23:04:47</td>\n",
       "    </tr>\n",
       "    <tr>\n",
       "      <th>...</th>\n",
       "      <td>...</td>\n",
       "      <td>...</td>\n",
       "      <td>...</td>\n",
       "      <td>...</td>\n",
       "    </tr>\n",
       "    <tr>\n",
       "      <th>1000119</th>\n",
       "      <td>6040</td>\n",
       "      <td>3671</td>\n",
       "      <td>4</td>\n",
       "      <td>2001-08-10 14:39:27</td>\n",
       "    </tr>\n",
       "    <tr>\n",
       "      <th>999923</th>\n",
       "      <td>6040</td>\n",
       "      <td>232</td>\n",
       "      <td>5</td>\n",
       "      <td>2001-08-10 14:39:58</td>\n",
       "    </tr>\n",
       "    <tr>\n",
       "      <th>1000019</th>\n",
       "      <td>6040</td>\n",
       "      <td>2917</td>\n",
       "      <td>4</td>\n",
       "      <td>2001-08-10 14:40:29</td>\n",
       "    </tr>\n",
       "    <tr>\n",
       "      <th>999988</th>\n",
       "      <td>6040</td>\n",
       "      <td>1921</td>\n",
       "      <td>4</td>\n",
       "      <td>2001-08-10 14:41:04</td>\n",
       "    </tr>\n",
       "    <tr>\n",
       "      <th>1000042</th>\n",
       "      <td>6040</td>\n",
       "      <td>1221</td>\n",
       "      <td>4</td>\n",
       "      <td>2001-08-20 13:44:15</td>\n",
       "    </tr>\n",
       "  </tbody>\n",
       "</table>\n",
       "<p>31330 rows × 4 columns</p>\n",
       "</div>"
      ],
      "text/plain": [
       "         UserId  ItemId  Rating                Time\n",
       "1097         10     898       4 2001-01-10 23:00:30\n",
       "853          10    1265       5 2001-01-10 23:01:00\n",
       "1100         10     899       4 2001-01-10 23:02:38\n",
       "808          10    2125       5 2001-01-10 23:03:15\n",
       "1011         10     357       5 2001-01-10 23:04:47\n",
       "...         ...     ...     ...                 ...\n",
       "1000119    6040    3671       4 2001-08-10 14:39:27\n",
       "999923     6040     232       5 2001-08-10 14:39:58\n",
       "1000019    6040    2917       4 2001-08-10 14:40:29\n",
       "999988     6040    1921       4 2001-08-10 14:41:04\n",
       "1000042    6040    1221       4 2001-08-20 13:44:15\n",
       "\n",
       "[31330 rows x 4 columns]"
      ]
     },
     "execution_count": 49,
     "metadata": {},
     "output_type": "execute_result"
    }
   ],
   "source": [
    "idx_rating = data[data['Rating']<4].index\n",
    "data = data.drop(idx_rating)\n",
    "data"
   ]
  },
  {
   "cell_type": "markdown",
   "metadata": {},
   "source": [
    "unpopular item을 제거하기"
   ]
  },
  {
   "cell_type": "code",
   "execution_count": 50,
   "metadata": {},
   "outputs": [],
   "source": [
    "def cleanse_unpopular_item(data: pd.DataFrame, least_click):\n",
    "    item_popular = data.groupby('ItemId').size()\n",
    "    item_use = item_popular[item_popular >= least_click].index\n",
    "    data = data[data['ItemId'].isin(item_use)]\n",
    "    return data"
   ]
  },
  {
   "cell_type": "code",
   "execution_count": 51,
   "metadata": {},
   "outputs": [
    {
     "data": {
      "text/html": [
       "<div>\n",
       "<style scoped>\n",
       "    .dataframe tbody tr th:only-of-type {\n",
       "        vertical-align: middle;\n",
       "    }\n",
       "\n",
       "    .dataframe tbody tr th {\n",
       "        vertical-align: top;\n",
       "    }\n",
       "\n",
       "    .dataframe thead th {\n",
       "        text-align: right;\n",
       "    }\n",
       "</style>\n",
       "<table border=\"1\" class=\"dataframe\">\n",
       "  <thead>\n",
       "    <tr style=\"text-align: right;\">\n",
       "      <th></th>\n",
       "      <th>UserId</th>\n",
       "      <th>ItemId</th>\n",
       "      <th>Rating</th>\n",
       "      <th>Time</th>\n",
       "    </tr>\n",
       "  </thead>\n",
       "  <tbody>\n",
       "    <tr>\n",
       "      <th>1097</th>\n",
       "      <td>10</td>\n",
       "      <td>898</td>\n",
       "      <td>4</td>\n",
       "      <td>2001-01-10 23:00:30</td>\n",
       "    </tr>\n",
       "    <tr>\n",
       "      <th>853</th>\n",
       "      <td>10</td>\n",
       "      <td>1265</td>\n",
       "      <td>5</td>\n",
       "      <td>2001-01-10 23:01:00</td>\n",
       "    </tr>\n",
       "    <tr>\n",
       "      <th>1100</th>\n",
       "      <td>10</td>\n",
       "      <td>899</td>\n",
       "      <td>4</td>\n",
       "      <td>2001-01-10 23:02:38</td>\n",
       "    </tr>\n",
       "    <tr>\n",
       "      <th>808</th>\n",
       "      <td>10</td>\n",
       "      <td>2125</td>\n",
       "      <td>5</td>\n",
       "      <td>2001-01-10 23:03:15</td>\n",
       "    </tr>\n",
       "    <tr>\n",
       "      <th>1011</th>\n",
       "      <td>10</td>\n",
       "      <td>357</td>\n",
       "      <td>5</td>\n",
       "      <td>2001-01-10 23:04:47</td>\n",
       "    </tr>\n",
       "    <tr>\n",
       "      <th>...</th>\n",
       "      <td>...</td>\n",
       "      <td>...</td>\n",
       "      <td>...</td>\n",
       "      <td>...</td>\n",
       "    </tr>\n",
       "    <tr>\n",
       "      <th>1000119</th>\n",
       "      <td>6040</td>\n",
       "      <td>3671</td>\n",
       "      <td>4</td>\n",
       "      <td>2001-08-10 14:39:27</td>\n",
       "    </tr>\n",
       "    <tr>\n",
       "      <th>999923</th>\n",
       "      <td>6040</td>\n",
       "      <td>232</td>\n",
       "      <td>5</td>\n",
       "      <td>2001-08-10 14:39:58</td>\n",
       "    </tr>\n",
       "    <tr>\n",
       "      <th>1000019</th>\n",
       "      <td>6040</td>\n",
       "      <td>2917</td>\n",
       "      <td>4</td>\n",
       "      <td>2001-08-10 14:40:29</td>\n",
       "    </tr>\n",
       "    <tr>\n",
       "      <th>999988</th>\n",
       "      <td>6040</td>\n",
       "      <td>1921</td>\n",
       "      <td>4</td>\n",
       "      <td>2001-08-10 14:41:04</td>\n",
       "    </tr>\n",
       "    <tr>\n",
       "      <th>1000042</th>\n",
       "      <td>6040</td>\n",
       "      <td>1221</td>\n",
       "      <td>4</td>\n",
       "      <td>2001-08-20 13:44:15</td>\n",
       "    </tr>\n",
       "  </tbody>\n",
       "</table>\n",
       "<p>28749 rows × 4 columns</p>\n",
       "</div>"
      ],
      "text/plain": [
       "         UserId  ItemId  Rating                Time\n",
       "1097         10     898       4 2001-01-10 23:00:30\n",
       "853          10    1265       5 2001-01-10 23:01:00\n",
       "1100         10     899       4 2001-01-10 23:02:38\n",
       "808          10    2125       5 2001-01-10 23:03:15\n",
       "1011         10     357       5 2001-01-10 23:04:47\n",
       "...         ...     ...     ...                 ...\n",
       "1000119    6040    3671       4 2001-08-10 14:39:27\n",
       "999923     6040     232       5 2001-08-10 14:39:58\n",
       "1000019    6040    2917       4 2001-08-10 14:40:29\n",
       "999988     6040    1921       4 2001-08-10 14:41:04\n",
       "1000042    6040    1221       4 2001-08-20 13:44:15\n",
       "\n",
       "[28749 rows x 4 columns]"
      ]
     },
     "execution_count": 51,
     "metadata": {},
     "output_type": "execute_result"
    }
   ],
   "source": [
    "data = cleanse_unpopular_item(data, least_click=5)\n",
    "data"
   ]
  },
  {
   "cell_type": "markdown",
   "metadata": {},
   "source": [
    "### 1.2. Train/ Valid/ Test split"
   ]
  },
  {
   "cell_type": "code",
   "execution_count": 52,
   "metadata": {},
   "outputs": [
    {
     "data": {
      "text/plain": [
       "(28749, 4)"
      ]
     },
     "execution_count": 52,
     "metadata": {},
     "output_type": "execute_result"
    }
   ],
   "source": [
    "data.sort_values(by=['Time'], inplace=True) \n",
    "data.shape"
   ]
  },
  {
   "cell_type": "code",
   "execution_count": 27,
   "metadata": {},
   "outputs": [],
   "source": [
    "# split\n",
    "#tr = t_data[:20000]\n",
    "#val = t_data[20000:270000]\n",
    "#test = t_data[270000:]"
   ]
  },
  {
   "cell_type": "code",
   "execution_count": 60,
   "metadata": {},
   "outputs": [],
   "source": [
    "def split_by_date(data: pd.DataFrame, n_days: int):\n",
    "    final_time = data['Time'].max()\n",
    "    session_last_time = data.groupby('UserId')['Time'].max()\n",
    "    session_in_train = session_last_time[session_last_time < final_time - dt.timedelta(n_days)].index\n",
    "    session_in_test = session_last_time[session_last_time >= final_time - dt.timedelta(n_days)].index\n",
    "\n",
    "    before_date = data[data['UserId'].isin(session_in_train)]\n",
    "    after_date = data[data['UserId'].isin(session_in_test)]\n",
    "    after_date = after_date[after_date['ItemId'].isin(before_date['ItemId'])]\n",
    "    return before_date, after_date\n"
   ]
  },
  {
   "cell_type": "code",
   "execution_count": null,
   "metadata": {},
   "outputs": [],
   "source": [
    "tr, test = split_by_date(data, n_days=10) # 최종 날짜로부터 10일 이전 날짜로 Test 데이터를 구성한다.\n",
    "tr, val = split_by_date(tr, n_days=30)    # 최종 날짜로부터 30일 이전 날짜로 Val 데이터를 구성한다."
   ]
  },
  {
   "cell_type": "code",
   "execution_count": 64,
   "metadata": {},
   "outputs": [],
   "source": [
    "# data에 대한 정보를 살펴봅니다.\n",
    "def stats_info(data: pd.DataFrame, status: str):\n",
    "    print(f'* {status} Set Stats Info\\n'\n",
    "          f'\\t Events: {len(data)}\\n'\n",
    "          f'\\t Users: {data[\"UserId\"].nunique()}\\n'\n",
    "          f'\\t Items: {data[\"ItemId\"].nunique()}\\n'\n",
    "          f'\\t First Time : {data[\"Time\"].min()}\\n'\n",
    "          f'\\t Last Time : {data[\"Time\"].max()}\\n')    "
   ]
  },
  {
   "cell_type": "code",
   "execution_count": 65,
   "metadata": {},
   "outputs": [
    {
     "name": "stdout",
     "output_type": "stream",
     "text": [
      "* train Set Stats Info\n",
      "\t Events: 27766\n",
      "\t Users: 1083\n",
      "\t Items: 1528\n",
      "\t First Time : 2001-01-09 18:02:12\n",
      "\t Last Time : 2003-02-25 21:22:09\n",
      "\n",
      "* valid Set Stats Info\n",
      "\t Events: 637\n",
      "\t Users: 6\n",
      "\t Items: 521\n",
      "\t First Time : 2001-01-10 17:59:24\n",
      "\t Last Time : 2003-02-27 14:22:07\n",
      "\n",
      "* test Set Stats Info\n",
      "\t Events: 346\n",
      "\t Users: 6\n",
      "\t Items: 289\n",
      "\t First Time : 2001-01-10 23:46:34\n",
      "\t Last Time : 2003-02-28 17:49:08\n",
      "\n"
     ]
    }
   ],
   "source": [
    "stats_info(tr, 'train')\n",
    "stats_info(val, 'valid')\n",
    "stats_info(test, 'test')"
   ]
  },
  {
   "cell_type": "code",
   "execution_count": 66,
   "metadata": {},
   "outputs": [],
   "source": [
    "# train set에 없는 아이템이 val, test기간에 생길 수 있으므로 train data를 기준으로 인덱싱합니다.\n",
    "id2idx = {item_id : index for index, item_id in enumerate(tr['ItemId'].unique())}\n",
    "\n",
    "def indexing(df, id2idx):\n",
    "    df['item_idx'] = df['ItemId'].map(lambda x: id2idx.get(x, -1))  # id2idx에 없는 아이템은 모르는 값(-1) 처리 해줍니다.\n",
    "    return df\n",
    "\n",
    "tr = indexing(tr, id2idx)\n",
    "val = indexing(val, id2idx)\n",
    "test = indexing(test, id2idx)"
   ]
  },
  {
   "cell_type": "code",
   "execution_count": 67,
   "metadata": {},
   "outputs": [
    {
     "data": {
      "text/html": [
       "<div>\n",
       "<style scoped>\n",
       "    .dataframe tbody tr th:only-of-type {\n",
       "        vertical-align: middle;\n",
       "    }\n",
       "\n",
       "    .dataframe tbody tr th {\n",
       "        vertical-align: top;\n",
       "    }\n",
       "\n",
       "    .dataframe thead th {\n",
       "        text-align: right;\n",
       "    }\n",
       "</style>\n",
       "<table border=\"1\" class=\"dataframe\">\n",
       "  <thead>\n",
       "    <tr style=\"text-align: right;\">\n",
       "      <th></th>\n",
       "      <th>UserId</th>\n",
       "      <th>ItemId</th>\n",
       "      <th>Rating</th>\n",
       "      <th>Time</th>\n",
       "      <th>item_idx</th>\n",
       "    </tr>\n",
       "  </thead>\n",
       "  <tbody>\n",
       "    <tr>\n",
       "      <th>634539</th>\n",
       "      <td>3829</td>\n",
       "      <td>3794</td>\n",
       "      <td>4</td>\n",
       "      <td>2001-01-09 18:02:12</td>\n",
       "      <td>0</td>\n",
       "    </tr>\n",
       "    <tr>\n",
       "      <th>635100</th>\n",
       "      <td>3829</td>\n",
       "      <td>3510</td>\n",
       "      <td>4</td>\n",
       "      <td>2001-01-09 18:02:24</td>\n",
       "      <td>1</td>\n",
       "    </tr>\n",
       "    <tr>\n",
       "      <th>74339</th>\n",
       "      <td>507</td>\n",
       "      <td>1216</td>\n",
       "      <td>4</td>\n",
       "      <td>2001-01-09 18:12:49</td>\n",
       "      <td>2</td>\n",
       "    </tr>\n",
       "    <tr>\n",
       "      <th>74332</th>\n",
       "      <td>507</td>\n",
       "      <td>318</td>\n",
       "      <td>5</td>\n",
       "      <td>2001-01-09 18:13:27</td>\n",
       "      <td>3</td>\n",
       "    </tr>\n",
       "    <tr>\n",
       "      <th>74304</th>\n",
       "      <td>507</td>\n",
       "      <td>1248</td>\n",
       "      <td>4</td>\n",
       "      <td>2001-01-09 18:13:42</td>\n",
       "      <td>4</td>\n",
       "    </tr>\n",
       "    <tr>\n",
       "      <th>...</th>\n",
       "      <td>...</td>\n",
       "      <td>...</td>\n",
       "      <td>...</td>\n",
       "      <td>...</td>\n",
       "      <td>...</td>\n",
       "    </tr>\n",
       "    <tr>\n",
       "      <th>549788</th>\n",
       "      <td>3391</td>\n",
       "      <td>2424</td>\n",
       "      <td>4</td>\n",
       "      <td>2003-02-25 19:06:15</td>\n",
       "      <td>767</td>\n",
       "    </tr>\n",
       "    <tr>\n",
       "      <th>73279</th>\n",
       "      <td>496</td>\n",
       "      <td>928</td>\n",
       "      <td>5</td>\n",
       "      <td>2003-02-25 21:07:49</td>\n",
       "      <td>803</td>\n",
       "    </tr>\n",
       "    <tr>\n",
       "      <th>73265</th>\n",
       "      <td>496</td>\n",
       "      <td>2208</td>\n",
       "      <td>4</td>\n",
       "      <td>2003-02-25 21:08:20</td>\n",
       "      <td>113</td>\n",
       "    </tr>\n",
       "    <tr>\n",
       "      <th>849248</th>\n",
       "      <td>5100</td>\n",
       "      <td>2624</td>\n",
       "      <td>5</td>\n",
       "      <td>2003-02-25 21:20:33</td>\n",
       "      <td>1462</td>\n",
       "    </tr>\n",
       "    <tr>\n",
       "      <th>848968</th>\n",
       "      <td>5100</td>\n",
       "      <td>3188</td>\n",
       "      <td>4</td>\n",
       "      <td>2003-02-25 21:22:09</td>\n",
       "      <td>1443</td>\n",
       "    </tr>\n",
       "  </tbody>\n",
       "</table>\n",
       "<p>27766 rows × 5 columns</p>\n",
       "</div>"
      ],
      "text/plain": [
       "        UserId  ItemId  Rating                Time  item_idx\n",
       "634539    3829    3794       4 2001-01-09 18:02:12         0\n",
       "635100    3829    3510       4 2001-01-09 18:02:24         1\n",
       "74339      507    1216       4 2001-01-09 18:12:49         2\n",
       "74332      507     318       5 2001-01-09 18:13:27         3\n",
       "74304      507    1248       4 2001-01-09 18:13:42         4\n",
       "...        ...     ...     ...                 ...       ...\n",
       "549788    3391    2424       4 2003-02-25 19:06:15       767\n",
       "73279      496     928       5 2003-02-25 21:07:49       803\n",
       "73265      496    2208       4 2003-02-25 21:08:20       113\n",
       "849248    5100    2624       5 2003-02-25 21:20:33      1462\n",
       "848968    5100    3188       4 2003-02-25 21:22:09      1443\n",
       "\n",
       "[27766 rows x 5 columns]"
      ]
     },
     "execution_count": 67,
     "metadata": {},
     "output_type": "execute_result"
    }
   ],
   "source": [
    "tr"
   ]
  },
  {
   "cell_type": "code",
   "execution_count": 68,
   "metadata": {},
   "outputs": [],
   "source": [
    "save_path = data_path / 'processed'\n",
    "save_path.mkdir(parents=True, exist_ok=True)\n",
    "\n",
    "tr.to_pickle(save_path / 'train.pkl')\n",
    "val.to_pickle(save_path / 'valid.pkl')\n",
    "test.to_pickle(save_path / 'test.pkl')"
   ]
  },
  {
   "cell_type": "markdown",
   "metadata": {},
   "source": [
    "## Step 2. 미니 배치의 구성\n",
    "실습코드 내역을 참고하여 데이터셋과 미니 배치를 구성해 봅시다. Session-Parallel Mini-Batch의 개념에 따라, 학습 속도의 저하가 최소화될 수 있도록 구성합니다.\n",
    "단, 위 Step 1에서 Session 단위를 어떻게 정의했느냐에 따라서 Session-Parallel Mini-Batch이 굳이 필요하지 않을 수도 있습니다.\n",
    "\n"
   ]
  },
  {
   "cell_type": "markdown",
   "metadata": {},
   "source": [
    "### 3-1. Indexing"
   ]
  },
  {
   "cell_type": "code",
   "execution_count": 69,
   "metadata": {},
   "outputs": [],
   "source": [
    "# SessionId -> UserId로 변경\n",
    "class SessionDataset:\n",
    "    \"\"\"Credit to yhs-968/pyGRU4REC.\"\"\"\n",
    "\n",
    "    def __init__(self, data):\n",
    "        self.df = data\n",
    "        self.click_offsets = self.get_click_offsets()\n",
    "        self.session_idx = np.arange(self.df['UserId'].nunique())  # indexing to SessionId\n",
    "\n",
    "    def get_click_offsets(self):\n",
    "        \"\"\"\n",
    "        Return the indexes of the first click of each session IDs,\n",
    "        \"\"\"\n",
    "        offsets = np.zeros(self.df['UserId'].nunique() + 1, dtype=np.int32)\n",
    "        offsets[1:] = self.df.groupby('UserId').size().cumsum()\n",
    "        return offsets"
   ]
  },
  {
   "cell_type": "code",
   "execution_count": 70,
   "metadata": {},
   "outputs": [
    {
     "data": {
      "text/html": [
       "<div>\n",
       "<style scoped>\n",
       "    .dataframe tbody tr th:only-of-type {\n",
       "        vertical-align: middle;\n",
       "    }\n",
       "\n",
       "    .dataframe tbody tr th {\n",
       "        vertical-align: top;\n",
       "    }\n",
       "\n",
       "    .dataframe thead th {\n",
       "        text-align: right;\n",
       "    }\n",
       "</style>\n",
       "<table border=\"1\" class=\"dataframe\">\n",
       "  <thead>\n",
       "    <tr style=\"text-align: right;\">\n",
       "      <th></th>\n",
       "      <th>UserId</th>\n",
       "      <th>ItemId</th>\n",
       "      <th>Rating</th>\n",
       "      <th>Time</th>\n",
       "      <th>item_idx</th>\n",
       "    </tr>\n",
       "  </thead>\n",
       "  <tbody>\n",
       "    <tr>\n",
       "      <th>634539</th>\n",
       "      <td>3829</td>\n",
       "      <td>3794</td>\n",
       "      <td>4</td>\n",
       "      <td>2001-01-09 18:02:12</td>\n",
       "      <td>0</td>\n",
       "    </tr>\n",
       "    <tr>\n",
       "      <th>635100</th>\n",
       "      <td>3829</td>\n",
       "      <td>3510</td>\n",
       "      <td>4</td>\n",
       "      <td>2001-01-09 18:02:24</td>\n",
       "      <td>1</td>\n",
       "    </tr>\n",
       "    <tr>\n",
       "      <th>74339</th>\n",
       "      <td>507</td>\n",
       "      <td>1216</td>\n",
       "      <td>4</td>\n",
       "      <td>2001-01-09 18:12:49</td>\n",
       "      <td>2</td>\n",
       "    </tr>\n",
       "    <tr>\n",
       "      <th>74332</th>\n",
       "      <td>507</td>\n",
       "      <td>318</td>\n",
       "      <td>5</td>\n",
       "      <td>2001-01-09 18:13:27</td>\n",
       "      <td>3</td>\n",
       "    </tr>\n",
       "    <tr>\n",
       "      <th>74304</th>\n",
       "      <td>507</td>\n",
       "      <td>1248</td>\n",
       "      <td>4</td>\n",
       "      <td>2001-01-09 18:13:42</td>\n",
       "      <td>4</td>\n",
       "    </tr>\n",
       "    <tr>\n",
       "      <th>74317</th>\n",
       "      <td>507</td>\n",
       "      <td>2858</td>\n",
       "      <td>5</td>\n",
       "      <td>2001-01-09 18:14:20</td>\n",
       "      <td>5</td>\n",
       "    </tr>\n",
       "    <tr>\n",
       "      <th>74333</th>\n",
       "      <td>507</td>\n",
       "      <td>29</td>\n",
       "      <td>4</td>\n",
       "      <td>2001-01-09 18:14:42</td>\n",
       "      <td>6</td>\n",
       "    </tr>\n",
       "    <tr>\n",
       "      <th>74312</th>\n",
       "      <td>507</td>\n",
       "      <td>3435</td>\n",
       "      <td>4</td>\n",
       "      <td>2001-01-09 18:14:43</td>\n",
       "      <td>7</td>\n",
       "    </tr>\n",
       "    <tr>\n",
       "      <th>74310</th>\n",
       "      <td>507</td>\n",
       "      <td>3067</td>\n",
       "      <td>4</td>\n",
       "      <td>2001-01-09 18:15:24</td>\n",
       "      <td>8</td>\n",
       "    </tr>\n",
       "    <tr>\n",
       "      <th>74343</th>\n",
       "      <td>507</td>\n",
       "      <td>1235</td>\n",
       "      <td>5</td>\n",
       "      <td>2001-01-09 18:15:54</td>\n",
       "      <td>9</td>\n",
       "    </tr>\n",
       "  </tbody>\n",
       "</table>\n",
       "</div>"
      ],
      "text/plain": [
       "        UserId  ItemId  Rating                Time  item_idx\n",
       "634539    3829    3794       4 2001-01-09 18:02:12         0\n",
       "635100    3829    3510       4 2001-01-09 18:02:24         1\n",
       "74339      507    1216       4 2001-01-09 18:12:49         2\n",
       "74332      507     318       5 2001-01-09 18:13:27         3\n",
       "74304      507    1248       4 2001-01-09 18:13:42         4\n",
       "74317      507    2858       5 2001-01-09 18:14:20         5\n",
       "74333      507      29       4 2001-01-09 18:14:42         6\n",
       "74312      507    3435       4 2001-01-09 18:14:43         7\n",
       "74310      507    3067       4 2001-01-09 18:15:24         8\n",
       "74343      507    1235       5 2001-01-09 18:15:54         9"
      ]
     },
     "execution_count": 70,
     "metadata": {},
     "output_type": "execute_result"
    }
   ],
   "source": [
    "tr_dataset = SessionDataset(tr)\n",
    "tr_dataset.df.head(10)"
   ]
  },
  {
   "cell_type": "code",
   "execution_count": 71,
   "metadata": {},
   "outputs": [
    {
     "data": {
      "text/plain": [
       "array([    0,    42,    63, ..., 27748, 27749, 27766], dtype=int32)"
      ]
     },
     "execution_count": 71,
     "metadata": {},
     "output_type": "execute_result"
    }
   ],
   "source": [
    "tr_dataset.click_offsets"
   ]
  },
  {
   "cell_type": "code",
   "execution_count": 72,
   "metadata": {},
   "outputs": [
    {
     "data": {
      "text/plain": [
       "array([   0,    1,    2, ..., 1080, 1081, 1082])"
      ]
     },
     "execution_count": 72,
     "metadata": {},
     "output_type": "execute_result"
    }
   ],
   "source": [
    "tr_dataset.session_idx"
   ]
  },
  {
   "cell_type": "markdown",
   "metadata": {},
   "source": [
    "### 3-2. SessionDataLoader"
   ]
  },
  {
   "cell_type": "code",
   "execution_count": 73,
   "metadata": {},
   "outputs": [],
   "source": [
    "class SessionDataLoader:\n",
    "    \"\"\"Credit to yhs-968/pyGRU4REC.\"\"\"\n",
    "\n",
    "    def __init__(self, dataset: SessionDataset, batch_size=50):\n",
    "        self.dataset = dataset\n",
    "        self.batch_size = batch_size\n",
    "\n",
    "    def __iter__(self):\n",
    "        \"\"\" Returns the iterator for producing session-parallel training mini-batches.\n",
    "        Yields:\n",
    "            input (B,):  Item indices that will be encoded as one-hot vectors later.\n",
    "            target (B,): a Variable that stores the target item indices\n",
    "            masks: Numpy array indicating the positions of the sessions to be terminated\n",
    "        \"\"\"\n",
    "\n",
    "        start, end, mask, last_session, finished = self.initialize()  # initialize 메소드에서 확인해주세요.\n",
    "        \"\"\"\n",
    "        start : Index Where Session Start\n",
    "        end : Index Where Session End\n",
    "        mask : indicator for the sessions to be terminated\n",
    "        \"\"\"\n",
    "\n",
    "        while not finished:\n",
    "            min_len = (end - start).min() - 1  # Shortest Length Among Sessions\n",
    "            for i in range(min_len):\n",
    "                # Build inputs & targets\n",
    "                inp = self.dataset.df['item_idx'].values[start + i]\n",
    "                target = self.dataset.df['item_idx'].values[start + i + 1]\n",
    "                yield inp, target, mask\n",
    "\n",
    "            start, end, mask, last_session, finished = self.update_status(start, end, min_len, last_session, finished)\n",
    "\n",
    "    def initialize(self):\n",
    "        first_iters = np.arange(self.batch_size)    # 첫 배치에 사용할 세션 Index를 가져옵니다.\n",
    "        last_session = self.batch_size - 1    # 마지막으로 다루고 있는 세션 Index를 저장해둡니다.\n",
    "        start = self.dataset.click_offsets[self.dataset.session_idx[first_iters]]       # data 상에서 session이 시작된 위치를 가져옵니다.\n",
    "        end = self.dataset.click_offsets[self.dataset.session_idx[first_iters] + 1]  # session이 끝난 위치 바로 다음 위치를 가져옵니다.\n",
    "        mask = np.array([])   # session의 모든 아이템을 다 돌은 경우 mask에 추가해줄 것입니다.\n",
    "        finished = False         # data를 전부 돌았는지 기록하기 위한 변수입니다.\n",
    "        return start, end, mask, last_session, finished\n",
    "\n",
    "    def update_status(self, start: np.ndarray, end: np.ndarray, min_len: int, last_session: int, finished: bool):  \n",
    "        # 다음 배치 데이터를 생성하기 위해 상태를 update합니다.\n",
    "        \n",
    "        start += min_len   # __iter__에서 min_len 만큼 for문을 돌았으므로 start를 min_len 만큼 더해줍니다.\n",
    "        mask = np.arange(self.batch_size)[(end - start) == 1]  \n",
    "        # end는 다음 세션이 시작되는 위치인데 start와 한 칸 차이난다는 것은 session이 끝났다는 뜻입니다. mask에 기록해줍니다.\n",
    "\n",
    "        for i, idx in enumerate(mask, start=1):  # mask에 추가된 세션 개수만큼 새로운 세션을 돌것입니다.\n",
    "            new_session = last_session + i  \n",
    "            if new_session > self.dataset.session_idx[-1]:  # 만약 새로운 세션이 마지막 세션 index보다 크다면 모든 학습데이터를 돈 것입니다.\n",
    "                finished = True\n",
    "                break\n",
    "            # update the next starting/ending point\n",
    "            start[idx] = self.dataset.click_offsets[self.dataset.session_idx[new_session]]     # 종료된 세션 대신 새로운 세션의 시작점을 기록합니다.\n",
    "            end[idx] = self.dataset.click_offsets[self.dataset.session_idx[new_session] + 1]\n",
    "\n",
    "        last_session += len(mask)  # 마지막 세션의 위치를 기록해둡니다.\n",
    "        return start, end, mask, last_session, finished"
   ]
  },
  {
   "cell_type": "code",
   "execution_count": 92,
   "metadata": {},
   "outputs": [],
   "source": [
    "def initialize(batch_size):\n",
    "    first_iters = np.arange(batch_size)    # 첫 배치에 사용할 세션 Index를 가져옵니다.\n",
    "    last_session = batch_size - 1    # 마지막으로 다루고 있는 세션 Index를 저장해둡니다.\n",
    "    start = tr_dataset.click_offsets[tr_dataset.session_idx[first_iters]]       # data 상에서 session이 시작된 위치를 가져옵니다.\n",
    "    end = tr_dataset.click_offsets[tr_dataset.session_idx[first_iters] + 1]  # session이 끝난 위치 바로 다음 위치를 가져옵니다.\n",
    "    mask = np.array([])   # session의 모든 아이템을 다 돌은 경우 mask에 추가해줄 것입니다.\n",
    "    finished = False         # data를 전부 돌았는지 기록하기 위한 변수입니다.\n",
    "    return start, end, mask, last_session, finished"
   ]
  },
  {
   "cell_type": "code",
   "execution_count": 94,
   "metadata": {},
   "outputs": [
    {
     "data": {
      "text/plain": [
       "(array([   0,   42,   63,   67,   84,   88,   92,  132,  150,  185,  194,\n",
       "         250,  264,  275,  288,  294,  295,  301,  305,  310,  353,  367,\n",
       "         398,  400,  427,  455,  458,  461,  469,  493,  503,  524,  531,\n",
       "         534,  541,  584,  593,  599,  692,  757,  826,  833,  919,  920,\n",
       "         930,  946,  948,  958,  973,  975,  985, 1069, 1074, 1093, 1113,\n",
       "        1127, 1145, 1160, 1410, 1414, 1426, 1468, 1507, 1509], dtype=int32),\n",
       " array([  42,   63,   67,   84,   88,   92,  132,  150,  185,  194,  250,\n",
       "         264,  275,  288,  294,  295,  301,  305,  310,  353,  367,  398,\n",
       "         400,  427,  455,  458,  461,  469,  493,  503,  524,  531,  534,\n",
       "         541,  584,  593,  599,  692,  757,  826,  833,  919,  920,  930,\n",
       "         946,  948,  958,  973,  975,  985, 1069, 1074, 1093, 1113, 1127,\n",
       "        1145, 1160, 1410, 1414, 1426, 1468, 1507, 1509, 1511], dtype=int32),\n",
       " array([], dtype=float64),\n",
       " 63,\n",
       " False)"
      ]
     },
     "execution_count": 94,
     "metadata": {},
     "output_type": "execute_result"
    }
   ],
   "source": [
    "initialize(64)"
   ]
  },
  {
   "cell_type": "code",
   "execution_count": 74,
   "metadata": {},
   "outputs": [
    {
     "data": {
      "text/html": [
       "<div>\n",
       "<style scoped>\n",
       "    .dataframe tbody tr th:only-of-type {\n",
       "        vertical-align: middle;\n",
       "    }\n",
       "\n",
       "    .dataframe tbody tr th {\n",
       "        vertical-align: top;\n",
       "    }\n",
       "\n",
       "    .dataframe thead th {\n",
       "        text-align: right;\n",
       "    }\n",
       "</style>\n",
       "<table border=\"1\" class=\"dataframe\">\n",
       "  <thead>\n",
       "    <tr style=\"text-align: right;\">\n",
       "      <th></th>\n",
       "      <th>UserId</th>\n",
       "      <th>ItemId</th>\n",
       "      <th>Rating</th>\n",
       "      <th>Time</th>\n",
       "      <th>item_idx</th>\n",
       "    </tr>\n",
       "  </thead>\n",
       "  <tbody>\n",
       "    <tr>\n",
       "      <th>634539</th>\n",
       "      <td>3829</td>\n",
       "      <td>3794</td>\n",
       "      <td>4</td>\n",
       "      <td>2001-01-09 18:02:12</td>\n",
       "      <td>0</td>\n",
       "    </tr>\n",
       "    <tr>\n",
       "      <th>635100</th>\n",
       "      <td>3829</td>\n",
       "      <td>3510</td>\n",
       "      <td>4</td>\n",
       "      <td>2001-01-09 18:02:24</td>\n",
       "      <td>1</td>\n",
       "    </tr>\n",
       "    <tr>\n",
       "      <th>74339</th>\n",
       "      <td>507</td>\n",
       "      <td>1216</td>\n",
       "      <td>4</td>\n",
       "      <td>2001-01-09 18:12:49</td>\n",
       "      <td>2</td>\n",
       "    </tr>\n",
       "    <tr>\n",
       "      <th>74332</th>\n",
       "      <td>507</td>\n",
       "      <td>318</td>\n",
       "      <td>5</td>\n",
       "      <td>2001-01-09 18:13:27</td>\n",
       "      <td>3</td>\n",
       "    </tr>\n",
       "    <tr>\n",
       "      <th>74304</th>\n",
       "      <td>507</td>\n",
       "      <td>1248</td>\n",
       "      <td>4</td>\n",
       "      <td>2001-01-09 18:13:42</td>\n",
       "      <td>4</td>\n",
       "    </tr>\n",
       "    <tr>\n",
       "      <th>74317</th>\n",
       "      <td>507</td>\n",
       "      <td>2858</td>\n",
       "      <td>5</td>\n",
       "      <td>2001-01-09 18:14:20</td>\n",
       "      <td>5</td>\n",
       "    </tr>\n",
       "    <tr>\n",
       "      <th>74333</th>\n",
       "      <td>507</td>\n",
       "      <td>29</td>\n",
       "      <td>4</td>\n",
       "      <td>2001-01-09 18:14:42</td>\n",
       "      <td>6</td>\n",
       "    </tr>\n",
       "    <tr>\n",
       "      <th>74312</th>\n",
       "      <td>507</td>\n",
       "      <td>3435</td>\n",
       "      <td>4</td>\n",
       "      <td>2001-01-09 18:14:43</td>\n",
       "      <td>7</td>\n",
       "    </tr>\n",
       "    <tr>\n",
       "      <th>74310</th>\n",
       "      <td>507</td>\n",
       "      <td>3067</td>\n",
       "      <td>4</td>\n",
       "      <td>2001-01-09 18:15:24</td>\n",
       "      <td>8</td>\n",
       "    </tr>\n",
       "    <tr>\n",
       "      <th>74343</th>\n",
       "      <td>507</td>\n",
       "      <td>1235</td>\n",
       "      <td>5</td>\n",
       "      <td>2001-01-09 18:15:54</td>\n",
       "      <td>9</td>\n",
       "    </tr>\n",
       "    <tr>\n",
       "      <th>74308</th>\n",
       "      <td>507</td>\n",
       "      <td>1299</td>\n",
       "      <td>5</td>\n",
       "      <td>2001-01-09 18:15:55</td>\n",
       "      <td>10</td>\n",
       "    </tr>\n",
       "    <tr>\n",
       "      <th>74329</th>\n",
       "      <td>507</td>\n",
       "      <td>1734</td>\n",
       "      <td>4</td>\n",
       "      <td>2001-01-09 18:16:16</td>\n",
       "      <td>11</td>\n",
       "    </tr>\n",
       "    <tr>\n",
       "      <th>74306</th>\n",
       "      <td>507</td>\n",
       "      <td>1277</td>\n",
       "      <td>4</td>\n",
       "      <td>2001-01-09 18:17:00</td>\n",
       "      <td>12</td>\n",
       "    </tr>\n",
       "    <tr>\n",
       "      <th>891576</th>\n",
       "      <td>5387</td>\n",
       "      <td>3129</td>\n",
       "      <td>4</td>\n",
       "      <td>2001-01-09 18:28:45</td>\n",
       "      <td>13</td>\n",
       "    </tr>\n",
       "    <tr>\n",
       "      <th>891527</th>\n",
       "      <td>5387</td>\n",
       "      <td>3852</td>\n",
       "      <td>4</td>\n",
       "      <td>2001-01-09 18:33:01</td>\n",
       "      <td>14</td>\n",
       "    </tr>\n",
       "  </tbody>\n",
       "</table>\n",
       "</div>"
      ],
      "text/plain": [
       "        UserId  ItemId  Rating                Time  item_idx\n",
       "634539    3829    3794       4 2001-01-09 18:02:12         0\n",
       "635100    3829    3510       4 2001-01-09 18:02:24         1\n",
       "74339      507    1216       4 2001-01-09 18:12:49         2\n",
       "74332      507     318       5 2001-01-09 18:13:27         3\n",
       "74304      507    1248       4 2001-01-09 18:13:42         4\n",
       "74317      507    2858       5 2001-01-09 18:14:20         5\n",
       "74333      507      29       4 2001-01-09 18:14:42         6\n",
       "74312      507    3435       4 2001-01-09 18:14:43         7\n",
       "74310      507    3067       4 2001-01-09 18:15:24         8\n",
       "74343      507    1235       5 2001-01-09 18:15:54         9\n",
       "74308      507    1299       5 2001-01-09 18:15:55        10\n",
       "74329      507    1734       4 2001-01-09 18:16:16        11\n",
       "74306      507    1277       4 2001-01-09 18:17:00        12\n",
       "891576    5387    3129       4 2001-01-09 18:28:45        13\n",
       "891527    5387    3852       4 2001-01-09 18:33:01        14"
      ]
     },
     "execution_count": 74,
     "metadata": {},
     "output_type": "execute_result"
    }
   ],
   "source": [
    "tr_data_loader = SessionDataLoader(tr_dataset, batch_size=4)\n",
    "tr_dataset.df.head(15)"
   ]
  },
  {
   "cell_type": "code",
   "execution_count": 75,
   "metadata": {},
   "outputs": [],
   "source": [
    "iter_ex = iter(tr_data_loader)"
   ]
  },
  {
   "cell_type": "code",
   "execution_count": 76,
   "metadata": {},
   "outputs": [
    {
     "name": "stdout",
     "output_type": "stream",
     "text": [
      "Model Input Item Idx are : [ 0 42 60 62]\n",
      "Label Item Idx are :       [ 1 23 56 63]\n",
      "Previous Masked Input Idx are []\n"
     ]
    }
   ],
   "source": [
    "inputs, labels, mask =  next(iter_ex)\n",
    "print(f'Model Input Item Idx are : {inputs}')\n",
    "print(f'Label Item Idx are : {\"\":5} {labels}')\n",
    "print(f'Previous Masked Input Idx are {mask}')"
   ]
  },
  {
   "cell_type": "markdown",
   "metadata": {},
   "source": [
    "## Step 3. 모델 구성\n",
    "이 부분도 실습코드 내역을 참고하여 다양하게 모델 구조를 시도해볼 수 있습니다."
   ]
  },
  {
   "cell_type": "markdown",
   "metadata": {},
   "source": [
    "### 3-1 Evaluation Metric"
   ]
  },
  {
   "cell_type": "code",
   "execution_count": 77,
   "metadata": {},
   "outputs": [],
   "source": [
    "def mrr_k(pred, truth: int, k: int):\n",
    "    indexing = np.where(pred[:k] == truth)[0]\n",
    "    if len(indexing) > 0:\n",
    "        return 1 / (indexing[0] + 1)\n",
    "    else:\n",
    "        return 0\n",
    "\n",
    "\n",
    "def recall_k(pred, truth: int, k: int) -> int:\n",
    "    answer = truth in pred[:k]\n",
    "    return int(answer)"
   ]
  },
  {
   "cell_type": "markdown",
   "metadata": {},
   "source": [
    "### 3-2 Model Arcitecture"
   ]
  },
  {
   "cell_type": "code",
   "execution_count": 78,
   "metadata": {},
   "outputs": [],
   "source": [
    "import numpy as np\n",
    "import tensorflow as tf\n",
    "from tensorflow.keras.layers import Input, Dense, Dropout, GRU\n",
    "from tensorflow.keras.losses import categorical_crossentropy\n",
    "from tensorflow.keras.models import Model\n",
    "from tensorflow.keras.optimizers import Adam\n",
    "from tensorflow.keras.utils import to_categorical\n",
    "from tqdm import tqdm"
   ]
  },
  {
   "cell_type": "code",
   "execution_count": 79,
   "metadata": {},
   "outputs": [],
   "source": [
    "def create_model(args):\n",
    "    inputs = Input(batch_shape=(args.batch_size, 1, args.num_items))\n",
    "    gru, _ = GRU(args.hsz, stateful=True, return_state=True, name='GRU')(inputs)\n",
    "    dropout = Dropout(args.drop_rate)(gru)\n",
    "    predictions = Dense(args.num_items, activation='softmax')(dropout)\n",
    "    model = Model(inputs=inputs, outputs=[predictions])\n",
    "    model.compile(loss=categorical_crossentropy, optimizer=Adam(args.lr), metrics=['accuracy'])\n",
    "    model.summary()\n",
    "    return model"
   ]
  },
  {
   "cell_type": "code",
   "execution_count": 98,
   "metadata": {},
   "outputs": [],
   "source": [
    "class Args:\n",
    "    def __init__(self, tr, val, test, batch_size, hsz, drop_rate, lr, epochs, k):\n",
    "        self.tr = tr\n",
    "        self.val = val\n",
    "        self.test = test\n",
    "        self.num_items = tr['ItemId'].nunique()\n",
    "        self.num_sessions = tr['UserId'].nunique()\n",
    "        self.batch_size = batch_size\n",
    "        self.hsz = hsz\n",
    "        self.drop_rate = drop_rate\n",
    "        self.lr = lr\n",
    "        self.epochs = epochs\n",
    "        self.k = k\n",
    "\n",
    "args = Args(tr, val, test, batch_size=128, hsz=50, drop_rate=0.1, lr=0.001, epochs=10, k=20)"
   ]
  },
  {
   "cell_type": "code",
   "execution_count": 99,
   "metadata": {},
   "outputs": [
    {
     "name": "stdout",
     "output_type": "stream",
     "text": [
      "Model: \"model_3\"\n",
      "_________________________________________________________________\n",
      "Layer (type)                 Output Shape              Param #   \n",
      "=================================================================\n",
      "input_4 (InputLayer)         [(128, 1, 1528)]          0         \n",
      "_________________________________________________________________\n",
      "GRU (GRU)                    [(128, 50), (128, 50)]    237000    \n",
      "_________________________________________________________________\n",
      "dropout_3 (Dropout)          (128, 50)                 0         \n",
      "_________________________________________________________________\n",
      "dense_3 (Dense)              (128, 1528)               77928     \n",
      "=================================================================\n",
      "Total params: 314,928\n",
      "Trainable params: 314,928\n",
      "Non-trainable params: 0\n",
      "_________________________________________________________________\n"
     ]
    }
   ],
   "source": [
    "model = create_model(args)"
   ]
  },
  {
   "cell_type": "markdown",
   "metadata": {},
   "source": [
    "## Step 4. 모델 학습\n",
    "다양한 하이퍼파라미터를 변경해 보며 검증해 보도록 합니다. 실습코드에 언급되었던 Recall, MRR 등의 개념들도 함께 관리될 수 있도록 합니다."
   ]
  },
  {
   "cell_type": "code",
   "execution_count": 100,
   "metadata": {},
   "outputs": [],
   "source": [
    "# SessionId -> UserId\n",
    "def train_model(model, args):\n",
    "    train_dataset = SessionDataset(args.tr)\n",
    "    train_loader = SessionDataLoader(train_dataset, batch_size=args.batch_size)\n",
    "\n",
    "    for epoch in range(1, args.epochs + 1):\n",
    "        total_step = len(args.tr) - args.tr['UserId'].nunique()\n",
    "        tr_loader = tqdm(train_loader, total=total_step // args.batch_size, desc='Train', mininterval=1)\n",
    "        for feat, target, mask in tr_loader:\n",
    "            reset_hidden_states(model, mask)  # 종료된 session은 hidden_state를 초기화합니다. 아래 메서드에서 확인해주세요.\n",
    "\n",
    "            input_ohe = to_categorical(feat, num_classes=args.num_items)\n",
    "            input_ohe = np.expand_dims(input_ohe, axis=1)\n",
    "            target_ohe = to_categorical(target, num_classes=args.num_items)\n",
    "\n",
    "            result = model.train_on_batch(input_ohe, target_ohe)\n",
    "            tr_loader.set_postfix(train_loss=result[0], accuracy = result[1])\n",
    "\n",
    "        val_recall, val_mrr = get_metrics(args.val, model, args, args.k)  # valid set에 대해 검증합니다.\n",
    "\n",
    "        print(f\"\\t - Recall@{args.k} epoch {epoch}: {val_recall:3f}\")\n",
    "        print(f\"\\t - MRR@{args.k}    epoch {epoch}: {val_mrr:3f}\\n\")\n",
    "\n",
    "\n",
    "def reset_hidden_states(model, mask):\n",
    "    gru_layer = model.get_layer(name='GRU')  # model에서 gru layer를 가져옵니다.\n",
    "    hidden_states = gru_layer.states[0].numpy()  # gru_layer의 parameter를 가져옵니다.\n",
    "    for elt in mask:  # mask된 인덱스 즉, 종료된 세션의 인덱스를 돌면서\n",
    "        hidden_states[elt, :] = 0  # parameter를 초기화 합니다.\n",
    "    gru_layer.reset_states(states=hidden_states)\n",
    "\n",
    "\n",
    "def get_metrics(data, model, args, k: int):  # valid셋과 test셋을 평가하는 코드입니다. \n",
    "                                             # train과 거의 같지만 mrr, recall을 구하는 라인이 있습니다.\n",
    "    dataset = SessionDataset(data)\n",
    "    loader = SessionDataLoader(dataset, batch_size=args.batch_size)\n",
    "    recall_list, mrr_list = [], []\n",
    "\n",
    "    total_step = len(data) - data['UserId'].nunique()\n",
    "    for inputs, label, mask in tqdm(loader, total=total_step // args.batch_size, desc='Evaluation', mininterval=1):\n",
    "        reset_hidden_states(model, mask)\n",
    "        input_ohe = to_categorical(inputs, num_classes=args.num_items)\n",
    "        input_ohe = np.expand_dims(input_ohe, axis=1)\n",
    "\n",
    "        pred = model.predict(input_ohe, batch_size=args.batch_size)\n",
    "        pred_arg = tf.argsort(pred, direction='DESCENDING')  # softmax 값이 큰 순서대로 sorting 합니다.\n",
    "\n",
    "        length = len(inputs)\n",
    "        recall_list.extend([recall_k(pred_arg[i], label[i], k) for i in range(length)])\n",
    "        mrr_list.extend([mrr_k(pred_arg[i], label[i], k) for i in range(length)])\n",
    "\n",
    "    recall, mrr = np.mean(recall_list), np.mean(mrr_list)\n",
    "    return recall, mrr"
   ]
  },
  {
   "cell_type": "code",
   "execution_count": 58,
   "metadata": {},
   "outputs": [
    {
     "name": "stderr",
     "output_type": "stream",
     "text": [
      "Train:  98%|█████████▊| 1945/1984 [00:22<00:00, 86.80it/s, accuracy=0.00781, train_loss=7.31]\n",
      "Evaluation:  70%|██████▉   | 51/73 [00:26<00:11,  1.96it/s]\n",
      "Train:   0%|          | 0/1984 [00:00<?, ?it/s, accuracy=0, train_loss=7.15]      "
     ]
    },
    {
     "name": "stdout",
     "output_type": "stream",
     "text": [
      "\t - Recall@20 epoch 1: 0.054075\n",
      "\t - MRR@20    epoch 1: 0.011701\n",
      "\n"
     ]
    },
    {
     "name": "stderr",
     "output_type": "stream",
     "text": [
      "Train:  98%|█████████▊| 1945/1984 [00:21<00:00, 89.61it/s, accuracy=0.00781, train_loss=7.26]\n",
      "Evaluation:  70%|██████▉   | 51/73 [00:25<00:10,  2.02it/s]\n",
      "Train:   0%|          | 0/1984 [00:00<?, ?it/s, accuracy=0, train_loss=7.06]      "
     ]
    },
    {
     "name": "stdout",
     "output_type": "stream",
     "text": [
      "\t - Recall@20 epoch 2: 0.055607\n",
      "\t - MRR@20    epoch 2: 0.011836\n",
      "\n"
     ]
    },
    {
     "name": "stderr",
     "output_type": "stream",
     "text": [
      "Train:  98%|█████████▊| 1945/1984 [00:21<00:00, 90.49it/s, accuracy=0.00781, train_loss=7.18]\n",
      "Evaluation:  70%|██████▉   | 51/73 [00:24<00:10,  2.06it/s]\n",
      "Train:   0%|          | 0/1984 [00:00<?, ?it/s, accuracy=0.0234, train_loss=6.99] "
     ]
    },
    {
     "name": "stdout",
     "output_type": "stream",
     "text": [
      "\t - Recall@20 epoch 3: 0.058058\n",
      "\t - MRR@20    epoch 3: 0.012437\n",
      "\n"
     ]
    },
    {
     "name": "stderr",
     "output_type": "stream",
     "text": [
      "Train:  98%|█████████▊| 1945/1984 [00:21<00:00, 89.72it/s, accuracy=0.0156, train_loss=7.07] \n",
      "Evaluation:  70%|██████▉   | 51/73 [00:25<00:10,  2.02it/s]\n",
      "Train:   0%|          | 0/1984 [00:00<?, ?it/s, accuracy=0.00781, train_loss=6.85]"
     ]
    },
    {
     "name": "stdout",
     "output_type": "stream",
     "text": [
      "\t - Recall@20 epoch 4: 0.063113\n",
      "\t - MRR@20    epoch 4: 0.015090\n",
      "\n"
     ]
    },
    {
     "name": "stderr",
     "output_type": "stream",
     "text": [
      "Train:  98%|█████████▊| 1945/1984 [00:21<00:00, 89.95it/s, accuracy=0.0156, train_loss=7]    \n",
      "Evaluation:  70%|██████▉   | 51/73 [00:25<00:10,  2.01it/s]\n",
      "Train:   0%|          | 0/1984 [00:00<?, ?it/s, accuracy=0.00781, train_loss=6.73]"
     ]
    },
    {
     "name": "stdout",
     "output_type": "stream",
     "text": [
      "\t - Recall@20 epoch 5: 0.066942\n",
      "\t - MRR@20    epoch 5: 0.015929\n",
      "\n"
     ]
    },
    {
     "name": "stderr",
     "output_type": "stream",
     "text": [
      "Train:  98%|█████████▊| 1945/1984 [00:21<00:00, 90.06it/s, accuracy=0.0234, train_loss=6.95] \n",
      "Evaluation:  70%|██████▉   | 51/73 [00:24<00:10,  2.05it/s]\n",
      "Train:   0%|          | 0/1984 [00:00<?, ?it/s, accuracy=0.0156, train_loss=6.69] "
     ]
    },
    {
     "name": "stdout",
     "output_type": "stream",
     "text": [
      "\t - Recall@20 epoch 6: 0.074908\n",
      "\t - MRR@20    epoch 6: 0.017293\n",
      "\n"
     ]
    },
    {
     "name": "stderr",
     "output_type": "stream",
     "text": [
      "Train:  98%|█████████▊| 1945/1984 [00:21<00:00, 92.09it/s, accuracy=0.0156, train_loss=6.87] \n",
      "Evaluation:  70%|██████▉   | 51/73 [00:25<00:10,  2.03it/s]\n",
      "Train:   0%|          | 0/1984 [00:00<?, ?it/s, accuracy=0.0312, train_loss=6.46] "
     ]
    },
    {
     "name": "stdout",
     "output_type": "stream",
     "text": [
      "\t - Recall@20 epoch 7: 0.076134\n",
      "\t - MRR@20    epoch 7: 0.017607\n",
      "\n"
     ]
    },
    {
     "name": "stderr",
     "output_type": "stream",
     "text": [
      "Train:  98%|█████████▊| 1945/1984 [00:20<00:00, 95.03it/s, accuracy=0.00781, train_loss=6.8] \n",
      "Evaluation:  70%|██████▉   | 51/73 [00:24<00:10,  2.05it/s]\n",
      "Train:   0%|          | 0/1984 [00:00<?, ?it/s, accuracy=0.0234, train_loss=6.38] "
     ]
    },
    {
     "name": "stdout",
     "output_type": "stream",
     "text": [
      "\t - Recall@20 epoch 8: 0.081648\n",
      "\t - MRR@20    epoch 8: 0.017758\n",
      "\n"
     ]
    },
    {
     "name": "stderr",
     "output_type": "stream",
     "text": [
      "Train:  98%|█████████▊| 1945/1984 [00:20<00:00, 93.14it/s, accuracy=0.0156, train_loss=6.72] \n",
      "Evaluation:  70%|██████▉   | 51/73 [00:24<00:10,  2.06it/s]\n",
      "Train:   0%|          | 0/1984 [00:00<?, ?it/s, accuracy=0.0312, train_loss=6.33] "
     ]
    },
    {
     "name": "stdout",
     "output_type": "stream",
     "text": [
      "\t - Recall@20 epoch 9: 0.082414\n",
      "\t - MRR@20    epoch 9: 0.018361\n",
      "\n"
     ]
    },
    {
     "name": "stderr",
     "output_type": "stream",
     "text": [
      "Train:  98%|█████████▊| 1945/1984 [00:21<00:00, 91.07it/s, accuracy=0.0156, train_loss=6.7]  \n",
      "Evaluation:  70%|██████▉   | 51/73 [00:24<00:10,  2.04it/s]"
     ]
    },
    {
     "name": "stdout",
     "output_type": "stream",
     "text": [
      "\t - Recall@20 epoch 10: 0.079963\n",
      "\t - MRR@20    epoch 10: 0.018195\n",
      "\n"
     ]
    },
    {
     "name": "stderr",
     "output_type": "stream",
     "text": [
      "\n"
     ]
    }
   ],
   "source": [
    "# 학습 \n",
    "train_model(model, args)"
   ]
  },
  {
   "cell_type": "markdown",
   "metadata": {},
   "source": [
    "**첫번째 변화**  \n",
    "배치사이즈와 drop_rate를 늘렸다. "
   ]
  },
  {
   "cell_type": "code",
   "execution_count": 59,
   "metadata": {},
   "outputs": [
    {
     "name": "stdout",
     "output_type": "stream",
     "text": [
      "Model: \"model_4\"\n",
      "_________________________________________________________________\n",
      "Layer (type)                 Output Shape              Param #   \n",
      "=================================================================\n",
      "input_5 (InputLayer)         [(256, 1, 2796)]          0         \n",
      "_________________________________________________________________\n",
      "GRU (GRU)                    [(256, 50), (256, 50)]    427200    \n",
      "_________________________________________________________________\n",
      "dropout_4 (Dropout)          (256, 50)                 0         \n",
      "_________________________________________________________________\n",
      "dense_4 (Dense)              (256, 2796)               142596    \n",
      "=================================================================\n",
      "Total params: 569,796\n",
      "Trainable params: 569,796\n",
      "Non-trainable params: 0\n",
      "_________________________________________________________________\n"
     ]
    }
   ],
   "source": [
    "args = Args(tr, val, test, batch_size=256, hsz=50, drop_rate=0.3, lr=0.001, epochs=15, k=20)\n",
    "model = create_model(args)"
   ]
  },
  {
   "cell_type": "code",
   "execution_count": 60,
   "metadata": {},
   "outputs": [
    {
     "name": "stderr",
     "output_type": "stream",
     "text": [
      "Train:  96%|█████████▌| 949/992 [00:15<00:00, 60.95it/s, accuracy=0, train_loss=7.39]      \n",
      "Evaluation:  39%|███▉      | 14/36 [00:14<00:22,  1.03s/it]\n",
      "Train:   0%|          | 0/992 [00:00<?, ?it/s, accuracy=0.0234, train_loss=7.19] "
     ]
    },
    {
     "name": "stdout",
     "output_type": "stream",
     "text": [
      "\t - Recall@20 epoch 1: 0.043527\n",
      "\t - MRR@20    epoch 1: 0.009962\n",
      "\n"
     ]
    },
    {
     "name": "stderr",
     "output_type": "stream",
     "text": [
      "Train:  96%|█████████▌| 949/992 [00:14<00:00, 64.47it/s, accuracy=0.00781, train_loss=7.35]\n",
      "Evaluation:  39%|███▉      | 14/36 [00:13<00:21,  1.03it/s]\n",
      "Train:   0%|          | 0/992 [00:00<?, ?it/s, accuracy=0.00781, train_loss=7.16]"
     ]
    },
    {
     "name": "stdout",
     "output_type": "stream",
     "text": [
      "\t - Recall@20 epoch 2: 0.047154\n",
      "\t - MRR@20    epoch 2: 0.010238\n",
      "\n"
     ]
    },
    {
     "name": "stderr",
     "output_type": "stream",
     "text": [
      "Train:  96%|█████████▌| 949/992 [00:14<00:00, 64.88it/s, accuracy=0.00391, train_loss=7.33]\n",
      "Evaluation:  39%|███▉      | 14/36 [00:13<00:21,  1.03it/s]\n",
      "Train:   0%|          | 0/992 [00:00<?, ?it/s, accuracy=0.00781, train_loss=7.09]"
     ]
    },
    {
     "name": "stdout",
     "output_type": "stream",
     "text": [
      "\t - Recall@20 epoch 3: 0.047154\n",
      "\t - MRR@20    epoch 3: 0.010030\n",
      "\n"
     ]
    },
    {
     "name": "stderr",
     "output_type": "stream",
     "text": [
      "Train:  96%|█████████▌| 949/992 [00:15<00:00, 63.04it/s, accuracy=0.00781, train_loss=7.28]\n",
      "Evaluation:  39%|███▉      | 14/36 [00:13<00:21,  1.03it/s]\n",
      "Train:   0%|          | 0/992 [00:00<?, ?it/s, accuracy=0.00781, train_loss=7.05]"
     ]
    },
    {
     "name": "stdout",
     "output_type": "stream",
     "text": [
      "\t - Recall@20 epoch 4: 0.050223\n",
      "\t - MRR@20    epoch 4: 0.010576\n",
      "\n"
     ]
    },
    {
     "name": "stderr",
     "output_type": "stream",
     "text": [
      "Train:  96%|█████████▌| 949/992 [00:14<00:00, 65.44it/s, accuracy=0.00781, train_loss=7.19]\n",
      "Evaluation:  39%|███▉      | 14/36 [00:13<00:21,  1.01it/s]\n",
      "Train:   0%|          | 0/992 [00:00<?, ?it/s, accuracy=0.00391, train_loss=7.03]"
     ]
    },
    {
     "name": "stdout",
     "output_type": "stream",
     "text": [
      "\t - Recall@20 epoch 5: 0.049665\n",
      "\t - MRR@20    epoch 5: 0.010471\n",
      "\n"
     ]
    },
    {
     "name": "stderr",
     "output_type": "stream",
     "text": [
      "Train:  96%|█████████▌| 949/992 [00:14<00:00, 65.95it/s, accuracy=0.00391, train_loss=7.15]\n",
      "Evaluation:  39%|███▉      | 14/36 [00:13<00:20,  1.05it/s]\n",
      "Train:   0%|          | 0/992 [00:00<?, ?it/s, accuracy=0.0117, train_loss=6.98] "
     ]
    },
    {
     "name": "stdout",
     "output_type": "stream",
     "text": [
      "\t - Recall@20 epoch 6: 0.054129\n",
      "\t - MRR@20    epoch 6: 0.011241\n",
      "\n"
     ]
    },
    {
     "name": "stderr",
     "output_type": "stream",
     "text": [
      "Train:  96%|█████████▌| 949/992 [00:14<00:00, 66.15it/s, accuracy=0.00781, train_loss=7.12]\n",
      "Evaluation:  39%|███▉      | 14/36 [00:13<00:21,  1.03it/s]\n",
      "Train:   0%|          | 0/992 [00:00<?, ?it/s, accuracy=0.0117, train_loss=6.94] "
     ]
    },
    {
     "name": "stdout",
     "output_type": "stream",
     "text": [
      "\t - Recall@20 epoch 7: 0.049944\n",
      "\t - MRR@20    epoch 7: 0.011511\n",
      "\n"
     ]
    },
    {
     "name": "stderr",
     "output_type": "stream",
     "text": [
      "Train:  96%|█████████▌| 949/992 [00:14<00:00, 67.67it/s, accuracy=0.0156, train_loss=7.07] \n",
      "Evaluation:  39%|███▉      | 14/36 [00:13<00:20,  1.05it/s]\n",
      "Train:   0%|          | 0/992 [00:00<?, ?it/s, accuracy=0.0117, train_loss=6.91] "
     ]
    },
    {
     "name": "stdout",
     "output_type": "stream",
     "text": [
      "\t - Recall@20 epoch 8: 0.056362\n",
      "\t - MRR@20    epoch 8: 0.012796\n",
      "\n"
     ]
    },
    {
     "name": "stderr",
     "output_type": "stream",
     "text": [
      "Train:  96%|█████████▌| 949/992 [00:13<00:00, 69.18it/s, accuracy=0.0117, train_loss=7.02] \n",
      "Evaluation:  39%|███▉      | 14/36 [00:13<00:20,  1.07it/s]\n",
      "Train:   0%|          | 0/992 [00:00<?, ?it/s, accuracy=0.00781, train_loss=6.73]"
     ]
    },
    {
     "name": "stdout",
     "output_type": "stream",
     "text": [
      "\t - Recall@20 epoch 9: 0.059431\n",
      "\t - MRR@20    epoch 9: 0.014027\n",
      "\n"
     ]
    },
    {
     "name": "stderr",
     "output_type": "stream",
     "text": [
      "Train:  96%|█████████▌| 949/992 [00:13<00:00, 70.26it/s, accuracy=0.0234, train_loss=6.99] \n",
      "Evaluation:  39%|███▉      | 14/36 [00:13<00:21,  1.04it/s]\n",
      "Train:   0%|          | 0/992 [00:00<?, ?it/s, accuracy=0.00781, train_loss=6.79]"
     ]
    },
    {
     "name": "stdout",
     "output_type": "stream",
     "text": [
      "\t - Recall@20 epoch 10: 0.061663\n",
      "\t - MRR@20    epoch 10: 0.014286\n",
      "\n"
     ]
    },
    {
     "name": "stderr",
     "output_type": "stream",
     "text": [
      "Train:  96%|█████████▌| 949/992 [00:13<00:00, 68.88it/s, accuracy=0.0273, train_loss=6.91] \n",
      "Evaluation:  39%|███▉      | 14/36 [00:13<00:20,  1.05it/s]\n",
      "Train:   0%|          | 0/992 [00:00<?, ?it/s, accuracy=0.0195, train_loss=6.78] "
     ]
    },
    {
     "name": "stdout",
     "output_type": "stream",
     "text": [
      "\t - Recall@20 epoch 11: 0.063895\n",
      "\t - MRR@20    epoch 11: 0.014926\n",
      "\n"
     ]
    },
    {
     "name": "stderr",
     "output_type": "stream",
     "text": [
      "Train:  96%|█████████▌| 949/992 [00:13<00:00, 69.53it/s, accuracy=0.0391, train_loss=6.87] \n",
      "Evaluation:  39%|███▉      | 14/36 [00:13<00:20,  1.06it/s]\n",
      "Train:   0%|          | 0/992 [00:00<?, ?it/s, accuracy=0.0195, train_loss=6.72] "
     ]
    },
    {
     "name": "stdout",
     "output_type": "stream",
     "text": [
      "\t - Recall@20 epoch 12: 0.063895\n",
      "\t - MRR@20    epoch 12: 0.014977\n",
      "\n"
     ]
    },
    {
     "name": "stderr",
     "output_type": "stream",
     "text": [
      "Train:  96%|█████████▌| 949/992 [00:13<00:00, 70.12it/s, accuracy=0.0273, train_loss=6.79] \n",
      "Evaluation:  39%|███▉      | 14/36 [00:13<00:20,  1.07it/s]\n",
      "Train:   0%|          | 0/992 [00:00<?, ?it/s, accuracy=0.0352, train_loss=6.69] "
     ]
    },
    {
     "name": "stdout",
     "output_type": "stream",
     "text": [
      "\t - Recall@20 epoch 13: 0.064174\n",
      "\t - MRR@20    epoch 13: 0.015042\n",
      "\n"
     ]
    },
    {
     "name": "stderr",
     "output_type": "stream",
     "text": [
      "Train:  96%|█████████▌| 949/992 [00:14<00:00, 64.05it/s, accuracy=0.0234, train_loss=6.78] \n",
      "Evaluation:  39%|███▉      | 14/36 [00:13<00:21,  1.03it/s]\n",
      "Train:   0%|          | 0/992 [00:00<?, ?it/s, accuracy=0.0156, train_loss=6.56]"
     ]
    },
    {
     "name": "stdout",
     "output_type": "stream",
     "text": [
      "\t - Recall@20 epoch 14: 0.068359\n",
      "\t - MRR@20    epoch 14: 0.014945\n",
      "\n"
     ]
    },
    {
     "name": "stderr",
     "output_type": "stream",
     "text": [
      "Train:  96%|█████████▌| 949/992 [00:14<00:00, 64.58it/s, accuracy=0.0273, train_loss=6.73] \n",
      "Evaluation:  39%|███▉      | 14/36 [00:13<00:20,  1.06it/s]"
     ]
    },
    {
     "name": "stdout",
     "output_type": "stream",
     "text": [
      "\t - Recall@20 epoch 15: 0.069475\n",
      "\t - MRR@20    epoch 15: 0.015894\n",
      "\n"
     ]
    },
    {
     "name": "stderr",
     "output_type": "stream",
     "text": [
      "\n"
     ]
    }
   ],
   "source": [
    "train_model(model, args)"
   ]
  },
  {
   "cell_type": "markdown",
   "metadata": {},
   "source": [
    "**두번째 변화**  \n",
    "learning rate를 0.002, epochs=20"
   ]
  },
  {
   "cell_type": "code",
   "execution_count": 61,
   "metadata": {},
   "outputs": [
    {
     "name": "stdout",
     "output_type": "stream",
     "text": [
      "Model: \"model_5\"\n",
      "_________________________________________________________________\n",
      "Layer (type)                 Output Shape              Param #   \n",
      "=================================================================\n",
      "input_6 (InputLayer)         [(256, 1, 2796)]          0         \n",
      "_________________________________________________________________\n",
      "GRU (GRU)                    [(256, 50), (256, 50)]    427200    \n",
      "_________________________________________________________________\n",
      "dropout_5 (Dropout)          (256, 50)                 0         \n",
      "_________________________________________________________________\n",
      "dense_5 (Dense)              (256, 2796)               142596    \n",
      "=================================================================\n",
      "Total params: 569,796\n",
      "Trainable params: 569,796\n",
      "Non-trainable params: 0\n",
      "_________________________________________________________________\n"
     ]
    }
   ],
   "source": [
    "args = Args(tr, val, test, batch_size=256, hsz=50, drop_rate=0.3, lr=0.002, epochs=20, k=20)\n",
    "model = create_model(args)"
   ]
  },
  {
   "cell_type": "code",
   "execution_count": 62,
   "metadata": {},
   "outputs": [
    {
     "name": "stderr",
     "output_type": "stream",
     "text": [
      "Train:  96%|█████████▌| 949/992 [00:15<00:00, 60.05it/s, accuracy=0.00781, train_loss=7.37]\n",
      "Evaluation:  39%|███▉      | 14/36 [00:14<00:22,  1.01s/it]\n",
      "Train:   0%|          | 0/992 [00:00<?, ?it/s, accuracy=0, train_loss=7.08]      "
     ]
    },
    {
     "name": "stdout",
     "output_type": "stream",
     "text": [
      "\t - Recall@20 epoch 1: 0.047154\n",
      "\t - MRR@20    epoch 1: 0.010508\n",
      "\n"
     ]
    },
    {
     "name": "stderr",
     "output_type": "stream",
     "text": [
      "Train:  96%|█████████▌| 949/992 [00:14<00:00, 65.35it/s, accuracy=0.0117, train_loss=7.32] \n",
      "Evaluation:  39%|███▉      | 14/36 [00:13<00:21,  1.03it/s]\n",
      "Train:   0%|          | 0/992 [00:00<?, ?it/s, accuracy=0.00391, train_loss=7.05]"
     ]
    },
    {
     "name": "stdout",
     "output_type": "stream",
     "text": [
      "\t - Recall@20 epoch 2: 0.048270\n",
      "\t - MRR@20    epoch 2: 0.010148\n",
      "\n"
     ]
    },
    {
     "name": "stderr",
     "output_type": "stream",
     "text": [
      "Train:  96%|█████████▌| 949/992 [00:14<00:00, 67.53it/s, accuracy=0.00781, train_loss=7.2] \n",
      "Evaluation:  39%|███▉      | 14/36 [00:13<00:21,  1.02it/s]\n",
      "Train:   0%|          | 0/992 [00:00<?, ?it/s, accuracy=0.00781, train_loss=7]   "
     ]
    },
    {
     "name": "stdout",
     "output_type": "stream",
     "text": [
      "\t - Recall@20 epoch 3: 0.055246\n",
      "\t - MRR@20    epoch 3: 0.013117\n",
      "\n"
     ]
    },
    {
     "name": "stderr",
     "output_type": "stream",
     "text": [
      "Train:  96%|█████████▌| 949/992 [00:13<00:00, 67.84it/s, accuracy=0.00781, train_loss=7.12]\n",
      "Evaluation:  39%|███▉      | 14/36 [00:13<00:21,  1.04it/s]\n",
      "Train:   0%|          | 0/992 [00:00<?, ?it/s, accuracy=0.0156, train_loss=6.92] "
     ]
    },
    {
     "name": "stdout",
     "output_type": "stream",
     "text": [
      "\t - Recall@20 epoch 4: 0.059431\n",
      "\t - MRR@20    epoch 4: 0.014168\n",
      "\n"
     ]
    },
    {
     "name": "stderr",
     "output_type": "stream",
     "text": [
      "Train:  96%|█████████▌| 949/992 [00:13<00:00, 68.07it/s, accuracy=0.0195, train_loss=7.02] \n",
      "Evaluation:  39%|███▉      | 14/36 [00:13<00:21,  1.03it/s]\n",
      "Train:   0%|          | 0/992 [00:00<?, ?it/s, accuracy=0.00781, train_loss=6.84]"
     ]
    },
    {
     "name": "stdout",
     "output_type": "stream",
     "text": [
      "\t - Recall@20 epoch 5: 0.066406\n",
      "\t - MRR@20    epoch 5: 0.014492\n",
      "\n"
     ]
    },
    {
     "name": "stderr",
     "output_type": "stream",
     "text": [
      "Train:  96%|█████████▌| 949/992 [00:14<00:00, 65.93it/s, accuracy=0.0156, train_loss=6.91] \n",
      "Evaluation:  39%|███▉      | 14/36 [00:13<00:21,  1.02it/s]\n",
      "Train:   0%|          | 0/992 [00:00<?, ?it/s, accuracy=0.0195, train_loss=6.72] "
     ]
    },
    {
     "name": "stdout",
     "output_type": "stream",
     "text": [
      "\t - Recall@20 epoch 6: 0.069754\n",
      "\t - MRR@20    epoch 6: 0.015279\n",
      "\n"
     ]
    },
    {
     "name": "stderr",
     "output_type": "stream",
     "text": [
      "Train:  96%|█████████▌| 949/992 [00:14<00:00, 64.91it/s, accuracy=0.0234, train_loss=6.81] \n",
      "Evaluation:  39%|███▉      | 14/36 [00:13<00:21,  1.04it/s]\n",
      "Train:   0%|          | 0/992 [00:00<?, ?it/s, accuracy=0.0195, train_loss=6.67] "
     ]
    },
    {
     "name": "stdout",
     "output_type": "stream",
     "text": [
      "\t - Recall@20 epoch 7: 0.071429\n",
      "\t - MRR@20    epoch 7: 0.015831\n",
      "\n"
     ]
    },
    {
     "name": "stderr",
     "output_type": "stream",
     "text": [
      "Train:  96%|█████████▌| 949/992 [00:13<00:00, 68.90it/s, accuracy=0.0273, train_loss=6.75] \n",
      "Evaluation:  39%|███▉      | 14/36 [00:13<00:20,  1.05it/s]\n",
      "Train:   0%|          | 0/992 [00:00<?, ?it/s, accuracy=0.0234, train_loss=6.61] "
     ]
    },
    {
     "name": "stdout",
     "output_type": "stream",
     "text": [
      "\t - Recall@20 epoch 8: 0.066127\n",
      "\t - MRR@20    epoch 8: 0.016553\n",
      "\n"
     ]
    },
    {
     "name": "stderr",
     "output_type": "stream",
     "text": [
      "Train:  96%|█████████▌| 949/992 [00:13<00:00, 69.56it/s, accuracy=0.0273, train_loss=6.71] \n",
      "Evaluation:  39%|███▉      | 14/36 [00:13<00:21,  1.02it/s]\n",
      "Train:   0%|          | 0/992 [00:00<?, ?it/s, accuracy=0.0312, train_loss=6.45] "
     ]
    },
    {
     "name": "stdout",
     "output_type": "stream",
     "text": [
      "\t - Recall@20 epoch 9: 0.070312\n",
      "\t - MRR@20    epoch 9: 0.017263\n",
      "\n"
     ]
    },
    {
     "name": "stderr",
     "output_type": "stream",
     "text": [
      "Train:  96%|█████████▌| 949/992 [00:14<00:00, 66.44it/s, accuracy=0.0234, train_loss=6.66] \n",
      "Evaluation:  39%|███▉      | 14/36 [00:13<00:20,  1.06it/s]\n",
      "Train:   0%|          | 0/992 [00:00<?, ?it/s, accuracy=0.0156, train_loss=6.56] "
     ]
    },
    {
     "name": "stdout",
     "output_type": "stream",
     "text": [
      "\t - Recall@20 epoch 10: 0.070871\n",
      "\t - MRR@20    epoch 10: 0.016755\n",
      "\n"
     ]
    },
    {
     "name": "stderr",
     "output_type": "stream",
     "text": [
      "Train:  96%|█████████▌| 949/992 [00:13<00:00, 69.39it/s, accuracy=0.0273, train_loss=6.58] \n",
      "Evaluation:  39%|███▉      | 14/36 [00:13<00:20,  1.06it/s]\n",
      "Train:   0%|          | 0/992 [00:00<?, ?it/s, accuracy=0.0234, train_loss=6.48]"
     ]
    },
    {
     "name": "stdout",
     "output_type": "stream",
     "text": [
      "\t - Recall@20 epoch 11: 0.068080\n",
      "\t - MRR@20    epoch 11: 0.016560\n",
      "\n"
     ]
    },
    {
     "name": "stderr",
     "output_type": "stream",
     "text": [
      "Train:  96%|█████████▌| 949/992 [00:13<00:00, 70.35it/s, accuracy=0.0195, train_loss=6.5]  \n",
      "Evaluation:  39%|███▉      | 14/36 [00:13<00:20,  1.06it/s]\n",
      "Train:   0%|          | 0/992 [00:00<?, ?it/s, accuracy=0.0195, train_loss=6.53] "
     ]
    },
    {
     "name": "stdout",
     "output_type": "stream",
     "text": [
      "\t - Recall@20 epoch 12: 0.069196\n",
      "\t - MRR@20    epoch 12: 0.015977\n",
      "\n"
     ]
    },
    {
     "name": "stderr",
     "output_type": "stream",
     "text": [
      "Train:  96%|█████████▌| 949/992 [00:13<00:00, 68.40it/s, accuracy=0.0273, train_loss=6.57] \n",
      "Evaluation:  39%|███▉      | 14/36 [00:13<00:20,  1.05it/s]\n",
      "Train:   0%|          | 0/992 [00:00<?, ?it/s, accuracy=0.0312, train_loss=6.33]"
     ]
    },
    {
     "name": "stdout",
     "output_type": "stream",
     "text": [
      "\t - Recall@20 epoch 13: 0.070033\n",
      "\t - MRR@20    epoch 13: 0.016216\n",
      "\n"
     ]
    },
    {
     "name": "stderr",
     "output_type": "stream",
     "text": [
      "Train:  96%|█████████▌| 949/992 [00:13<00:00, 68.04it/s, accuracy=0.0234, train_loss=6.51] \n",
      "Evaluation:  39%|███▉      | 14/36 [00:13<00:21,  1.04it/s]\n",
      "Train:   0%|          | 0/992 [00:00<?, ?it/s, accuracy=0.0195, train_loss=6.45] "
     ]
    },
    {
     "name": "stdout",
     "output_type": "stream",
     "text": [
      "\t - Recall@20 epoch 14: 0.070312\n",
      "\t - MRR@20    epoch 14: 0.015711\n",
      "\n"
     ]
    },
    {
     "name": "stderr",
     "output_type": "stream",
     "text": [
      "Train:  96%|█████████▌| 949/992 [00:13<00:00, 69.80it/s, accuracy=0.0469, train_loss=6.41] \n",
      "Evaluation:  39%|███▉      | 14/36 [00:13<00:21,  1.05it/s]\n",
      "Train:   0%|          | 0/992 [00:00<?, ?it/s, accuracy=0.0508, train_loss=6.25]"
     ]
    },
    {
     "name": "stdout",
     "output_type": "stream",
     "text": [
      "\t - Recall@20 epoch 15: 0.069754\n",
      "\t - MRR@20    epoch 15: 0.016201\n",
      "\n"
     ]
    },
    {
     "name": "stderr",
     "output_type": "stream",
     "text": [
      "Train:  96%|█████████▌| 949/992 [00:13<00:00, 68.73it/s, accuracy=0.0312, train_loss=6.4]  \n",
      "Evaluation:  39%|███▉      | 14/36 [00:13<00:21,  1.04it/s]\n",
      "Train:   0%|          | 0/992 [00:00<?, ?it/s, accuracy=0.0312, train_loss=6.35]"
     ]
    },
    {
     "name": "stdout",
     "output_type": "stream",
     "text": [
      "\t - Recall@20 epoch 16: 0.068080\n",
      "\t - MRR@20    epoch 16: 0.015306\n",
      "\n"
     ]
    },
    {
     "name": "stderr",
     "output_type": "stream",
     "text": [
      "Train:  96%|█████████▌| 949/992 [00:13<00:00, 69.88it/s, accuracy=0.043, train_loss=6.36]  \n",
      "Evaluation:  39%|███▉      | 14/36 [00:13<00:21,  1.03it/s]\n",
      "Train:   0%|          | 0/992 [00:00<?, ?it/s, accuracy=0.0391, train_loss=6.36]"
     ]
    },
    {
     "name": "stdout",
     "output_type": "stream",
     "text": [
      "\t - Recall@20 epoch 17: 0.066127\n",
      "\t - MRR@20    epoch 17: 0.015705\n",
      "\n"
     ]
    },
    {
     "name": "stderr",
     "output_type": "stream",
     "text": [
      "Train:  96%|█████████▌| 949/992 [00:13<00:00, 69.36it/s, accuracy=0.0352, train_loss=6.36] \n",
      "Evaluation:  39%|███▉      | 14/36 [00:13<00:20,  1.06it/s]\n",
      "Train:   0%|          | 0/992 [00:00<?, ?it/s, accuracy=0.0508, train_loss=6.23] "
     ]
    },
    {
     "name": "stdout",
     "output_type": "stream",
     "text": [
      "\t - Recall@20 epoch 18: 0.069196\n",
      "\t - MRR@20    epoch 18: 0.016186\n",
      "\n"
     ]
    },
    {
     "name": "stderr",
     "output_type": "stream",
     "text": [
      "Train:  96%|█████████▌| 949/992 [00:13<00:00, 69.10it/s, accuracy=0.0312, train_loss=6.36] \n",
      "Evaluation:  39%|███▉      | 14/36 [00:13<00:21,  1.04it/s]\n",
      "Train:   0%|          | 0/992 [00:00<?, ?it/s, accuracy=0.043, train_loss=6.29] "
     ]
    },
    {
     "name": "stdout",
     "output_type": "stream",
     "text": [
      "\t - Recall@20 epoch 19: 0.067801\n",
      "\t - MRR@20    epoch 19: 0.016564\n",
      "\n"
     ]
    },
    {
     "name": "stderr",
     "output_type": "stream",
     "text": [
      "Train:  96%|█████████▌| 949/992 [00:14<00:00, 67.25it/s, accuracy=0.043, train_loss=6.29]  \n",
      "Evaluation:  39%|███▉      | 14/36 [00:13<00:21,  1.03it/s]"
     ]
    },
    {
     "name": "stdout",
     "output_type": "stream",
     "text": [
      "\t - Recall@20 epoch 20: 0.065569\n",
      "\t - MRR@20    epoch 20: 0.015831\n",
      "\n"
     ]
    },
    {
     "name": "stderr",
     "output_type": "stream",
     "text": [
      "\n"
     ]
    }
   ],
   "source": [
    "train_model(model, args)"
   ]
  },
  {
   "cell_type": "markdown",
   "metadata": {},
   "source": [
    "**세번째 변화**"
   ]
  },
  {
   "cell_type": "code",
   "execution_count": 67,
   "metadata": {},
   "outputs": [
    {
     "name": "stdout",
     "output_type": "stream",
     "text": [
      "Model: \"model_8\"\n",
      "_________________________________________________________________\n",
      "Layer (type)                 Output Shape              Param #   \n",
      "=================================================================\n",
      "input_9 (InputLayer)         [(256, 1, 2796)]          0         \n",
      "_________________________________________________________________\n",
      "GRU (GRU)                    [(256, 50), (256, 50)]    427200    \n",
      "_________________________________________________________________\n",
      "dropout_8 (Dropout)          (256, 50)                 0         \n",
      "_________________________________________________________________\n",
      "dense_8 (Dense)              (256, 2796)               142596    \n",
      "=================================================================\n",
      "Total params: 569,796\n",
      "Trainable params: 569,796\n",
      "Non-trainable params: 0\n",
      "_________________________________________________________________\n"
     ]
    }
   ],
   "source": [
    "args = Args(tr, val, test, batch_size=256, hsz=50, drop_rate=0.3, lr=0.001, epochs=20, k=20)\n",
    "model = create_model(args)"
   ]
  },
  {
   "cell_type": "code",
   "execution_count": 68,
   "metadata": {},
   "outputs": [
    {
     "name": "stderr",
     "output_type": "stream",
     "text": [
      "Train:  96%|█████████▌| 949/992 [00:15<00:00, 61.48it/s, accuracy=0.00391, train_loss=7.39]\n",
      "Evaluation:  39%|███▉      | 14/36 [00:14<00:22,  1.00s/it]\n",
      "Train:   0%|          | 0/992 [00:00<?, ?it/s, accuracy=0.00781, train_loss=7.2] "
     ]
    },
    {
     "name": "stdout",
     "output_type": "stream",
     "text": [
      "\t - Recall@20 epoch 1: 0.040458\n",
      "\t - MRR@20    epoch 1: 0.009587\n",
      "\n"
     ]
    },
    {
     "name": "stderr",
     "output_type": "stream",
     "text": [
      "Train:  96%|█████████▌| 949/992 [00:14<00:00, 64.53it/s, accuracy=0.00391, train_loss=7.36]\n",
      "Evaluation:  39%|███▉      | 14/36 [00:14<00:22,  1.04s/it]\n",
      "Train:   0%|          | 0/992 [00:00<?, ?it/s, accuracy=0.00781, train_loss=7.16]"
     ]
    },
    {
     "name": "stdout",
     "output_type": "stream",
     "text": [
      "\t - Recall@20 epoch 2: 0.044085\n",
      "\t - MRR@20    epoch 2: 0.009765\n",
      "\n"
     ]
    },
    {
     "name": "stderr",
     "output_type": "stream",
     "text": [
      "Train:  96%|█████████▌| 949/992 [00:14<00:00, 63.73it/s, accuracy=0.00391, train_loss=7.33]\n",
      "Evaluation:  39%|███▉      | 14/36 [00:14<00:23,  1.05s/it]\n",
      "Train:   0%|          | 0/992 [00:00<?, ?it/s, accuracy=0.00781, train_loss=7.11]"
     ]
    },
    {
     "name": "stdout",
     "output_type": "stream",
     "text": [
      "\t - Recall@20 epoch 3: 0.048828\n",
      "\t - MRR@20    epoch 3: 0.010286\n",
      "\n"
     ]
    },
    {
     "name": "stderr",
     "output_type": "stream",
     "text": [
      "Train:  96%|█████████▌| 949/992 [00:14<00:00, 64.97it/s, accuracy=0.00391, train_loss=7.27]\n",
      "Evaluation:  39%|███▉      | 14/36 [00:13<00:21,  1.05it/s]\n",
      "Train:   0%|          | 0/992 [00:00<?, ?it/s, accuracy=0.00781, train_loss=7.07]"
     ]
    },
    {
     "name": "stdout",
     "output_type": "stream",
     "text": [
      "\t - Recall@20 epoch 4: 0.051339\n",
      "\t - MRR@20    epoch 4: 0.010312\n",
      "\n"
     ]
    },
    {
     "name": "stderr",
     "output_type": "stream",
     "text": [
      "Train:  96%|█████████▌| 949/992 [00:14<00:00, 63.90it/s, accuracy=0.0117, train_loss=7.18] \n",
      "Evaluation:  39%|███▉      | 14/36 [00:14<00:22,  1.04s/it]\n",
      "Train:   0%|          | 0/992 [00:00<?, ?it/s, accuracy=0.00781, train_loss=6.99]"
     ]
    },
    {
     "name": "stdout",
     "output_type": "stream",
     "text": [
      "\t - Recall@20 epoch 5: 0.049665\n",
      "\t - MRR@20    epoch 5: 0.009228\n",
      "\n"
     ]
    },
    {
     "name": "stderr",
     "output_type": "stream",
     "text": [
      "Train:  96%|█████████▌| 949/992 [00:14<00:00, 64.78it/s, accuracy=0.00391, train_loss=7.14]\n",
      "Evaluation:  39%|███▉      | 14/36 [00:14<00:22,  1.02s/it]\n",
      "Train:   0%|          | 0/992 [00:00<?, ?it/s, accuracy=0.0195, train_loss=6.89] "
     ]
    },
    {
     "name": "stdout",
     "output_type": "stream",
     "text": [
      "\t - Recall@20 epoch 6: 0.049107\n",
      "\t - MRR@20    epoch 6: 0.011257\n",
      "\n"
     ]
    },
    {
     "name": "stderr",
     "output_type": "stream",
     "text": [
      "Train:  96%|█████████▌| 949/992 [00:16<00:00, 59.11it/s, accuracy=0.0195, train_loss=7.08] \n",
      "Evaluation:  39%|███▉      | 14/36 [00:13<00:21,  1.04it/s]\n",
      "Train:   0%|          | 0/992 [00:00<?, ?it/s, accuracy=0.00781, train_loss=6.89]"
     ]
    },
    {
     "name": "stdout",
     "output_type": "stream",
     "text": [
      "\t - Recall@20 epoch 7: 0.054967\n",
      "\t - MRR@20    epoch 7: 0.012014\n",
      "\n"
     ]
    },
    {
     "name": "stderr",
     "output_type": "stream",
     "text": [
      "Train:  96%|█████████▌| 949/992 [00:14<00:00, 67.26it/s, accuracy=0.00781, train_loss=7.01]\n",
      "Evaluation:  39%|███▉      | 14/36 [00:13<00:21,  1.04it/s]\n",
      "Train:   0%|          | 0/992 [00:00<?, ?it/s, accuracy=0.0156, train_loss=6.86] "
     ]
    },
    {
     "name": "stdout",
     "output_type": "stream",
     "text": [
      "\t - Recall@20 epoch 8: 0.057199\n",
      "\t - MRR@20    epoch 8: 0.013066\n",
      "\n"
     ]
    },
    {
     "name": "stderr",
     "output_type": "stream",
     "text": [
      "Train:  96%|█████████▌| 949/992 [00:14<00:00, 65.56it/s, accuracy=0.0117, train_loss=6.99] \n",
      "Evaluation:  39%|███▉      | 14/36 [00:13<00:21,  1.04it/s]\n",
      "Train:   0%|          | 0/992 [00:00<?, ?it/s, accuracy=0.00781, train_loss=6.79]"
     ]
    },
    {
     "name": "stdout",
     "output_type": "stream",
     "text": [
      "\t - Recall@20 epoch 9: 0.059152\n",
      "\t - MRR@20    epoch 9: 0.012507\n",
      "\n"
     ]
    },
    {
     "name": "stderr",
     "output_type": "stream",
     "text": [
      "Train:  96%|█████████▌| 949/992 [00:15<00:00, 61.28it/s, accuracy=0.00781, train_loss=6.9] \n",
      "Evaluation:  39%|███▉      | 14/36 [00:13<00:21,  1.01it/s]\n",
      "Train:   0%|          | 0/992 [00:00<?, ?it/s, accuracy=0.0117, train_loss=6.64] "
     ]
    },
    {
     "name": "stdout",
     "output_type": "stream",
     "text": [
      "\t - Recall@20 epoch 10: 0.062500\n",
      "\t - MRR@20    epoch 10: 0.013062\n",
      "\n"
     ]
    },
    {
     "name": "stderr",
     "output_type": "stream",
     "text": [
      "Train:  96%|█████████▌| 949/992 [00:14<00:00, 64.93it/s, accuracy=0.0117, train_loss=6.84] \n",
      "Evaluation:  39%|███▉      | 14/36 [00:13<00:21,  1.03it/s]\n",
      "Train:   0%|          | 0/992 [00:00<?, ?it/s, accuracy=0.0156, train_loss=6.62] "
     ]
    },
    {
     "name": "stdout",
     "output_type": "stream",
     "text": [
      "\t - Recall@20 epoch 11: 0.062779\n",
      "\t - MRR@20    epoch 11: 0.013361\n",
      "\n"
     ]
    },
    {
     "name": "stderr",
     "output_type": "stream",
     "text": [
      "Train:  96%|█████████▌| 949/992 [00:14<00:00, 65.37it/s, accuracy=0.0156, train_loss=6.85] \n",
      "Evaluation:  39%|███▉      | 14/36 [00:13<00:21,  1.04it/s]\n",
      "Train:   0%|          | 0/992 [00:00<?, ?it/s, accuracy=0.0273, train_loss=6.56] "
     ]
    },
    {
     "name": "stdout",
     "output_type": "stream",
     "text": [
      "\t - Recall@20 epoch 12: 0.066406\n",
      "\t - MRR@20    epoch 12: 0.014263\n",
      "\n"
     ]
    },
    {
     "name": "stderr",
     "output_type": "stream",
     "text": [
      "Train:  96%|█████████▌| 949/992 [00:14<00:00, 65.00it/s, accuracy=0.0234, train_loss=6.8]  \n",
      "Evaluation:  39%|███▉      | 14/36 [00:13<00:20,  1.05it/s]\n",
      "Train:   0%|          | 0/992 [00:00<?, ?it/s, accuracy=0.0234, train_loss=6.55] "
     ]
    },
    {
     "name": "stdout",
     "output_type": "stream",
     "text": [
      "\t - Recall@20 epoch 13: 0.067522\n",
      "\t - MRR@20    epoch 13: 0.014430\n",
      "\n"
     ]
    },
    {
     "name": "stderr",
     "output_type": "stream",
     "text": [
      "Train:  96%|█████████▌| 949/992 [00:14<00:00, 65.76it/s, accuracy=0.0117, train_loss=6.79] \n",
      "Evaluation:  39%|███▉      | 14/36 [00:13<00:21,  1.02it/s]\n",
      "Train:   0%|          | 0/992 [00:00<?, ?it/s, accuracy=0.0195, train_loss=6.52] "
     ]
    },
    {
     "name": "stdout",
     "output_type": "stream",
     "text": [
      "\t - Recall@20 epoch 14: 0.069754\n",
      "\t - MRR@20    epoch 14: 0.015063\n",
      "\n"
     ]
    },
    {
     "name": "stderr",
     "output_type": "stream",
     "text": [
      "Train:  96%|█████████▌| 949/992 [00:15<00:00, 60.20it/s, accuracy=0.0195, train_loss=6.74] \n",
      "Evaluation:  39%|███▉      | 14/36 [00:13<00:21,  1.02it/s]\n",
      "Train:   0%|          | 0/992 [00:00<?, ?it/s, accuracy=0.0273, train_loss=6.48] "
     ]
    },
    {
     "name": "stdout",
     "output_type": "stream",
     "text": [
      "\t - Recall@20 epoch 15: 0.070871\n",
      "\t - MRR@20    epoch 15: 0.015199\n",
      "\n"
     ]
    },
    {
     "name": "stderr",
     "output_type": "stream",
     "text": [
      "Train:  96%|█████████▌| 949/992 [00:15<00:00, 61.42it/s, accuracy=0.0273, train_loss=6.69] \n",
      "Evaluation:  39%|███▉      | 14/36 [00:13<00:21,  1.04it/s]\n",
      "Train:   0%|          | 0/992 [00:00<?, ?it/s, accuracy=0.0234, train_loss=6.52] "
     ]
    },
    {
     "name": "stdout",
     "output_type": "stream",
     "text": [
      "\t - Recall@20 epoch 16: 0.068638\n",
      "\t - MRR@20    epoch 16: 0.015343\n",
      "\n"
     ]
    },
    {
     "name": "stderr",
     "output_type": "stream",
     "text": [
      "Train:  96%|█████████▌| 949/992 [00:14<00:00, 64.48it/s, accuracy=0.0195, train_loss=6.65] \n",
      "Evaluation:  39%|███▉      | 14/36 [00:13<00:20,  1.06it/s]\n",
      "Train:   0%|          | 0/992 [00:00<?, ?it/s, accuracy=0.0586, train_loss=6.43]"
     ]
    },
    {
     "name": "stdout",
     "output_type": "stream",
     "text": [
      "\t - Recall@20 epoch 17: 0.067801\n",
      "\t - MRR@20    epoch 17: 0.015038\n",
      "\n"
     ]
    },
    {
     "name": "stderr",
     "output_type": "stream",
     "text": [
      "Train:  96%|█████████▌| 949/992 [00:15<00:00, 62.74it/s, accuracy=0.0312, train_loss=6.6]  \n",
      "Evaluation:  39%|███▉      | 14/36 [00:13<00:21,  1.03it/s]\n",
      "Train:   0%|          | 0/992 [00:00<?, ?it/s, accuracy=0.0156, train_loss=6.47] "
     ]
    },
    {
     "name": "stdout",
     "output_type": "stream",
     "text": [
      "\t - Recall@20 epoch 18: 0.069196\n",
      "\t - MRR@20    epoch 18: 0.015251\n",
      "\n"
     ]
    },
    {
     "name": "stderr",
     "output_type": "stream",
     "text": [
      "Train:  96%|█████████▌| 949/992 [00:15<00:00, 63.15it/s, accuracy=0.0195, train_loss=6.63] \n",
      "Evaluation:  39%|███▉      | 14/36 [00:13<00:21,  1.02it/s]\n",
      "Train:   0%|          | 0/992 [00:00<?, ?it/s, accuracy=0.0195, train_loss=6.46] "
     ]
    },
    {
     "name": "stdout",
     "output_type": "stream",
     "text": [
      "\t - Recall@20 epoch 19: 0.070592\n",
      "\t - MRR@20    epoch 19: 0.015157\n",
      "\n"
     ]
    },
    {
     "name": "stderr",
     "output_type": "stream",
     "text": [
      "Train:  96%|█████████▌| 949/992 [00:14<00:00, 64.69it/s, accuracy=0.0156, train_loss=6.65] \n",
      "Evaluation:  39%|███▉      | 14/36 [00:13<00:20,  1.06it/s]"
     ]
    },
    {
     "name": "stdout",
     "output_type": "stream",
     "text": [
      "\t - Recall@20 epoch 20: 0.069475\n",
      "\t - MRR@20    epoch 20: 0.015081\n",
      "\n"
     ]
    },
    {
     "name": "stderr",
     "output_type": "stream",
     "text": [
      "\n"
     ]
    }
   ],
   "source": [
    "train_model(model, args)"
   ]
  },
  {
   "cell_type": "markdown",
   "metadata": {},
   "source": [
    "## Step 5. 모델 테스트\n",
    "미리 구성한 테스트셋을 바탕으로 Recall, MRR 을 확인해 봅니다."
   ]
  },
  {
   "cell_type": "code",
   "execution_count": null,
   "metadata": {},
   "outputs": [],
   "source": [
    "def test_model(model, args, test):\n",
    "    test_recall, test_mrr = get_metrics(test, model, args, 20)\n",
    "    print(f\"\\t - Recall@{args.k}: {test_recall:3f}\")\n",
    "    print(f\"\\t - MRR@{args.k}: {test_mrr:3f}\\n\")\n",
    "\n",
    "test_model(model, args, test)"
   ]
  }
 ],
 "metadata": {
  "kernelspec": {
   "display_name": "aiffel",
   "language": "python",
   "name": "aiffel"
  },
  "language_info": {
   "codemirror_mode": {
    "name": "ipython",
    "version": 3
   },
   "file_extension": ".py",
   "mimetype": "text/x-python",
   "name": "python",
   "nbconvert_exporter": "python",
   "pygments_lexer": "ipython3",
   "version": "3.7.9"
  }
 },
 "nbformat": 4,
 "nbformat_minor": 4
}
