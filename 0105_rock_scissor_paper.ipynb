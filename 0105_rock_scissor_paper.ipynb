{
 "cells": [
  {
   "cell_type": "markdown",
   "metadata": {},
   "source": [
    "# Image Classification"
   ]
  },
  {
   "cell_type": "markdown",
   "metadata": {},
   "source": [
    "## 데이터 준비"
   ]
  },
  {
   "cell_type": "markdown",
   "metadata": {},
   "source": [
    "### 이미지 파일 지원, os 라이브러리 설치¶\n",
    "Python Imaging Library(PIL)은 파이썬 인터프리터에 다양한 이미지 파일 형식을 지원하고  \n",
    "강력한 이미지 처리와 그래픽 기능을 제공하는 자유-오픈 소스 소프트웨어 라이브러리"
   ]
  },
  {
   "cell_type": "code",
   "execution_count": 1,
   "metadata": {},
   "outputs": [
    {
     "name": "stdout",
     "output_type": "stream",
     "text": [
      "PIL 라이브러리 import 완료!\n"
     ]
    }
   ],
   "source": [
    "# PIL 라이브러리가 설치되어 있지 않다면 설치\n",
    "#!pip install pillow   \n",
    "\n",
    "from PIL import Image\n",
    "import os, glob\n",
    "\n",
    "print(\"PIL 라이브러리 import 완료!\")"
   ]
  },
  {
   "cell_type": "code",
   "execution_count": 2,
   "metadata": {},
   "outputs": [
    {
     "data": {
      "text/plain": [
       "'/home/ssac6'"
      ]
     },
     "execution_count": 2,
     "metadata": {},
     "output_type": "execute_result"
    }
   ],
   "source": [
    "# 홈 디렉토리 확인\n",
    "os.getenv(\"HOME\")"
   ]
  },
  {
   "cell_type": "markdown",
   "metadata": {},
   "source": [
    "### 가위 바위 보 이미지를 28x28로 사이즈 조정\n",
    " 가위 (scissor), 바위 (rock), 보 (paper) 이미지가 들어 있는  각 디렉토리명을 feature 변수에 담아 반복문에서 처리"
   ]
  },
  {
   "cell_type": "code",
   "execution_count": 2,
   "metadata": {},
   "outputs": [
    {
     "name": "stdout",
     "output_type": "stream",
     "text": [
      "이미지 디렉토리 경로:  /home/ssac6/aiffel/rock_scissor_paper/scissor\n",
      "scissor 이미지 resize 완료!\n",
      "이미지 디렉토리 경로:  /home/ssac6/aiffel/rock_scissor_paper/rock\n",
      "rock 이미지 resize 완료!\n",
      "이미지 디렉토리 경로:  /home/ssac6/aiffel/rock_scissor_paper/paper\n",
      "paper 이미지 resize 완료!\n"
     ]
    }
   ],
   "source": [
    "import os\n",
    "\n",
    "feature = ['scissor','rock','paper']\n",
    "for a in feature:\n",
    "     # 가위 이미지가 저장된 디렉토리 아래의 모든 jpg 파일을 읽어들여서\n",
    "    image_dir_path = os.getenv(\"HOME\") + \"/aiffel/rock_scissor_paper/\" + a\n",
    "    print(\"이미지 디렉토리 경로: \", image_dir_path)\n",
    "\n",
    "    images=glob.glob(image_dir_path + \"/*.jpg\")  \n",
    "\n",
    "    # 파일마다 모두 28x28 사이즈로 바꾸어 저장합니다.\n",
    "    target_size=(28,28)\n",
    "    for img in images:\n",
    "        old_img=Image.open(img)\n",
    "        new_img=old_img.resize(target_size,Image.ANTIALIAS)\n",
    "        new_img.save(img,\"JPEG\")\n",
    "\n",
    "    print(f\"{a} 이미지 resize 완료!\")"
   ]
  },
  {
   "cell_type": "markdown",
   "metadata": {},
   "source": [
    "### 가위 바위 보 이미지 데이터를 행렬로 저장, 라벨 생성 함수"
   ]
  },
  {
   "cell_type": "code",
   "execution_count": 2,
   "metadata": {},
   "outputs": [],
   "source": [
    "import numpy as np\n",
    "def load_data(img_path, n):\n",
    "    # 가위 : 0, 바위 : 1, 보 : 2\n",
    "    number_of_data=n   # n : 가위바위보 이미지 개수 총합\n",
    "    img_size=28\n",
    "    color=3\n",
    "    #이미지 데이터와 라벨(가위 : 0, 바위 : 1, 보 : 2) 데이터를 담을 행렬(matrix) 영역을 생성합니다.\n",
    "    imgs=np.zeros(number_of_data*img_size*img_size*color,dtype=np.int32).reshape(number_of_data,img_size,img_size,color)\n",
    "    labels=np.zeros(number_of_data,dtype=np.int32)\n",
    "    idx=0\n",
    "    for file in glob.iglob(img_path+'/scissor/*.jpg'):\n",
    "        img = np.array(Image.open(file),dtype=np.int32)\n",
    "        imgs[idx,:,:,:]=img    # 데이터 영역에 이미지 행렬을 복사\n",
    "        labels[idx]=0   # 가위 : 0\n",
    "        idx=idx+1\n",
    "\n",
    "    for file in glob.iglob(img_path+'/rock/*.jpg'):\n",
    "        img = np.array(Image.open(file),dtype=np.int32)\n",
    "        imgs[idx,:,:,:]=img    # 데이터 영역에 이미지 행렬을 복사\n",
    "        labels[idx]=1   # 바위 : 1\n",
    "        idx=idx+1       \n",
    "    \n",
    "    for file in glob.iglob(img_path+'/paper/*.jpg'):\n",
    "        img = np.array(Image.open(file),dtype=np.int32)\n",
    "        imgs[idx,:,:,:]=img    # 데이터 영역에 이미지 행렬을 복사\n",
    "        labels[idx]=2   # 보 : 2\n",
    "        idx=idx+1\n",
    "    \n",
    "    \n",
    "    print(\"데이터의 이미지 개수는\",idx,\"입니다.\")\n",
    "    return imgs, labels"
   ]
  },
  {
   "cell_type": "markdown",
   "metadata": {},
   "source": [
    "### 훈련 데이터 셋과 테스트 데이터 셋 준비\n",
    "\n",
    "훈련 데이터 셋과 테스트 데이터 셋을 데이터의 최대값 255로 나누어 정규화시켜 준비한다. "
   ]
  },
  {
   "cell_type": "code",
   "execution_count": 3,
   "metadata": {},
   "outputs": [
    {
     "name": "stdout",
     "output_type": "stream",
     "text": [
      "데이터의 이미지 개수는 3000 입니다.\n",
      "x_train shape: (3000, 28, 28, 3)\n",
      "y_train shape: (3000,)\n",
      "데이터의 이미지 개수는 300 입니다.\n",
      "x_test shape: (300, 28, 28, 3)\n",
      "y_test shape: (300,)\n"
     ]
    }
   ],
   "source": [
    "image_dir_path = os.getenv(\"HOME\") + \"/aiffel/rock_scissor_paper\"\n",
    "(x_train, y_train)=load_data(image_dir_path,3000)\n",
    "x_train_norm = x_train/255.0   # 입력은 0~1 사이의 값으로 정규화\n",
    "\n",
    "print(\"x_train shape: {}\".format(x_train.shape))\n",
    "print(\"y_train shape: {}\".format(y_train.shape))\n",
    "\n",
    "image_dir_path = os.getenv(\"HOME\") + \"/aiffel/test_rock_scissor_paper\"\n",
    "(x_test, y_test)=load_data(image_dir_path,300)\n",
    "x_test_norm = x_test/255.0   # 입력은 0~1 사이의 값으로 정규화\n",
    "\n",
    "print(\"x_test shape: {}\".format(x_test.shape))\n",
    "print(\"y_test shape: {}\".format(y_test.shape))"
   ]
  },
  {
   "cell_type": "code",
   "execution_count": 4,
   "metadata": {},
   "outputs": [
    {
     "name": "stdout",
     "output_type": "stream",
     "text": [
      "최소값: 0  최대값: 255\n"
     ]
    }
   ],
   "source": [
    "import numpy as np\n",
    "print('최소값:',np.min(x_train), ' 최대값:',np.max(x_train))"
   ]
  },
  {
   "cell_type": "markdown",
   "metadata": {},
   "source": [
    "## 모델 생성"
   ]
  },
  {
   "cell_type": "code",
   "execution_count": 5,
   "metadata": {},
   "outputs": [
    {
     "name": "stdout",
     "output_type": "stream",
     "text": [
      "Model에 추가된 Layer 개수:  7\n"
     ]
    }
   ],
   "source": [
    "import tensorflow as tf\n",
    "from tensorflow import keras\n",
    "import numpy as np\n",
    "\n",
    "model=keras.models.Sequential()\n",
    "\n",
    "model.add(keras.layers.Conv2D(8, (3,3), activation='relu', input_shape=(28,28,3)))\n",
    "#Conv2D()의 8, 16은 얼마나 다양한 이미지의 특징을 살펴볼 것인가? ( 입력 이미지가 다양할수록 더 많은 특징을 고려해보자. )\n",
    "#input_shape=(28,28,3) 채널 수 흑백은 1, 칼라라면 3\n",
    "model.add(keras.layers.MaxPool2D(2,2))\n",
    "model.add(keras.layers.Conv2D(16, (3,3), activation='relu'))\n",
    "model.add(keras.layers.MaxPooling2D((2,2)))\n",
    "model.add(keras.layers.Flatten())\n",
    "model.add(keras.layers.Dense(8, activation='relu'))\n",
    "model.add(keras.layers.Dense(3, activation='softmax'))\n",
    "#Dense()의 8은 분류기 알고리즘을 얼마나 복잡하게 할 것인가?( 복잡한 문제일수록 이 수를 늘려보자. )\n",
    "#Dense()의 3은 최종분류기의 class 수, 여기서는 가위,바위,보까지 총 3개의 class를 구분하므로 3.\n",
    "print('Model에 추가된 Layer 개수: ', len(model.layers))"
   ]
  },
  {
   "cell_type": "markdown",
   "metadata": {},
   "source": [
    "## 모델 훈련 "
   ]
  },
  {
   "cell_type": "markdown",
   "metadata": {},
   "source": [
    "optimizer : adm   \n",
    "loss :sparse_categorical_crossentropy  다중분류손실함수 입력값을 정수값 그대로 사용할 때 사용   \n",
    "metrics : accuracy 정확도로 평가   "
   ]
  },
  {
   "cell_type": "code",
   "execution_count": 6,
   "metadata": {},
   "outputs": [
    {
     "name": "stdout",
     "output_type": "stream",
     "text": [
      "Epoch 1/50\n",
      "94/94 [==============================] - 5s 52ms/step - loss: 1.0860 - accuracy: 0.3900\n",
      "Epoch 2/50\n",
      "94/94 [==============================] - 0s 2ms/step - loss: 1.0011 - accuracy: 0.5077\n",
      "Epoch 3/50\n",
      "94/94 [==============================] - 0s 1ms/step - loss: 0.8730 - accuracy: 0.6033\n",
      "Epoch 4/50\n",
      "94/94 [==============================] - 0s 2ms/step - loss: 0.7690 - accuracy: 0.6643\n",
      "Epoch 5/50\n",
      "94/94 [==============================] - 0s 2ms/step - loss: 0.7092 - accuracy: 0.6913\n",
      "Epoch 6/50\n",
      "94/94 [==============================] - 0s 2ms/step - loss: 0.6398 - accuracy: 0.7383\n",
      "Epoch 7/50\n",
      "94/94 [==============================] - 0s 2ms/step - loss: 0.5709 - accuracy: 0.7797\n",
      "Epoch 8/50\n",
      "94/94 [==============================] - 0s 2ms/step - loss: 0.5130 - accuracy: 0.8100\n",
      "Epoch 9/50\n",
      "94/94 [==============================] - 0s 2ms/step - loss: 0.4756 - accuracy: 0.8307\n",
      "Epoch 10/50\n",
      "94/94 [==============================] - 0s 1ms/step - loss: 0.4395 - accuracy: 0.8347\n",
      "Epoch 11/50\n",
      "94/94 [==============================] - 0s 2ms/step - loss: 0.3988 - accuracy: 0.8533\n",
      "Epoch 12/50\n",
      "94/94 [==============================] - 0s 2ms/step - loss: 0.3641 - accuracy: 0.8733\n",
      "Epoch 13/50\n",
      "94/94 [==============================] - 0s 2ms/step - loss: 0.3380 - accuracy: 0.8840\n",
      "Epoch 14/50\n",
      "94/94 [==============================] - 0s 2ms/step - loss: 0.3352 - accuracy: 0.8733\n",
      "Epoch 15/50\n",
      "94/94 [==============================] - 0s 2ms/step - loss: 0.3123 - accuracy: 0.8897\n",
      "Epoch 16/50\n",
      "94/94 [==============================] - 0s 2ms/step - loss: 0.2826 - accuracy: 0.9077\n",
      "Epoch 17/50\n",
      "94/94 [==============================] - 0s 2ms/step - loss: 0.2579 - accuracy: 0.9173\n",
      "Epoch 18/50\n",
      "94/94 [==============================] - 0s 1ms/step - loss: 0.2573 - accuracy: 0.9123\n",
      "Epoch 19/50\n",
      "94/94 [==============================] - 0s 2ms/step - loss: 0.2547 - accuracy: 0.9087\n",
      "Epoch 20/50\n",
      "94/94 [==============================] - 0s 2ms/step - loss: 0.2159 - accuracy: 0.9300\n",
      "Epoch 21/50\n",
      "94/94 [==============================] - 0s 2ms/step - loss: 0.2100 - accuracy: 0.9360\n",
      "Epoch 22/50\n",
      "94/94 [==============================] - 0s 2ms/step - loss: 0.2065 - accuracy: 0.9297\n",
      "Epoch 23/50\n",
      "94/94 [==============================] - 0s 2ms/step - loss: 0.1920 - accuracy: 0.9363\n",
      "Epoch 24/50\n",
      "94/94 [==============================] - 0s 2ms/step - loss: 0.1817 - accuracy: 0.9413\n",
      "Epoch 25/50\n",
      "94/94 [==============================] - 0s 2ms/step - loss: 0.1743 - accuracy: 0.9410\n",
      "Epoch 26/50\n",
      "94/94 [==============================] - 0s 2ms/step - loss: 0.1589 - accuracy: 0.9547\n",
      "Epoch 27/50\n",
      "94/94 [==============================] - 0s 2ms/step - loss: 0.1464 - accuracy: 0.9580\n",
      "Epoch 28/50\n",
      "94/94 [==============================] - 0s 2ms/step - loss: 0.1443 - accuracy: 0.9540\n",
      "Epoch 29/50\n",
      "94/94 [==============================] - 0s 2ms/step - loss: 0.1456 - accuracy: 0.9593\n",
      "Epoch 30/50\n",
      "94/94 [==============================] - 0s 2ms/step - loss: 0.1290 - accuracy: 0.9637\n",
      "Epoch 31/50\n",
      "94/94 [==============================] - 0s 2ms/step - loss: 0.1202 - accuracy: 0.9677\n",
      "Epoch 32/50\n",
      "94/94 [==============================] - 0s 2ms/step - loss: 0.1182 - accuracy: 0.9690\n",
      "Epoch 33/50\n",
      "94/94 [==============================] - 0s 2ms/step - loss: 0.1188 - accuracy: 0.9690\n",
      "Epoch 34/50\n",
      "94/94 [==============================] - 0s 2ms/step - loss: 0.1046 - accuracy: 0.9740\n",
      "Epoch 35/50\n",
      "94/94 [==============================] - 0s 2ms/step - loss: 0.0981 - accuracy: 0.9747\n",
      "Epoch 36/50\n",
      "94/94 [==============================] - 0s 2ms/step - loss: 0.0947 - accuracy: 0.9773\n",
      "Epoch 37/50\n",
      "94/94 [==============================] - 0s 2ms/step - loss: 0.0895 - accuracy: 0.9780\n",
      "Epoch 38/50\n",
      "94/94 [==============================] - 0s 2ms/step - loss: 0.0818 - accuracy: 0.9813\n",
      "Epoch 39/50\n",
      "94/94 [==============================] - 0s 2ms/step - loss: 0.0840 - accuracy: 0.9807\n",
      "Epoch 40/50\n",
      "94/94 [==============================] - 0s 2ms/step - loss: 0.0729 - accuracy: 0.9837\n",
      "Epoch 41/50\n",
      "94/94 [==============================] - 0s 2ms/step - loss: 0.0752 - accuracy: 0.9850\n",
      "Epoch 42/50\n",
      "94/94 [==============================] - 0s 2ms/step - loss: 0.0690 - accuracy: 0.9837\n",
      "Epoch 43/50\n",
      "94/94 [==============================] - 0s 2ms/step - loss: 0.0593 - accuracy: 0.9897\n",
      "Epoch 44/50\n",
      "94/94 [==============================] - 0s 2ms/step - loss: 0.0642 - accuracy: 0.9833\n",
      "Epoch 45/50\n",
      "94/94 [==============================] - 0s 2ms/step - loss: 0.0576 - accuracy: 0.9887\n",
      "Epoch 46/50\n",
      "94/94 [==============================] - 0s 2ms/step - loss: 0.0557 - accuracy: 0.9907\n",
      "Epoch 47/50\n",
      "94/94 [==============================] - 0s 2ms/step - loss: 0.0505 - accuracy: 0.9897\n",
      "Epoch 48/50\n",
      "94/94 [==============================] - 0s 2ms/step - loss: 0.0709 - accuracy: 0.9783\n",
      "Epoch 49/50\n",
      "94/94 [==============================] - 0s 2ms/step - loss: 0.0508 - accuracy: 0.9903\n",
      "Epoch 50/50\n",
      "94/94 [==============================] - 0s 2ms/step - loss: 0.0400 - accuracy: 0.9930\n"
     ]
    },
    {
     "data": {
      "text/plain": [
       "<tensorflow.python.keras.callbacks.History at 0x7f2bb00a2a10>"
      ]
     },
     "execution_count": 6,
     "metadata": {},
     "output_type": "execute_result"
    }
   ],
   "source": [
    "model.compile(optimizer='adam',\n",
    "             loss='sparse_categorical_crossentropy',\n",
    "             metrics=['accuracy'])\n",
    "\n",
    "model.fit(x_train_norm, y_train, epochs=50) #50회 반복 "
   ]
  },
  {
   "cell_type": "markdown",
   "metadata": {},
   "source": [
    "## 생성된 모델에 대한 확인"
   ]
  },
  {
   "cell_type": "code",
   "execution_count": 7,
   "metadata": {},
   "outputs": [
    {
     "name": "stdout",
     "output_type": "stream",
     "text": [
      "Model: \"sequential\"\n",
      "_________________________________________________________________\n",
      "Layer (type)                 Output Shape              Param #   \n",
      "=================================================================\n",
      "conv2d (Conv2D)              (None, 26, 26, 8)         224       \n",
      "_________________________________________________________________\n",
      "max_pooling2d (MaxPooling2D) (None, 13, 13, 8)         0         \n",
      "_________________________________________________________________\n",
      "conv2d_1 (Conv2D)            (None, 11, 11, 16)        1168      \n",
      "_________________________________________________________________\n",
      "max_pooling2d_1 (MaxPooling2 (None, 5, 5, 16)          0         \n",
      "_________________________________________________________________\n",
      "flatten (Flatten)            (None, 400)               0         \n",
      "_________________________________________________________________\n",
      "dense (Dense)                (None, 8)                 3208      \n",
      "_________________________________________________________________\n",
      "dense_1 (Dense)              (None, 3)                 27        \n",
      "=================================================================\n",
      "Total params: 4,627\n",
      "Trainable params: 4,627\n",
      "Non-trainable params: 0\n",
      "_________________________________________________________________\n"
     ]
    }
   ],
   "source": [
    "model.summary()"
   ]
  },
  {
   "cell_type": "markdown",
   "metadata": {},
   "source": [
    "## 모델 평가\n",
    "### 손실은 1.59, 정확도가 65% "
   ]
  },
  {
   "cell_type": "code",
   "execution_count": 8,
   "metadata": {},
   "outputs": [
    {
     "name": "stdout",
     "output_type": "stream",
     "text": [
      "10/10 - 2s - loss: 1.5979 - accuracy: 0.6567\n",
      "test_loss: 1.5979132652282715 \n",
      "test_accuracy: 0.6566666960716248\n"
     ]
    }
   ],
   "source": [
    "# 모델 시험\n",
    "test_loss, test_accuracy = model.evaluate(x_test_norm, y_test, verbose=2)\n",
    "print(\"test_loss: {} \".format(test_loss))\n",
    "print(\"test_accuracy: {}\".format(test_accuracy))"
   ]
  },
  {
   "cell_type": "markdown",
   "metadata": {},
   "source": [
    "### 모델이 잘못 예측한 결과를 라벨과 비교해서 확인"
   ]
  },
  {
   "cell_type": "code",
   "execution_count": 9,
   "metadata": {},
   "outputs": [
    {
     "name": "stdout",
     "output_type": "stream",
     "text": [
      "예측확률분포: [0.11540762 0.8135106  0.07108176]\n",
      "라벨: 2, 예측결과: 1\n"
     ]
    },
    {
     "data": {
      "image/png": "[encoded data removed]",
      "text/plain": [
       "<Figure size 432x288 with 1 Axes>"
      ]
     },
     "metadata": {
      "needs_background": "light"
     },
     "output_type": "display_data"
    },
    {
     "name": "stdout",
     "output_type": "stream",
     "text": [
      "예측확률분포: [5.0030998e-04 9.9919254e-01 3.0716654e-04]\n",
      "라벨: 0, 예측결과: 1\n"
     ]
    },
    {
     "data": {
      "image/png": "[encoded data removed]",
      "text/plain": [
       "<Figure size 432x288 with 1 Axes>"
      ]
     },
     "metadata": {
      "needs_background": "light"
     },
     "output_type": "display_data"
    },
    {
     "name": "stdout",
     "output_type": "stream",
     "text": [
      "예측확률분포: [8.89573395e-01 4.78670467e-04 1.09947875e-01]\n",
      "라벨: 2, 예측결과: 0\n"
     ]
    },
    {
     "data": {
      "image/png": "[encoded data removed]",
      "text/plain": [
       "<Figure size 432x288 with 1 Axes>"
      ]
     },
     "metadata": {
      "needs_background": "light"
     },
     "output_type": "display_data"
    },
    {
     "name": "stdout",
     "output_type": "stream",
     "text": [
      "예측확률분포: [0.6158051  0.26941362 0.1147813 ]\n",
      "라벨: 1, 예측결과: 0\n"
     ]
    },
    {
     "data": {
      "image/png": "[encoded data removed]",
      "text/plain": [
       "<Figure size 432x288 with 1 Axes>"
      ]
     },
     "metadata": {
      "needs_background": "light"
     },
     "output_type": "display_data"
    },
    {
     "name": "stdout",
     "output_type": "stream",
     "text": [
      "예측확률분포: [9.4594399e-04 6.5882755e-06 9.9904746e-01]\n",
      "라벨: 1, 예측결과: 2\n"
     ]
    },
    {
     "data": {
      "image/png": "[encoded data removed]",
      "text/plain": [
       "<Figure size 432x288 with 1 Axes>"
      ]
     },
     "metadata": {
      "needs_background": "light"
     },
     "output_type": "display_data"
    }
   ],
   "source": [
    "import numpy as np\n",
    "import matplotlib.pyplot as plt\n",
    "import random\n",
    "\n",
    "predicted_result = model.predict(x_test_norm)  # model이 추론한 확률값. \n",
    "predicted_labels = np.argmax(predicted_result, axis=1)\n",
    "\n",
    "\n",
    "wrong_predict_list=[]\n",
    "for i, _ in enumerate(predicted_labels):\n",
    "    # i번째 test_labels과 y_test이 다른 경우만 모아 봅시다. \n",
    "    if predicted_labels[i] != y_test[i]:\n",
    "        wrong_predict_list.append(i)\n",
    "\n",
    "# wrong_predict_list 에서 랜덤하게 5개만 뽑아봅시다.\n",
    "samples = random.choices(population=wrong_predict_list, k=5)\n",
    "\n",
    "for n in samples:\n",
    "    print(\"예측확률분포: \" + str(predicted_result[n]))\n",
    "    print(\"라벨: \" + str(y_test[n]) + \", 예측결과: \" + str(predicted_labels[n]))\n",
    "    plt.imshow(x_test[n], cmap=plt.cm.binary)\n",
    "    plt.show()"
   ]
  },
  {
   "cell_type": "markdown",
   "metadata": {},
   "source": [
    "## 느낀점\n",
    "\n",
    "\n",
    "#### 좋은 훈련 데이터를 많이 확보하는 것이 단연 모델의 정확도를 높이는 방법인것 같다.  \n",
    "\n",
    "#### 하지만 데이터 양이 적을 때 최적의 하이퍼파라미터를 찾는데 도움이 될 수있는 교차검증(Cross Validation)을 배웠었다.\n",
    "\n",
    "#### 이번 과제에서도 교차검증을 적용해 하이퍼파라미터를 찾을 수 있지 않을까 생각했었다. 하지만 하지 못했다. \n",
    "\n",
    "#### 사이킷런에서는 그리드서치나 랜덤서치를 이용해 하이퍼파라미터를 찾는데, 케라스로 만들어진 모델과 연결하는 방법도 있는거 같다. \n",
    "\n",
    "#### 아직 딥러닝에 공부가 부족해 무엇을 어떻게 해야 좋을지 모른체 프로젝트를 마무리한거 같아 아쉽다. \n",
    "\n",
    "\n",
    "\n"
   ]
  }
 ],
 "metadata": {
  "kernelspec": {
   "display_name": "Python 3",
   "language": "python",
   "name": "python3"
  },
  "language_info": {
   "codemirror_mode": {
    "name": "ipython",
    "version": 3
   },
   "file_extension": ".py",
   "mimetype": "text/x-python",
   "name": "python",
   "nbconvert_exporter": "python",
   "pygments_lexer": "ipython3",
   "version": "3.7.9"
  }
 },
 "nbformat": 4,
 "nbformat_minor": 4
}
