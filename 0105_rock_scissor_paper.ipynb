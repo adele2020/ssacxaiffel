{
 "cells": [
  {
   "cell_type": "markdown",
   "metadata": {},
   "source": [
    "#### Python Imaging Library(PIL)은 파이썬 인터프리터에 다양한 이미지 파일 형식을 지원하고  \n",
    "#### 강력한 이미지 처리와 그래픽 기능을 제공하는 자유-오픈 소스 소프트웨어 라이브러리"
   ]
  },
  {
   "cell_type": "code",
   "execution_count": 1,
   "metadata": {},
   "outputs": [
    {
     "name": "stdout",
     "output_type": "stream",
     "text": [
      "PIL 라이브러리 import 완료!\n"
     ]
    }
   ],
   "source": [
    "# PIL 라이브러리가 설치되어 있지 않다면 설치\n",
    "#!pip install pillow   \n",
    "\n",
    "from PIL import Image\n",
    "import os, glob\n",
    "\n",
    "print(\"PIL 라이브러리 import 완료!\")"
   ]
  },
  {
   "cell_type": "markdown",
   "metadata": {},
   "source": [
    "#### 내 os의 home 디렉토리 확인"
   ]
  },
  {
   "cell_type": "code",
   "execution_count": 2,
   "metadata": {},
   "outputs": [
    {
     "data": {
      "text/plain": [
       "'/home/ssac6'"
      ]
     },
     "execution_count": 2,
     "metadata": {},
     "output_type": "execute_result"
    }
   ],
   "source": [
    "os.getenv(\"HOME\")"
   ]
  },
  {
   "cell_type": "markdown",
   "metadata": {},
   "source": [
    "#### 가위 바위 보 이미지를 28x28로 사이즈 조정\n",
    "#### - 가위 (scissor), 바위 (rock), 보 (paper) 이미지가 들어 있는  각 디렉토리명을 feature 변수에 담아 반복문에서 처리"
   ]
  },
  {
   "cell_type": "code",
   "execution_count": 3,
   "metadata": {},
   "outputs": [
    {
     "name": "stdout",
     "output_type": "stream",
     "text": [
      "이미지 디렉토리 경로:  /home/ssac6/aiffel/rock_scissor_paper/scissor\n",
      "scissor 이미지 resize 완료!\n",
      "이미지 디렉토리 경로:  /home/ssac6/aiffel/rock_scissor_paper/rock\n",
      "rock 이미지 resize 완료!\n",
      "이미지 디렉토리 경로:  /home/ssac6/aiffel/rock_scissor_paper/paper\n",
      "paper 이미지 resize 완료!\n"
     ]
    }
   ],
   "source": [
    "import os\n",
    "\n",
    "feature = ['scissor','rock','paper']\n",
    "for a in feature:\n",
    "     # 가위 이미지가 저장된 디렉토리 아래의 모든 jpg 파일을 읽어들여서\n",
    "    image_dir_path = os.getenv(\"HOME\") + \"/aiffel/rock_scissor_paper/\" + a\n",
    "    print(\"이미지 디렉토리 경로: \", image_dir_path)\n",
    "\n",
    "    images=glob.glob(image_dir_path + \"/*.jpg\")  \n",
    "\n",
    "    # 파일마다 모두 28x28 사이즈로 바꾸어 저장합니다.\n",
    "    target_size=(28,28)\n",
    "    for img in images:\n",
    "        old_img=Image.open(img)\n",
    "        new_img=old_img.resize(target_size,Image.ANTIALIAS)\n",
    "        new_img.save(img,\"JPEG\")\n",
    "\n",
    "    print(f\"{a} 이미지 resize 완료!\")"
   ]
  },
  {
   "cell_type": "markdown",
   "metadata": {},
   "source": [
    "#### 학습데이터 준비"
   ]
  },
  {
   "cell_type": "code",
   "execution_count": 2,
   "metadata": {},
   "outputs": [
    {
     "name": "stdout",
     "output_type": "stream",
     "text": [
      "학습데이터(x_train)의 이미지 개수는 3000 입니다.\n",
      "x_train shape: (3000, 28, 28, 3)\n",
      "y_train shape: (3000,)\n"
     ]
    }
   ],
   "source": [
    "import numpy as np\n",
    "def load_data(img_path):\n",
    "    # 가위 : 0, 바위 : 1, 보 : 2\n",
    "    number_of_data=3000   # 가위바위보 이미지 개수 총합에 주의하세요.\n",
    "    img_size=28\n",
    "    color=3\n",
    "    #이미지 데이터와 라벨(가위 : 0, 바위 : 1, 보 : 2) 데이터를 담을 행렬(matrix) 영역을 생성합니다.\n",
    "    imgs=np.zeros(number_of_data*img_size*img_size*color,dtype=np.int32).reshape(number_of_data,img_size,img_size,color)\n",
    "    labels=np.zeros(number_of_data,dtype=np.int32)\n",
    "\n",
    "    idx=0\n",
    "    for file in glob.iglob(img_path+'/scissor/*.jpg'):\n",
    "        img = np.array(Image.open(file),dtype=np.int32)\n",
    "        imgs[idx,:,:,:]=img    # 데이터 영역에 이미지 행렬을 복사\n",
    "        labels[idx]=0   # 가위 : 0\n",
    "        idx=idx+1\n",
    "\n",
    "    for file in glob.iglob(img_path+'/rock/*.jpg'):\n",
    "        img = np.array(Image.open(file),dtype=np.int32)\n",
    "        imgs[idx,:,:,:]=img    # 데이터 영역에 이미지 행렬을 복사\n",
    "        labels[idx]=1   # 바위 : 1\n",
    "        idx=idx+1       \n",
    "    \n",
    "    for file in glob.iglob(img_path+'/paper/*.jpg'):\n",
    "        img = np.array(Image.open(file),dtype=np.int32)\n",
    "        imgs[idx,:,:,:]=img    # 데이터 영역에 이미지 행렬을 복사\n",
    "        labels[idx]=2   # 보 : 2\n",
    "        idx=idx+1\n",
    "        \n",
    "    print(\"학습데이터(x_train)의 이미지 개수는\",idx,\"입니다.\")\n",
    "    return imgs, labels\n",
    "\n",
    "image_dir_path = os.getenv(\"HOME\") + \"/aiffel/rock_scissor_paper\"\n",
    "(x_train, y_train)=load_data(image_dir_path)\n",
    "x_train_norm = x_train/255.0   # 입력은 0~1 사이의 값으로 정규화\n",
    "\n",
    "print(\"x_train shape: {}\".format(x_train.shape))\n",
    "print(\"y_train shape: {}\".format(y_train.shape))"
   ]
  },
  {
   "cell_type": "code",
   "execution_count": null,
   "metadata": {},
   "outputs": [],
   "source": [
    "\"\"\"\n",
    "from sklearn.model_selection import train_test_split\n",
    "\n",
    "x_train, x_val, y_train, y_val = train_test_split(x_train_norm, y_train,\n",
    "                                                  test_size = 0.33,\n",
    "                                                  random_state = 777)\n",
    "\"\"\"                                                  "
   ]
  },
  {
   "cell_type": "code",
   "execution_count": 19,
   "metadata": {},
   "outputs": [
    {
     "ename": "IndexError",
     "evalue": "index 600 is out of bounds for axis 0 with size 404",
     "output_type": "error",
     "traceback": [
      "\u001b[0;31m---------------------------------------------------------------------------\u001b[0m",
      "\u001b[0;31mIndexError\u001b[0m                                Traceback (most recent call last)",
      "\u001b[0;32m<ipython-input-19-a37218225f64>\u001b[0m in \u001b[0;36m<module>\u001b[0;34m\u001b[0m\n\u001b[1;32m     40\u001b[0m     \u001b[0;31m# 해당 인덱스는 무작위로 생성됩니다.\u001b[0m\u001b[0;34m\u001b[0m\u001b[0;34m\u001b[0m\u001b[0;34m\u001b[0m\u001b[0m\n\u001b[1;32m     41\u001b[0m     \u001b[0;31m# 무작위로 생성해주는 것은 과대적합을 피할 수 있는 좋은 방법입니다.\u001b[0m\u001b[0;34m\u001b[0m\u001b[0;34m\u001b[0m\u001b[0;34m\u001b[0m\u001b[0m\n\u001b[0;32m---> 42\u001b[0;31m     \u001b[0mx_train_fold\u001b[0m\u001b[0;34m,\u001b[0m \u001b[0mx_val_fold\u001b[0m \u001b[0;34m=\u001b[0m \u001b[0mx_train\u001b[0m\u001b[0;34m[\u001b[0m\u001b[0mtrain_index\u001b[0m\u001b[0;34m]\u001b[0m\u001b[0;34m,\u001b[0m \u001b[0mx_train\u001b[0m\u001b[0;34m[\u001b[0m\u001b[0mval_index\u001b[0m\u001b[0;34m]\u001b[0m\u001b[0;34m\u001b[0m\u001b[0;34m\u001b[0m\u001b[0m\n\u001b[0m\u001b[1;32m     43\u001b[0m     \u001b[0my_train_fold\u001b[0m\u001b[0;34m,\u001b[0m \u001b[0my_val_fold\u001b[0m \u001b[0;34m=\u001b[0m \u001b[0my_train\u001b[0m\u001b[0;34m[\u001b[0m\u001b[0mtrain_index\u001b[0m\u001b[0;34m]\u001b[0m\u001b[0;34m,\u001b[0m \u001b[0my_train\u001b[0m\u001b[0;34m[\u001b[0m\u001b[0mval_index\u001b[0m\u001b[0;34m]\u001b[0m\u001b[0;34m\u001b[0m\u001b[0;34m\u001b[0m\u001b[0m\n\u001b[1;32m     44\u001b[0m \u001b[0;34m\u001b[0m\u001b[0m\n",
      "\u001b[0;31mIndexError\u001b[0m: index 600 is out of bounds for axis 0 with size 404"
     ]
    }
   ],
   "source": [
    "\n",
    "from sklearn.model_selection import KFold\n",
    "# K-Fold를 진행해봅니다.\n",
    "k = 5\n",
    "\n",
    "# 주어진 데이터셋을 k만큼 등분합니다.\n",
    "# 여기서는 3이므로 훈련 데이터셋(404개)를 3등분하여\n",
    "# 1개는 검증셋으로, 나머지 2개는 훈련셋으로 활용합니다.\n",
    "kfold = KFold(n_splits=k, random_state = 777)\n",
    "\n",
    "# 재사용을 위해 모델을 반환하는 함수를 정의합니다.\n",
    "def get_model():\n",
    "    \"\"\"\n",
    "    model = Sequential()\n",
    "    model.add(Dense(64, activation = 'relu', input_shape = (13, )))\n",
    "    model.add(Dense(32, activation = 'relu')) \n",
    "    model.add(Dense(1))   \n",
    "\n",
    "    model.compile(optimizer = 'adam', loss = 'mse', metrics = ['mae'])\n",
    "    \"\"\"\n",
    "    \n",
    "    model=keras.models.Sequential()\n",
    "\n",
    "    model.add(keras.layers.Conv2D(4, (3,3), activation='relu', input_shape=(28,28,3)))\n",
    "    #Conv2D()의 16, 32는 얼마나 다양한 이미지의 특징을 살펴볼 것인가? ( 입력 이미지가 다양할수록 더 많은 특징을 고려해보자. )\n",
    "    #input_shape=(28,28,1) 입력이미지의 형태 1은 뭘까? 1은 채널 수 흑백이기 때문에 1 칼라라면 3\n",
    "    model.add(keras.layers.MaxPool2D(2,2))\n",
    "    model.add(keras.layers.Conv2D(8, (3,3), activation='relu'))\n",
    "    model.add(keras.layers.MaxPooling2D((2,2)))\n",
    "    model.add(keras.layers.Flatten())\n",
    "    model.add(keras.layers.Dense(8, activation='relu'))\n",
    "    model.add(keras.layers.Dense(3, activation='softmax'))\n",
    "    model.compile(optimizer='adam',loss='sparse_categorical_crossentropy', metrics=['accuracy'])\n",
    "\n",
    "    return model\n",
    "\n",
    "accuracy_list = [] # 테스트셋을 평가한 후 결과 mae를 담을 리스트를 선언합니다.\n",
    "# k번 진행합니다.\n",
    "for train_index, val_index in kfold.split(x_train_norm):\n",
    "    \n",
    "    # 해당 인덱스는 무작위로 생성됩니다.\n",
    "    # 무작위로 생성해주는 것은 과대적합을 피할 수 있는 좋은 방법입니다.\n",
    "    x_train_fold, x_val_fold = x_train[train_index], x_train[val_index]\n",
    "    y_train_fold, y_val_fold = y_train[train_index], y_train[val_index]\n",
    "\n",
    "    # 모델을 불러옵니다.\n",
    "    model = get_model()\n",
    "\n",
    "    model.fit(x_train_fold, y_train_fold, epochs = 30, validation_data = (x_val_fold, y_val_fold))\n",
    "\n",
    "    _, test_accuracy = model.evaluate(x_test, y_test, verbose=2)\n",
    "    accuracy_list.append(test_accuracy)\n",
    "    \n",
    "\n",
    "    "
   ]
  },
  {
   "cell_type": "code",
   "execution_count": null,
   "metadata": {},
   "outputs": [],
   "source": [
    "print(accuracy_list)\n",
    "print(np.mean(accuracy_list))"
   ]
  },
  {
   "cell_type": "code",
   "execution_count": 3,
   "metadata": {},
   "outputs": [
    {
     "name": "stdout",
     "output_type": "stream",
     "text": [
      "Model에 추가된 Layer 개수:  7\n"
     ]
    }
   ],
   "source": [
    "import tensorflow as tf\n",
    "from tensorflow import keras\n",
    "import numpy as np\n",
    "\n",
    "model=keras.models.Sequential()\n",
    "\n",
    "model.add(keras.layers.Conv2D(4, (3,3), activation='relu', input_shape=(28,28,3)))\n",
    "#Conv2D()의 16, 32는 얼마나 다양한 이미지의 특징을 살펴볼 것인가? ( 입력 이미지가 다양할수록 더 많은 특징을 고려해보자. )\n",
    "#input_shape=(28,28,1) 입력이미지의 형태 1은 뭘까? 1은 채널 수 흑백이기 때문에 1 칼라라면 3\n",
    "model.add(keras.layers.MaxPool2D(2,2))\n",
    "model.add(keras.layers.Conv2D(8, (3,3), activation='relu'))\n",
    "model.add(keras.layers.MaxPooling2D((2,2)))\n",
    "model.add(keras.layers.Flatten())\n",
    "model.add(keras.layers.Dense(8, activation='relu'))\n",
    "model.add(keras.layers.Dense(3, activation='softmax'))\n",
    "#Dense()의 32은 분류기 알고리즘을 얼마나 복잡하게 할 것인가?( 복잡한 문제일수록 이 수를 늘려보자. )\n",
    "#Dense()의 10은 최종분류기의 class 수, 여기서는 0~9까지 총 10개의 class를 구분하므로 10.\n",
    "print('Model에 추가된 Layer 개수: ', len(model.layers))"
   ]
  },
  {
   "cell_type": "code",
   "execution_count": 6,
   "metadata": {},
   "outputs": [
    {
     "name": "stdout",
     "output_type": "stream",
     "text": [
      "Epoch 1/50\n",
      "94/94 [==============================] - 5s 58ms/step - loss: 1.0824 - accuracy: 0.3963\n",
      "Epoch 2/50\n",
      "94/94 [==============================] - 0s 2ms/step - loss: 1.0338 - accuracy: 0.4460\n",
      "Epoch 3/50\n",
      "94/94 [==============================] - 0s 2ms/step - loss: 0.9593 - accuracy: 0.5257\n",
      "Epoch 4/50\n",
      "94/94 [==============================] - 0s 2ms/step - loss: 0.8728 - accuracy: 0.5993\n",
      "Epoch 5/50\n",
      "94/94 [==============================] - 0s 1ms/step - loss: 0.7922 - accuracy: 0.6477\n",
      "Epoch 6/50\n",
      "94/94 [==============================] - 0s 2ms/step - loss: 0.7274 - accuracy: 0.6950\n",
      "Epoch 7/50\n",
      "94/94 [==============================] - 0s 2ms/step - loss: 0.6698 - accuracy: 0.7207\n",
      "Epoch 8/50\n",
      "94/94 [==============================] - 0s 2ms/step - loss: 0.6146 - accuracy: 0.7493\n",
      "Epoch 9/50\n",
      "94/94 [==============================] - 0s 2ms/step - loss: 0.5791 - accuracy: 0.7700\n",
      "Epoch 10/50\n",
      "94/94 [==============================] - 0s 2ms/step - loss: 0.5415 - accuracy: 0.7867\n",
      "Epoch 11/50\n",
      "94/94 [==============================] - 0s 2ms/step - loss: 0.5096 - accuracy: 0.7960\n",
      "Epoch 12/50\n",
      "94/94 [==============================] - 0s 2ms/step - loss: 0.4856 - accuracy: 0.8107\n",
      "Epoch 13/50\n",
      "94/94 [==============================] - 0s 2ms/step - loss: 0.4613 - accuracy: 0.8187\n",
      "Epoch 14/50\n",
      "94/94 [==============================] - 0s 2ms/step - loss: 0.4496 - accuracy: 0.8190\n",
      "Epoch 15/50\n",
      "94/94 [==============================] - 0s 2ms/step - loss: 0.4251 - accuracy: 0.8363\n",
      "Epoch 16/50\n",
      "94/94 [==============================] - 0s 2ms/step - loss: 0.4039 - accuracy: 0.8473\n",
      "Epoch 17/50\n",
      "94/94 [==============================] - 0s 2ms/step - loss: 0.3820 - accuracy: 0.8553\n",
      "Epoch 18/50\n",
      "94/94 [==============================] - 0s 1ms/step - loss: 0.3741 - accuracy: 0.8563\n",
      "Epoch 19/50\n",
      "94/94 [==============================] - 0s 2ms/step - loss: 0.3612 - accuracy: 0.8607\n",
      "Epoch 20/50\n",
      "94/94 [==============================] - 0s 2ms/step - loss: 0.3440 - accuracy: 0.8680\n",
      "Epoch 21/50\n",
      "94/94 [==============================] - 0s 2ms/step - loss: 0.3383 - accuracy: 0.8727\n",
      "Epoch 22/50\n",
      "94/94 [==============================] - 0s 2ms/step - loss: 0.3212 - accuracy: 0.8807\n",
      "Epoch 23/50\n",
      "94/94 [==============================] - 0s 2ms/step - loss: 0.3208 - accuracy: 0.8797\n",
      "Epoch 24/50\n",
      "94/94 [==============================] - 0s 2ms/step - loss: 0.3042 - accuracy: 0.8820\n",
      "Epoch 25/50\n",
      "94/94 [==============================] - 0s 2ms/step - loss: 0.3044 - accuracy: 0.8893\n",
      "Epoch 26/50\n",
      "94/94 [==============================] - 0s 2ms/step - loss: 0.2863 - accuracy: 0.8923\n",
      "Epoch 27/50\n",
      "94/94 [==============================] - 0s 1ms/step - loss: 0.2795 - accuracy: 0.8903\n",
      "Epoch 28/50\n",
      "94/94 [==============================] - 0s 2ms/step - loss: 0.2713 - accuracy: 0.9010\n",
      "Epoch 29/50\n",
      "94/94 [==============================] - 0s 2ms/step - loss: 0.2605 - accuracy: 0.9077\n",
      "Epoch 30/50\n",
      "94/94 [==============================] - 0s 2ms/step - loss: 0.2502 - accuracy: 0.9087\n",
      "Epoch 31/50\n",
      "94/94 [==============================] - 0s 2ms/step - loss: 0.2429 - accuracy: 0.9137\n",
      "Epoch 32/50\n",
      "94/94 [==============================] - 0s 2ms/step - loss: 0.2499 - accuracy: 0.9090\n",
      "Epoch 33/50\n",
      "94/94 [==============================] - 0s 2ms/step - loss: 0.2308 - accuracy: 0.9197\n",
      "Epoch 34/50\n",
      "94/94 [==============================] - 0s 2ms/step - loss: 0.2183 - accuracy: 0.9280\n",
      "Epoch 35/50\n",
      "94/94 [==============================] - 0s 2ms/step - loss: 0.2185 - accuracy: 0.9327\n",
      "Epoch 36/50\n",
      "94/94 [==============================] - 0s 2ms/step - loss: 0.2118 - accuracy: 0.9253\n",
      "Epoch 37/50\n",
      "94/94 [==============================] - 0s 2ms/step - loss: 0.2111 - accuracy: 0.9280\n",
      "Epoch 38/50\n",
      "94/94 [==============================] - 0s 2ms/step - loss: 0.1969 - accuracy: 0.9303\n",
      "Epoch 39/50\n",
      "94/94 [==============================] - 0s 2ms/step - loss: 0.1953 - accuracy: 0.9363\n",
      "Epoch 40/50\n",
      "94/94 [==============================] - 0s 2ms/step - loss: 0.1872 - accuracy: 0.9383\n",
      "Epoch 41/50\n",
      "94/94 [==============================] - 0s 2ms/step - loss: 0.1852 - accuracy: 0.9353\n",
      "Epoch 42/50\n",
      "94/94 [==============================] - 0s 2ms/step - loss: 0.1966 - accuracy: 0.9297\n",
      "Epoch 43/50\n",
      "94/94 [==============================] - 0s 2ms/step - loss: 0.1728 - accuracy: 0.9443\n",
      "Epoch 44/50\n",
      "94/94 [==============================] - 0s 2ms/step - loss: 0.1693 - accuracy: 0.9480\n",
      "Epoch 45/50\n",
      "94/94 [==============================] - 0s 2ms/step - loss: 0.1650 - accuracy: 0.9450\n",
      "Epoch 46/50\n",
      "94/94 [==============================] - 0s 2ms/step - loss: 0.1673 - accuracy: 0.9497\n",
      "Epoch 47/50\n",
      "94/94 [==============================] - 0s 2ms/step - loss: 0.1590 - accuracy: 0.9490\n",
      "Epoch 48/50\n",
      "94/94 [==============================] - 0s 2ms/step - loss: 0.1619 - accuracy: 0.9483\n",
      "Epoch 49/50\n",
      "94/94 [==============================] - 0s 2ms/step - loss: 0.1573 - accuracy: 0.9513\n",
      "Epoch 50/50\n",
      "94/94 [==============================] - 0s 2ms/step - loss: 0.1550 - accuracy: 0.9463\n"
     ]
    },
    {
     "data": {
      "text/plain": [
       "<tensorflow.python.keras.callbacks.History at 0x7f6e40cd5490>"
      ]
     },
     "execution_count": 6,
     "metadata": {},
     "output_type": "execute_result"
    }
   ],
   "source": [
    "model.compile(optimizer='adam',\n",
    "             loss='sparse_categorical_crossentropy',\n",
    "             metrics=['accuracy'])\n",
    "\n",
    "model.fit(x_train_norm, y_train, epochs=50)"
   ]
  },
  {
   "cell_type": "code",
   "execution_count": 7,
   "metadata": {},
   "outputs": [
    {
     "name": "stdout",
     "output_type": "stream",
     "text": [
      "Model: \"sequential\"\n",
      "_________________________________________________________________\n",
      "Layer (type)                 Output Shape              Param #   \n",
      "=================================================================\n",
      "conv2d (Conv2D)              (None, 26, 26, 4)         112       \n",
      "_________________________________________________________________\n",
      "max_pooling2d (MaxPooling2D) (None, 13, 13, 4)         0         \n",
      "_________________________________________________________________\n",
      "conv2d_1 (Conv2D)            (None, 11, 11, 8)         296       \n",
      "_________________________________________________________________\n",
      "max_pooling2d_1 (MaxPooling2 (None, 5, 5, 8)           0         \n",
      "_________________________________________________________________\n",
      "flatten (Flatten)            (None, 200)               0         \n",
      "_________________________________________________________________\n",
      "dense (Dense)                (None, 8)                 1608      \n",
      "_________________________________________________________________\n",
      "dense_1 (Dense)              (None, 3)                 27        \n",
      "=================================================================\n",
      "Total params: 2,043\n",
      "Trainable params: 2,043\n",
      "Non-trainable params: 0\n",
      "_________________________________________________________________\n"
     ]
    }
   ],
   "source": [
    "model.summary()"
   ]
  },
  {
   "cell_type": "markdown",
   "metadata": {},
   "source": [
    "### test data"
   ]
  },
  {
   "cell_type": "code",
   "execution_count": 8,
   "metadata": {},
   "outputs": [
    {
     "name": "stdout",
     "output_type": "stream",
     "text": [
      "학습데이터(x_train)의 이미지 개수는 300 입니다.\n",
      "x_test shape: (300, 28, 28, 3)\n",
      "y_test shape: (300,)\n"
     ]
    }
   ],
   "source": [
    "import numpy as np\n",
    "def load_data(img_path):\n",
    "    # 가위 : 0, 바위 : 1, 보 : 2\n",
    "    number_of_data=300   # 가위바위보 이미지 개수 총합에 주의하세요.\n",
    "    img_size=28\n",
    "    color=3\n",
    "    #이미지 데이터와 라벨(가위 : 0, 바위 : 1, 보 : 2) 데이터를 담을 행렬(matrix) 영역을 생성합니다.\n",
    "    imgs=np.zeros(number_of_data*img_size*img_size*color,dtype=np.int32).reshape(number_of_data,img_size,img_size,color)\n",
    "    labels=np.zeros(number_of_data,dtype=np.int32)\n",
    "\n",
    "    idx=0\n",
    "    for file in glob.iglob(img_path+'/scissor/*.jpg'):\n",
    "        img = np.array(Image.open(file),dtype=np.int32)\n",
    "        imgs[idx,:,:,:]=img    # 데이터 영역에 이미지 행렬을 복사\n",
    "        labels[idx]=0   # 가위 : 0\n",
    "        idx=idx+1\n",
    "\n",
    "    for file in glob.iglob(img_path+'/rock/*.jpg'):\n",
    "        img = np.array(Image.open(file),dtype=np.int32)\n",
    "        imgs[idx,:,:,:]=img    # 데이터 영역에 이미지 행렬을 복사\n",
    "        labels[idx]=1   # 바위 : 1\n",
    "        idx=idx+1       \n",
    "    \n",
    "    for file in glob.iglob(img_path+'/paper/*.jpg'):\n",
    "        img = np.array(Image.open(file),dtype=np.int32)\n",
    "        imgs[idx,:,:,:]=img    # 데이터 영역에 이미지 행렬을 복사\n",
    "        labels[idx]=2   # 보 : 2\n",
    "        idx=idx+1\n",
    "        \n",
    "    print(\"학습데이터(x_train)의 이미지 개수는\",idx,\"입니다.\")\n",
    "    return imgs, labels\n",
    "\n",
    "image_dir_path = os.getenv(\"HOME\") + \"/aiffel/test_rock_scissor_paper\"\n",
    "(x_test, y_test)=load_data(image_dir_path)\n",
    "x_test_norm = x_test/255.0   # 입력은 0~1 사이의 값으로 정규화\n",
    "\n",
    "print(\"x_test shape: {}\".format(x_test.shape))\n",
    "print(\"y_test shape: {}\".format(y_test.shape))"
   ]
  },
  {
   "cell_type": "code",
   "execution_count": 9,
   "metadata": {},
   "outputs": [
    {
     "name": "stdout",
     "output_type": "stream",
     "text": [
      "10/10 - 3s - loss: 1.7029 - accuracy: 0.5433\n",
      "test_loss: 1.7029151916503906 \n",
      "test_accuracy: 0.5433333516120911\n"
     ]
    }
   ],
   "source": [
    "# 모델 시험\n",
    "test_loss, test_accuracy = model.evaluate(x_test_norm, y_test, verbose=2)\n",
    "print(\"test_loss: {} \".format(test_loss))\n",
    "print(\"test_accuracy: {}\".format(test_accuracy))"
   ]
  },
  {
   "cell_type": "code",
   "execution_count": 10,
   "metadata": {},
   "outputs": [
    {
     "name": "stdout",
     "output_type": "stream",
     "text": [
      "예측확률분포: [0.33104506 0.02830178 0.64065313]\n",
      "라벨: 1, 예측결과: 2\n"
     ]
    },
    {
     "data": {
      "image/png": "[encoded data removed]",
      "text/plain": [
       "<Figure size 432x288 with 1 Axes>"
      ]
     },
     "metadata": {
      "needs_background": "light"
     },
     "output_type": "display_data"
    },
    {
     "name": "stdout",
     "output_type": "stream",
     "text": [
      "예측확률분포: [0.00604706 0.86826545 0.12568747]\n",
      "라벨: 2, 예측결과: 1\n"
     ]
    },
    {
     "data": {
      "image/png": "[encoded data removed]",
      "text/plain": [
       "<Figure size 432x288 with 1 Axes>"
      ]
     },
     "metadata": {
      "needs_background": "light"
     },
     "output_type": "display_data"
    },
    {
     "name": "stdout",
     "output_type": "stream",
     "text": [
      "예측확률분포: [4.800486e-06 6.797328e-02 9.320219e-01]\n",
      "라벨: 1, 예측결과: 2\n"
     ]
    },
    {
     "data": {
      "image/png": "[encoded data removed]",
      "text/plain": [
       "<Figure size 432x288 with 1 Axes>"
      ]
     },
     "metadata": {
      "needs_background": "light"
     },
     "output_type": "display_data"
    },
    {
     "name": "stdout",
     "output_type": "stream",
     "text": [
      "예측확률분포: [3.8846982e-01 2.3842289e-04 6.1129177e-01]\n",
      "라벨: 0, 예측결과: 2\n"
     ]
    },
    {
     "data": {
      "image/png": "[encoded data removed]",
      "text/plain": [
       "<Figure size 432x288 with 1 Axes>"
      ]
     },
     "metadata": {
      "needs_background": "light"
     },
     "output_type": "display_data"
    },
    {
     "name": "stdout",
     "output_type": "stream",
     "text": [
      "예측확률분포: [0.04007105 0.9179161  0.04201286]\n",
      "라벨: 2, 예측결과: 1\n"
     ]
    },
    {
     "data": {
      "image/png": "[encoded data removed]",
      "text/plain": [
       "<Figure size 432x288 with 1 Axes>"
      ]
     },
     "metadata": {
      "needs_background": "light"
     },
     "output_type": "display_data"
    }
   ],
   "source": [
    "import numpy as np\n",
    "import matplotlib.pyplot as plt\n",
    "import random\n",
    "\n",
    "predicted_result = model.predict(x_test_norm)  # model이 추론한 확률값. \n",
    "predicted_labels = np.argmax(predicted_result, axis=1)\n",
    "\n",
    "\n",
    "wrong_predict_list=[]\n",
    "for i, _ in enumerate(predicted_labels):\n",
    "    # i번째 test_labels과 y_test이 다른 경우만 모아 봅시다. \n",
    "    if predicted_labels[i] != y_test[i]:\n",
    "        wrong_predict_list.append(i)\n",
    "\n",
    "# wrong_predict_list 에서 랜덤하게 5개만 뽑아봅시다.\n",
    "samples = random.choices(population=wrong_predict_list, k=5)\n",
    "\n",
    "for n in samples:\n",
    "    print(\"예측확률분포: \" + str(predicted_result[n]))\n",
    "    print(\"라벨: \" + str(y_test[n]) + \", 예측결과: \" + str(predicted_labels[n]))\n",
    "    plt.imshow(x_test[n], cmap=plt.cm.binary)\n",
    "    plt.show()"
   ]
  }
 ],
 "metadata": {
  "kernelspec": {
   "display_name": "Python 3",
   "language": "python",
   "name": "python3"
  },
  "language_info": {
   "codemirror_mode": {
    "name": "ipython",
    "version": 3
   },
   "file_extension": ".py",
   "mimetype": "text/x-python",
   "name": "python",
   "nbconvert_exporter": "python",
   "pygments_lexer": "ipython3",
   "version": "3.7.9"
  }
 },
 "nbformat": 4,
 "nbformat_minor": 4
}
