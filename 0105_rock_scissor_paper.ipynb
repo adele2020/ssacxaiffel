{
 "cells": [
  {
   "cell_type": "markdown",
   "metadata": {},
   "source": [
    "# 프로젝트1 : 가위바위보 분류기 만들기"
   ]
  },
  {
   "cell_type": "markdown",
   "metadata": {},
   "source": [
    "## 목표 : 가위, 바위, 보 이미지 사진을 준비해 훈련을 시킬 모델을 만들고 평가한다. "
   ]
  },
  {
   "cell_type": "markdown",
   "metadata": {},
   "source": [
    "## 데이터 준비"
   ]
  },
  {
   "cell_type": "markdown",
   "metadata": {},
   "source": [
    "### 이미지 파일 지원, os 라이브러리 설치¶\n",
    "Python Imaging Library(PIL)은 파이썬 인터프리터에 다양한 이미지 파일 형식을 지원하고  \n",
    "강력한 이미지 처리와 그래픽 기능을 제공하는 자유-오픈 소스 소프트웨어 라이브러리"
   ]
  },
  {
   "cell_type": "code",
   "execution_count": 1,
   "metadata": {},
   "outputs": [
    {
     "name": "stdout",
     "output_type": "stream",
     "text": [
      "PIL 라이브러리 import 완료!\n"
     ]
    }
   ],
   "source": [
    "# PIL 라이브러리가 설치되어 있지 않다면 설치\n",
    "#!pip install pillow   \n",
    "\n",
    "from PIL import Image\n",
    "import os, glob\n",
    "\n",
    "print(\"PIL 라이브러리 import 완료!\")"
   ]
  },
  {
   "cell_type": "code",
   "execution_count": 2,
   "metadata": {},
   "outputs": [
    {
     "data": {
      "text/plain": [
       "'/home/ssac6'"
      ]
     },
     "execution_count": 2,
     "metadata": {},
     "output_type": "execute_result"
    }
   ],
   "source": [
    "# 홈 디렉토리 확인\n",
    "os.getenv(\"HOME\")"
   ]
  },
  {
   "cell_type": "markdown",
   "metadata": {},
   "source": [
    "### 가위 바위 보 이미지를 28x28로 사이즈 조정\n",
    " 가위 (scissor), 바위 (rock), 보 (paper) 이미지가 들어 있는  각 디렉토리명을 feature 변수에 담아 반복문에서 처리"
   ]
  },
  {
   "cell_type": "code",
   "execution_count": 2,
   "metadata": {},
   "outputs": [
    {
     "name": "stdout",
     "output_type": "stream",
     "text": [
      "이미지 디렉토리 경로:  /home/ssac6/aiffel/rock_scissor_paper/scissor\n",
      "scissor 이미지 resize 완료!\n",
      "이미지 디렉토리 경로:  /home/ssac6/aiffel/rock_scissor_paper/rock\n",
      "rock 이미지 resize 완료!\n",
      "이미지 디렉토리 경로:  /home/ssac6/aiffel/rock_scissor_paper/paper\n",
      "paper 이미지 resize 완료!\n"
     ]
    }
   ],
   "source": [
    "import os\n",
    "\n",
    "feature = ['scissor','rock','paper']\n",
    "for a in feature:\n",
    "     # 가위 이미지가 저장된 디렉토리 아래의 모든 jpg 파일을 읽어들여서\n",
    "    image_dir_path = os.getenv(\"HOME\") + \"/aiffel/rock_scissor_paper/\" + a\n",
    "    print(\"이미지 디렉토리 경로: \", image_dir_path)\n",
    "\n",
    "    images=glob.glob(image_dir_path + \"/*.jpg\")  \n",
    "\n",
    "    # 파일마다 모두 28x28 사이즈로 바꾸어 저장합니다.\n",
    "    target_size=(28,28)\n",
    "    for img in images:\n",
    "        old_img=Image.open(img)\n",
    "        new_img=old_img.resize(target_size,Image.ANTIALIAS)\n",
    "        new_img.save(img,\"JPEG\")\n",
    "\n",
    "    print(f\"{a} 이미지 resize 완료!\")"
   ]
  },
  {
   "cell_type": "markdown",
   "metadata": {},
   "source": [
    "### 가위 바위 보 이미지 데이터를 행렬로 저장, 라벨 생성 함수"
   ]
  },
  {
   "cell_type": "code",
   "execution_count": 3,
   "metadata": {},
   "outputs": [],
   "source": [
    "import numpy as np\n",
    "def load_data(img_path, n):\n",
    "    # 가위 : 0, 바위 : 1, 보 : 2\n",
    "    number_of_data=n   # n : 가위바위보 이미지 개수 총합\n",
    "    img_size=28\n",
    "    color=3\n",
    "    #이미지 데이터와 라벨(가위 : 0, 바위 : 1, 보 : 2) 데이터를 담을 행렬(matrix) 영역을 생성합니다.\n",
    "    imgs=np.zeros(number_of_data*img_size*img_size*color,dtype=np.int32).reshape(number_of_data,img_size,img_size,color)\n",
    "    labels=np.zeros(number_of_data,dtype=np.int32)\n",
    "    idx=0\n",
    "    for file in glob.iglob(img_path+'/scissor/*.jpg'):\n",
    "        img = np.array(Image.open(file),dtype=np.int32)\n",
    "        imgs[idx,:,:,:]=img    # 데이터 영역에 이미지 행렬을 복사\n",
    "        labels[idx]=0   # 가위 : 0\n",
    "        idx=idx+1\n",
    "\n",
    "    for file in glob.iglob(img_path+'/rock/*.jpg'):\n",
    "        img = np.array(Image.open(file),dtype=np.int32)\n",
    "        imgs[idx,:,:,:]=img    # 데이터 영역에 이미지 행렬을 복사\n",
    "        labels[idx]=1   # 바위 : 1\n",
    "        idx=idx+1       \n",
    "    \n",
    "    for file in glob.iglob(img_path+'/paper/*.jpg'):\n",
    "        img = np.array(Image.open(file),dtype=np.int32)\n",
    "        imgs[idx,:,:,:]=img    # 데이터 영역에 이미지 행렬을 복사\n",
    "        labels[idx]=2   # 보 : 2\n",
    "        idx=idx+1\n",
    "    \n",
    "    \n",
    "    print(\"데이터의 이미지 개수는\",idx,\"입니다.\")\n",
    "    return imgs, labels"
   ]
  },
  {
   "cell_type": "markdown",
   "metadata": {},
   "source": [
    "### 훈련 데이터 셋과 테스트 데이터 셋 준비\n",
    "\n",
    "훈련 데이터 셋과 테스트 데이터 셋을 데이터의 최대값 255로 나누어 정규화시켜 준비한다. "
   ]
  },
  {
   "cell_type": "code",
   "execution_count": 4,
   "metadata": {},
   "outputs": [
    {
     "name": "stdout",
     "output_type": "stream",
     "text": [
      "데이터의 이미지 개수는 1500 입니다.\n",
      "x_train shape: (1500, 28, 28, 3)\n",
      "y_train shape: (1500,)\n",
      "데이터의 이미지 개수는 300 입니다.\n",
      "x_test shape: (300, 28, 28, 3)\n",
      "y_test shape: (300,)\n"
     ]
    }
   ],
   "source": [
    "image_dir_path = os.getenv(\"HOME\") + \"/aiffel/rock_scissor_paper\"\n",
    "(x_train, y_train)=load_data(image_dir_path,1500)\n",
    "x_train_norm = x_train/255.0   # 입력은 0~1 사이의 값으로 정규화\n",
    "\n",
    "print(\"x_train shape: {}\".format(x_train.shape))\n",
    "print(\"y_train shape: {}\".format(y_train.shape))"
   ]
  },
  {
   "cell_type": "code",
   "execution_count": 14,
   "metadata": {},
   "outputs": [
    {
     "name": "stdout",
     "output_type": "stream",
     "text": [
      "데이터의 이미지 개수는 300 입니다.\n",
      "x_test shape: (300, 28, 28, 3)\n",
      "y_test shape: (300,)\n"
     ]
    }
   ],
   "source": [
    "image_dir_path = os.getenv(\"HOME\") + \"/aiffel/test_rock_scissor_paper\"\n",
    "(x_test, y_test)=load_data(image_dir_path,300)\n",
    "x_test_norm = x_test/255.0   # 입력은 0~1 사이의 값으로 정규화\n",
    "\n",
    "print(\"x_test shape: {}\".format(x_test.shape))\n",
    "print(\"y_test shape: {}\".format(y_test.shape))"
   ]
  },
  {
   "cell_type": "code",
   "execution_count": 5,
   "metadata": {},
   "outputs": [
    {
     "name": "stdout",
     "output_type": "stream",
     "text": [
      "최소값: 0  최대값: 255\n"
     ]
    }
   ],
   "source": [
    "import numpy as np\n",
    "print('최소값:',np.min(x_train), ' 최대값:',np.max(x_train))"
   ]
  },
  {
   "cell_type": "markdown",
   "metadata": {},
   "source": [
    "## 모델 생성"
   ]
  },
  {
   "cell_type": "code",
   "execution_count": 6,
   "metadata": {},
   "outputs": [
    {
     "name": "stdout",
     "output_type": "stream",
     "text": [
      "Model에 추가된 Layer 개수:  7\n"
     ]
    }
   ],
   "source": [
    "import tensorflow as tf\n",
    "from tensorflow import keras\n",
    "import numpy as np\n",
    "\n",
    "model=keras.models.Sequential()\n",
    "\n",
    "model.add(keras.layers.Conv2D(8, (3,3), activation='relu', input_shape=(28,28,3)))\n",
    "#Conv2D()의 8, 16은 얼마나 다양한 이미지의 특징을 살펴볼 것인가? ( 입력 이미지가 다양할수록 더 많은 특징을 고려해보자. )\n",
    "#input_shape=(28,28,3) 채널 수 흑백은 1, 칼라라면 3\n",
    "model.add(keras.layers.MaxPool2D(2,2))\n",
    "model.add(keras.layers.Conv2D(16, (3,3), activation='relu'))\n",
    "model.add(keras.layers.MaxPooling2D((2,2)))\n",
    "model.add(keras.layers.Flatten())\n",
    "model.add(keras.layers.Dense(8, activation='relu'))\n",
    "model.add(keras.layers.Dense(3, activation='softmax'))\n",
    "#Dense()의 8은 분류기 알고리즘을 얼마나 복잡하게 할 것인가?( 복잡한 문제일수록 이 수를 늘려보자. )\n",
    "#Dense()의 3은 최종분류기의 class 수, 여기서는 가위,바위,보까지 총 3개의 class를 구분하므로 3.\n",
    "print('Model에 추가된 Layer 개수: ', len(model.layers))"
   ]
  },
  {
   "cell_type": "markdown",
   "metadata": {},
   "source": [
    "## 모델 훈련 "
   ]
  },
  {
   "cell_type": "markdown",
   "metadata": {},
   "source": [
    "optimizer : adm   \n",
    "loss :sparse_categorical_crossentropy  다중분류손실함수 입력값을 정수값 그대로 사용할 때 사용   \n",
    "metrics : accuracy 정확도로 평가   "
   ]
  },
  {
   "cell_type": "code",
   "execution_count": 7,
   "metadata": {},
   "outputs": [
    {
     "name": "stdout",
     "output_type": "stream",
     "text": [
      "Epoch 1/50\n",
      "47/47 [==============================] - 12s 245ms/step - loss: 1.0959 - accuracy: 0.3440\n",
      "Epoch 2/50\n",
      "47/47 [==============================] - 0s 7ms/step - loss: 1.0875 - accuracy: 0.3653\n",
      "Epoch 3/50\n",
      "47/47 [==============================] - 0s 7ms/step - loss: 1.0683 - accuracy: 0.3993\n",
      "Epoch 4/50\n",
      "47/47 [==============================] - 0s 7ms/step - loss: 1.0289 - accuracy: 0.4493\n",
      "Epoch 5/50\n",
      "47/47 [==============================] - 0s 7ms/step - loss: 0.9756 - accuracy: 0.4993\n",
      "Epoch 6/50\n",
      "47/47 [==============================] - 0s 7ms/step - loss: 0.8966 - accuracy: 0.5360\n",
      "Epoch 7/50\n",
      "47/47 [==============================] - 0s 8ms/step - loss: 0.8494 - accuracy: 0.5420\n",
      "Epoch 8/50\n",
      "47/47 [==============================] - 0s 8ms/step - loss: 0.7825 - accuracy: 0.6240\n",
      "Epoch 9/50\n",
      "47/47 [==============================] - 0s 7ms/step - loss: 0.7478 - accuracy: 0.6407\n",
      "Epoch 10/50\n",
      "47/47 [==============================] - 0s 7ms/step - loss: 0.6944 - accuracy: 0.6887\n",
      "Epoch 11/50\n",
      "47/47 [==============================] - 0s 7ms/step - loss: 0.6674 - accuracy: 0.7267\n",
      "Epoch 12/50\n",
      "47/47 [==============================] - 0s 7ms/step - loss: 0.6310 - accuracy: 0.7587\n",
      "Epoch 13/50\n",
      "47/47 [==============================] - 0s 7ms/step - loss: 0.6148 - accuracy: 0.7740\n",
      "Epoch 14/50\n",
      "47/47 [==============================] - 0s 7ms/step - loss: 0.5707 - accuracy: 0.8073\n",
      "Epoch 15/50\n",
      "47/47 [==============================] - 0s 7ms/step - loss: 0.5361 - accuracy: 0.8040\n",
      "Epoch 16/50\n",
      "47/47 [==============================] - 0s 7ms/step - loss: 0.5200 - accuracy: 0.8160\n",
      "Epoch 17/50\n",
      "47/47 [==============================] - 0s 7ms/step - loss: 0.4978 - accuracy: 0.8327\n",
      "Epoch 18/50\n",
      "47/47 [==============================] - 0s 8ms/step - loss: 0.4705 - accuracy: 0.8427\n",
      "Epoch 19/50\n",
      "47/47 [==============================] - 0s 7ms/step - loss: 0.4537 - accuracy: 0.8540\n",
      "Epoch 20/50\n",
      "47/47 [==============================] - 0s 7ms/step - loss: 0.4419 - accuracy: 0.8553\n",
      "Epoch 21/50\n",
      "47/47 [==============================] - 0s 7ms/step - loss: 0.3989 - accuracy: 0.8740\n",
      "Epoch 22/50\n",
      "47/47 [==============================] - 0s 7ms/step - loss: 0.3787 - accuracy: 0.8720\n",
      "Epoch 23/50\n",
      "47/47 [==============================] - 0s 7ms/step - loss: 0.3691 - accuracy: 0.8807\n",
      "Epoch 24/50\n",
      "47/47 [==============================] - 0s 7ms/step - loss: 0.3528 - accuracy: 0.8900\n",
      "Epoch 25/50\n",
      "47/47 [==============================] - 0s 7ms/step - loss: 0.3348 - accuracy: 0.8940\n",
      "Epoch 26/50\n",
      "47/47 [==============================] - 0s 8ms/step - loss: 0.3102 - accuracy: 0.9013\n",
      "Epoch 27/50\n",
      "47/47 [==============================] - 0s 7ms/step - loss: 0.3008 - accuracy: 0.9000\n",
      "Epoch 28/50\n",
      "47/47 [==============================] - 0s 7ms/step - loss: 0.2945 - accuracy: 0.8987\n",
      "Epoch 29/50\n",
      "47/47 [==============================] - 0s 7ms/step - loss: 0.2696 - accuracy: 0.9153\n",
      "Epoch 30/50\n",
      "47/47 [==============================] - 0s 8ms/step - loss: 0.2595 - accuracy: 0.9187\n",
      "Epoch 31/50\n",
      "47/47 [==============================] - 0s 7ms/step - loss: 0.2460 - accuracy: 0.9253\n",
      "Epoch 32/50\n",
      "47/47 [==============================] - 0s 7ms/step - loss: 0.2331 - accuracy: 0.9327\n",
      "Epoch 33/50\n",
      "47/47 [==============================] - 0s 7ms/step - loss: 0.2323 - accuracy: 0.9300\n",
      "Epoch 34/50\n",
      "47/47 [==============================] - 0s 8ms/step - loss: 0.2269 - accuracy: 0.9280\n",
      "Epoch 35/50\n",
      "47/47 [==============================] - 0s 8ms/step - loss: 0.2118 - accuracy: 0.9353\n",
      "Epoch 36/50\n",
      "47/47 [==============================] - 0s 7ms/step - loss: 0.2068 - accuracy: 0.9373\n",
      "Epoch 37/50\n",
      "47/47 [==============================] - 0s 7ms/step - loss: 0.1880 - accuracy: 0.9480\n",
      "Epoch 38/50\n",
      "47/47 [==============================] - 0s 7ms/step - loss: 0.1875 - accuracy: 0.9413\n",
      "Epoch 39/50\n",
      "47/47 [==============================] - 0s 7ms/step - loss: 0.1779 - accuracy: 0.9507\n",
      "Epoch 40/50\n",
      "47/47 [==============================] - 0s 7ms/step - loss: 0.1727 - accuracy: 0.9527\n",
      "Epoch 41/50\n",
      "47/47 [==============================] - 0s 7ms/step - loss: 0.1622 - accuracy: 0.9500\n",
      "Epoch 42/50\n",
      "47/47 [==============================] - 0s 7ms/step - loss: 0.1624 - accuracy: 0.9513\n",
      "Epoch 43/50\n",
      "47/47 [==============================] - 0s 7ms/step - loss: 0.1559 - accuracy: 0.9527\n",
      "Epoch 44/50\n",
      "47/47 [==============================] - 0s 7ms/step - loss: 0.1566 - accuracy: 0.9513\n",
      "Epoch 45/50\n",
      "47/47 [==============================] - 0s 8ms/step - loss: 0.1413 - accuracy: 0.9587\n",
      "Epoch 46/50\n",
      "47/47 [==============================] - 0s 7ms/step - loss: 0.1354 - accuracy: 0.9607\n",
      "Epoch 47/50\n",
      "47/47 [==============================] - 0s 7ms/step - loss: 0.1402 - accuracy: 0.9593\n",
      "Epoch 48/50\n",
      "47/47 [==============================] - 0s 7ms/step - loss: 0.1498 - accuracy: 0.9553\n",
      "Epoch 49/50\n",
      "47/47 [==============================] - 0s 7ms/step - loss: 0.1370 - accuracy: 0.9633\n",
      "Epoch 50/50\n",
      "47/47 [==============================] - 0s 7ms/step - loss: 0.1258 - accuracy: 0.9620\n"
     ]
    },
    {
     "data": {
      "text/plain": [
       "<tensorflow.python.keras.callbacks.History at 0x7f1e5bb09190>"
      ]
     },
     "execution_count": 7,
     "metadata": {},
     "output_type": "execute_result"
    }
   ],
   "source": [
    "model.compile(optimizer='adam',\n",
    "             loss='sparse_categorical_crossentropy',\n",
    "             metrics=['accuracy'])\n",
    "\n",
    "model.fit(x_train_norm, y_train, epochs=50) #50회 반복 "
   ]
  },
  {
   "cell_type": "markdown",
   "metadata": {},
   "source": [
    "## 생성된 모델에 대한 확인"
   ]
  },
  {
   "cell_type": "code",
   "execution_count": 8,
   "metadata": {},
   "outputs": [
    {
     "name": "stdout",
     "output_type": "stream",
     "text": [
      "Model: \"sequential\"\n",
      "_________________________________________________________________\n",
      "Layer (type)                 Output Shape              Param #   \n",
      "=================================================================\n",
      "conv2d (Conv2D)              (None, 26, 26, 8)         224       \n",
      "_________________________________________________________________\n",
      "max_pooling2d (MaxPooling2D) (None, 13, 13, 8)         0         \n",
      "_________________________________________________________________\n",
      "conv2d_1 (Conv2D)            (None, 11, 11, 16)        1168      \n",
      "_________________________________________________________________\n",
      "max_pooling2d_1 (MaxPooling2 (None, 5, 5, 16)          0         \n",
      "_________________________________________________________________\n",
      "flatten (Flatten)            (None, 400)               0         \n",
      "_________________________________________________________________\n",
      "dense (Dense)                (None, 8)                 3208      \n",
      "_________________________________________________________________\n",
      "dense_1 (Dense)              (None, 3)                 27        \n",
      "=================================================================\n",
      "Total params: 4,627\n",
      "Trainable params: 4,627\n",
      "Non-trainable params: 0\n",
      "_________________________________________________________________\n"
     ]
    }
   ],
   "source": [
    "model.summary()"
   ]
  },
  {
   "cell_type": "markdown",
   "metadata": {},
   "source": [
    "## 모델 평가\n",
    "### 손실은 0.85, 정확도가 76% "
   ]
  },
  {
   "cell_type": "code",
   "execution_count": 15,
   "metadata": {},
   "outputs": [
    {
     "name": "stdout",
     "output_type": "stream",
     "text": [
      "10/10 - 0s - loss: 0.6220 - accuracy: 0.7633\n",
      "test_loss: 0.6220095753669739 \n",
      "test_accuracy: 0.7633333206176758\n"
     ]
    }
   ],
   "source": [
    "# 모델 시험\n",
    "test_loss, test_accuracy = model.evaluate(x_test_norm, y_test, verbose=2)\n",
    "print(\"test_loss: {} \".format(test_loss))\n",
    "print(\"test_accuracy: {}\".format(test_accuracy))"
   ]
  },
  {
   "cell_type": "markdown",
   "metadata": {},
   "source": [
    "### 모델이 잘못 예측한 결과를 라벨과 비교해서 확인"
   ]
  },
  {
   "cell_type": "code",
   "execution_count": 10,
   "metadata": {},
   "outputs": [
    {
     "name": "stdout",
     "output_type": "stream",
     "text": [
      "예측확률분포: [1.2944739e-07 9.8096484e-01 1.9035069e-02]\n",
      "라벨: 2, 예측결과: 1\n"
     ]
    },
    {
     "data": {
      "image/png": "[encoded data removed]",
      "text/plain": [
       "<Figure size 432x288 with 1 Axes>"
      ]
     },
     "metadata": {
      "needs_background": "light"
     },
     "output_type": "display_data"
    },
    {
     "name": "stdout",
     "output_type": "stream",
     "text": [
      "예측확률분포: [0.34344313 0.3517568  0.3048001 ]\n",
      "라벨: 2, 예측결과: 1\n"
     ]
    },
    {
     "data": {
      "image/png": "[encoded data removed]",
      "text/plain": [
       "<Figure size 432x288 with 1 Axes>"
      ]
     },
     "metadata": {
      "needs_background": "light"
     },
     "output_type": "display_data"
    },
    {
     "name": "stdout",
     "output_type": "stream",
     "text": [
      "예측확률분포: [8.471550e-01 9.094722e-05 1.527541e-01]\n",
      "라벨: 2, 예측결과: 0\n"
     ]
    },
    {
     "data": {
      "image/png": "[encoded data removed]",
      "text/plain": [
       "<Figure size 432x288 with 1 Axes>"
      ]
     },
     "metadata": {
      "needs_background": "light"
     },
     "output_type": "display_data"
    },
    {
     "name": "stdout",
     "output_type": "stream",
     "text": [
      "예측확률분포: [3.166390e-07 9.584221e-01 4.157756e-02]\n",
      "라벨: 2, 예측결과: 1\n"
     ]
    },
    {
     "data": {
      "image/png": "[encoded data removed]",
      "text/plain": [
       "<Figure size 432x288 with 1 Axes>"
      ]
     },
     "metadata": {
      "needs_background": "light"
     },
     "output_type": "display_data"
    },
    {
     "name": "stdout",
     "output_type": "stream",
     "text": [
      "예측확률분포: [0.24246179 0.52388376 0.23365445]\n",
      "라벨: 2, 예측결과: 1\n"
     ]
    },
    {
     "data": {
      "image/png": "[encoded data removed]",
      "text/plain": [
       "<Figure size 432x288 with 1 Axes>"
      ]
     },
     "metadata": {
      "needs_background": "light"
     },
     "output_type": "display_data"
    }
   ],
   "source": [
    "import numpy as np\n",
    "import matplotlib.pyplot as plt\n",
    "import random\n",
    "\n",
    "predicted_result = model.predict(x_test_norm)  # model이 추론한 확률값. \n",
    "predicted_labels = np.argmax(predicted_result, axis=1)\n",
    "\n",
    "\n",
    "wrong_predict_list=[]\n",
    "for i, _ in enumerate(predicted_labels):\n",
    "    # i번째 test_labels과 y_test이 다른 경우만 모아 봅시다. \n",
    "    if predicted_labels[i] != y_test[i]:\n",
    "        wrong_predict_list.append(i)\n",
    "\n",
    "# wrong_predict_list 에서 랜덤하게 5개만 뽑아봅시다.\n",
    "samples = random.choices(population=wrong_predict_list, k=5)\n",
    "\n",
    "for n in samples:\n",
    "    print(\"예측확률분포: \" + str(predicted_result[n]))\n",
    "    print(\"라벨: \" + str(y_test[n]) + \", 예측결과: \" + str(predicted_labels[n]))\n",
    "    plt.imshow(x_test[n], cmap=plt.cm.binary)\n",
    "    plt.show()"
   ]
  },
  {
   "cell_type": "markdown",
   "metadata": {},
   "source": [
    "## 느낀점\n",
    "\n",
    "\n",
    "#### 좋은 훈련 데이터를 많이 확보하는 것이 단연 모델의 정확도를 높이는 방법인것 같다.  사진을 만들 때 아래의 주의 사항을 잊었던거 같다. \n",
    "\n",
    "\n",
    "    여러 각도에서 찍어보세요.\n",
    "    여러 크기로 찍어보세요.\n",
    "    혼자하면 다양한 각도와 크기를 저장할 수 없으니, 옆 동료와 함께 하세요.\n",
    "    좋은 데이터가 좋은 결과를 낳는다는 것을 꼭 기억하세요.\n",
    "\n",
    "\n",
    "#### 하지만 데이터 양이 적을 때 최적의 하이퍼파라미터를 찾는데 도움이 될 수있는 교차검증(Cross Validation)을 배웠었다.\n",
    "\n",
    "#### 이번 과제에서도 교차검증을 적용해 하이퍼파라미터를 찾을 수 있지 않을까 생각했었다. 하지만 하지 못했다. \n",
    "\n",
    "#### 사이킷런에서는 그리드서치나 랜덤서치를 이용해 하이퍼파라미터를 찾는데, 케라스로 만들어진 모델과 연결하는 방법도 있는거 같다. \n",
    "\n",
    "#### 아직 딥러닝에 공부가 부족해 무엇을 어떻게 해야 좋을지 모른체 프로젝트를 마무리한거 같아 아쉽다. \n",
    "\n",
    "\n",
    "\n"
   ]
  }
 ],
 "metadata": {
  "kernelspec": {
   "display_name": "Python 3",
   "language": "python",
   "name": "python3"
  },
  "language_info": {
   "codemirror_mode": {
    "name": "ipython",
    "version": 3
   },
   "file_extension": ".py",
   "mimetype": "text/x-python",
   "name": "python",
   "nbconvert_exporter": "python",
   "pygments_lexer": "ipython3",
   "version": "3.7.9"
  }
 },
 "nbformat": 4,
 "nbformat_minor": 4
}
